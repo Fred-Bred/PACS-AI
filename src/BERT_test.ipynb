{
 "cells": [
  {
   "cell_type": "code",
   "execution_count": 1,
   "metadata": {},
   "outputs": [
    {
     "name": "stderr",
     "output_type": "stream",
     "text": [
      "c:\\Users\\frbre\\OneDrive\\01 Dokumenter\\01 Uni\\SDS Thesis\\venv\\Lib\\site-packages\\tqdm\\auto.py:21: TqdmWarning: IProgress not found. Please update jupyter and ipywidgets. See https://ipywidgets.readthedocs.io/en/stable/user_install.html\n",
      "  from .autonotebook import tqdm as notebook_tqdm\n"
     ]
    }
   ],
   "source": [
    "import os\n",
    "os.environ[\"KERAS_BACKEND\"] = \"torch\"\n",
    "# import sys\n",
    "# sys.path.append(r\".\\src\\utils\")\n",
    "import keras\n",
    "from keras import layers\n",
    "import numpy as np\n",
    "import torch\n",
    "from transformers import BertTokenizer, BertModel, BertForSequenceClassification\n",
    "import torch.nn as nn\n",
    "from torch.utils.data import TensorDataset, DataLoader, RandomSampler, SequentialSampler\n",
    "import utils.model as model\n",
    "from utils.transcript import *\n",
    "import pandas as pd\n",
    "from sklearn.model_selection import train_test_split\n",
    "from torchsummary import summary"
   ]
  },
  {
   "cell_type": "markdown",
   "metadata": {},
   "source": [
    "## Data"
   ]
  },
  {
   "cell_type": "code",
   "execution_count": 2,
   "metadata": {},
   "outputs": [],
   "source": [
    "folder_path = r'C:\\Users\\frbre\\OneDrive\\01 Dokumenter\\01 Uni\\SDS Thesis\\data\\test'"
   ]
  },
  {
   "cell_type": "code",
   "execution_count": 3,
   "metadata": {},
   "outputs": [],
   "source": [
    "file_path = r\"C:\\Users\\frbre\\OneDrive\\01 Dokumenter\\01 Uni\\SDS Thesis\\data\\test\\1102 JBOV Session 3.doc\""
   ]
  },
  {
   "cell_type": "code",
   "execution_count": 4,
   "metadata": {},
   "outputs": [
    {
     "data": {
      "text/plain": [
       "['I’m ok. I’m feeling a little, ah, stressed because of everything coming up, um, but/\\r',\n",
       " 'um, yeah, I, uh, my personal statement is like second draft form, and then I’m working on it, and it’s, it’s almost done. my friend Zach read it, and I think he made it more difficult for me to write it.\\r',\n",
       " 'just by giving me constructive criticism and being like, be more specific, y’know, as if the specificity is important, like they want to know exactly what’s going to set you apart from the other people, or highlight this, or make this, and I’m like, ok, alright/\\r',\n",
       " '(kind of laughing) yeah, but not that one, cause we already did that\\r',\n",
       " 'um, but then there’s preparing all those monologues for my audition.  I know which ones I’m doing and I’ve started working on them, um, and then I have an audition tomorrow, which I’m looking at, and then my class starts on Tuesday, for improv, and I sent an e-mail to those Shakespeare people that I thought I might audition with, and they’ve already cast everything but they’re, Chris is still considering me potentially for an understudy role, so I don’t know at all if and when I’ll hear back from them\\r',\n",
       " 'yeah, yeah, yeah, yeah, so, we’ll see.  I told them that I had a class starting. I didn’t tell them I had another audition, but/\\r',\n",
       " 'yeah, because I didn’t get the sides, so yeah, so whatever, but it’s just like stuff’s, I mean like stuff’s happening, which it’s good, but it’s like piling up and I’m trying to find time to like get everything done and worry that I’m focusing on my essay too much when I should be focusing on my audition because that’s like (T: right) I, I don’t know\\r',\n",
       " 'yeah\\r',\n",
       " 'the ball is in motion\\r',\n",
       " 'yeah, well how much, I mean, I know I can handle it all, but it’s how much, when, what hour can, well, it’s only if like there were like three more hours in the day I think I’d be, I’d be happier. \\r',\n",
       " 'oh, yeah, yeah, I’m, I’m in a good place, yeah/\\r',\n",
       " 'yeah, yeah (- -) I found out, I don’t think I’m supposed to know, but my, a friend of, a friend of a friend, who has kind of become my friend, is actually at NYU right now, in the MFA program (T: uh-huh) um, which I’m applying for, and, ah, she asked me when my audition was, and then she asked my friend Jubin what my last name was, and I was like, what is Julie doing, what does she want to know, and he told me, he’s like, I probably am not supposed to tell you this but I think, I think she’s giving you a recommendation, and so, that like, on top of everything, I’m like, oh my God, all right, ok, that could be, that could be good, that could be, I don’t know what that means, but, the, last night with Rory I was like, what if I do get in, not that I don’t, I mean, I don’t know what I think, it’s not really a solid, I mean yeah it’s been a possibility, but it hasn’t been something that I’ve been like, oh, yeah, I’m definitely getting in\\r',\n",
       " 'and I’d probably go broke\\r',\n",
       " 'it would be a very big change\\r',\n",
       " 'I mean it would be being a student, it would be that focused performance all the time, that constantly working on something else, um, yeah, the money issue would be whatever yeah, I don’t, I don’t even want to think about how much money it would be to finish my, I mean on top of everything else I have to finish my FAFSA like application, and try to get loans (sigh) it’s all good stuff (T: yeah) y’know, it’s not, it’s not bad things\\r',\n",
       " 'yeah, yeah, it is all for me. and I found out that Jessica is, she started taking an anti-depressant (T: oh) yeah, my sister, Jennifer, she didn’t tell me, Jennifer told me. she said that Jessica had been like having a conversation with like, oh, like maybe I should start taking medica-the anti-depressant, and Jennifer was like, yeah, I mean like why not, see if it helps. and then Jessica was like, well, I started taking it like three weeks ago, and I don’t know if it’s like started affecting me yet, so/\\r',\n",
       " 'I don’t, actually, I haven’t asked her about it. I should just like call her and be like, what’s up, what are you doing?  Jennifer said, I mean we talked about you behind your back, and Jennifer said that you’re taking medication, so... but she does seem to be like, a little, like, a little better, a little more even, um, not as depressed, I mean it’s an anti-depressant, so I hope it helps, um, but she’s like organizing what we’re going to buy my parents for my 40th, for their 40th wedding anniversary, and stuff she hasn’t really done before, which is good, so that makes me kind of go, ok, my sister’s trying to figure out her life, I don’t have to do it, not that I have to do it, but blah, blah, blah, blah, blah, blah, blah (laughs), sorry\\r',\n",
       " 'that, cause that’s what I feel like I’m doing\\r',\n",
       " 'yeah\\r',\n",
       " 'to what? you? (T: yeah) nothing, to talk, to tell you, I don’t know that’s what I’m supposed to do I guess\\r',\n",
       " 'I go on little (twirling finger), when I/\\r',\n",
       " 'I don’t know what I should talk about, um, well, I told my boss this morning, well here, wait, I can do it, I told my boss this morning that I was applying to grad school, and she was like, ah, oh yeah, you gotta do it, no rock should be left unturned, and I was just like, absolutely, um, - - - well - - (laughs) when I’m forced to, not forced, you’re not forcing me, but when it’s (waving hand) I stop - - - - - - I’m thinking about the last time we did the silence thing, and it’s making me laugh again, - - - cause it’s silly, I don’t like silence - - - (sighs) you’re not going to talk, are you? (laughs)\\r',\n",
       " '- - - - - my boyfriend called, and bought me a sandwich from this, ah, from this store, this mozzarella, like, bakery place, and I was like mm that’s amazing mozzarella, and we’ve heard like rumors about these sandwiches that they make, and you can only get them on certain days of the week, in between like certain hours, and if they run out of beef and mozzarella, or if they just don’t make them, and he called me, and he’s like, I bought you a sandwich, you don’t, you’ve got dinner and lunch tomorrow cause they’re huge, so, that’s good\\r',\n",
       " 'no, he’s here (T: oh) he’s in Hoboken, um, he was gonna, he doesn’t have a job, so he’s gonna temp, and he was gonna come into the office, my office, tomorrow and Monday to do some filing for us, and every time he’s almost come into the office, he gets another job with like one of those temp agencies, so he’s, he was worried that my boss hates him because of that, but both, both Michelle and I just laughed about it. we were like, come on Rory, you’re a comedian, you’ve got to have thicker skin. why would she hate you? it doesn’t matter.\\r',\n",
       " 'yeah - - yes.  that’s why I love him, because he’s sensitive (laughs)\\r',\n",
       " 'it’s good, I think, um, I’m speaking up for things.  why? you don’t think it is?\\r',\n",
       " 'I do think that I’m, I’m good. I feel good, I feel, I feel confident and, like, - - - not defensive um, and not offensive, um, I don’t know I just feel good, I feel, I feel stronger.\\r',\n",
       " 'I don’t know, what do you?\\r',\n",
       " '- - - - - - no, I don’t, I, I think, I was going, going, going, and then I was like, ok, this, this, I don’t know, is this all right, and then I think when I do I project the question of whether or not like oh I want is Oren okay with this I mean I guess are we, um, I mean, was this ok, was this supposed to happen, um, was I supposed to keep, y’know, does that make sense?\\r',\n",
       " 'yeah, - - yes.\\r',\n",
       " 'what do I think?\\r',\n",
       " 'which is the more accurate answer than the rational answer\\r',\n",
       " 'sometimes we are\\r',\n",
       " 'yeah, - - I do - - absolutely will be, yeah, hanging out, going to a bar, going to see a show, hanging out before a show, whatever, I do, I, when there’s silence I’m like - - - - - who’s supposed to say the next thing? \\r',\n",
       " 'all of the above. I mean sometimes, yeah, it’s nice to have silence, and I don’t, but if you were to give it like a, which is more often than the other, I think, more of the time I do go, I don’t, is this ok, rather than, oh I’ll just relax and hang out.  (T: mm) and I’m trying to figure out how to be more of the silence is ok, through y’know my, my yoga, through my trying to figure out my balancing of my own like personal anxieties, like\\r',\n",
       " 'from that filler?\\r',\n",
       " 'yeah, yeah, yeah, yeah, yeah.  what am I trying to gain?\\r',\n",
       " 'I don’t know, maybe I have the expectation of myself that I am supposed to fill the 45 minutes?\\r',\n",
       " 'well, ah, then, saying, like, actually saying that out loud, and thinking about it and hearing it, it makes me feel as if then, what’s the point, like, I’m just talking to somebody rather than actually like doing therapy, cause that should be a back and forth thing, right?\\r',\n",
       " 'well, it’s almost like otherwise why am I, you know, what’s the point?\\r',\n",
       " 'I don’t know (clears throat) not consciously\\r',\n",
       " 'it would (clears throat) obviously it would depend on the tone but saying it sounds like judgment it would be, I think I would be like, oh, hm, maybe this isn’t, is it ok, like I would be worried as you, if there was more, what, had I done something wrong, had I, you know?\\r',\n",
       " 'I don’t know. ok is like, on a positive-negative scale, ok is like more on the positive.\\r',\n",
       " 'yeah, yeah.  am I doing well or, yes, is this worth my therapist’s time, so I mean I guess yeah going back to last week, I do hope that there’s some sort of like investment on your part or on my therapist’s part, in me\\r',\n",
       " '(nodding) well, yes, and I, that, that goes back to part of the reason why I signed up, was, I had this moment where I was with, I had just seen a show, and I was with some of my friends, and all of a sudden, like, I was putting my judgment of myself through someone else’s eyes. like it was like this, this realization that I was doing it, that I was looking at my friend Tim, and I was like, oh my God, Tim thinks I’m not, y’know, I didn’t say something the right way, or I wasn’t smart enough. I don’t remember who it was, y’know, who exactly it was but it was me saying, oh, Tim thinks this, I see him looking at me that way, and that was, I, I realized in that moment that that was me putting my personal judgment of myself onto somebody else, like shifting the responsibility\\r',\n",
       " 'yeah, but that was the moment that I realized that that’s what I was doing.\\r',\n",
       " 'um-hm, yeah, that yeah, I don’t know, I mean everyone says you are your own worst critic, in that/\\r',\n",
       " 'no, people say, I mean, I think people say it in general, I mean, I’ve said it, I’ve heard my friends say it, about themselves, and y’know about the world, um, and I, I think I am, I, I do have expectations for myself, I do y’know think I should and shouldn’t, whatever, um, I don’t know why I can’t just give myself a break, but I don’t, so I do project, y’know.\\r',\n",
       " 'it drags, it drags me down, it doesn’t help me at all\\r',\n",
       " 'no, yeah, yeah, yeah, yeah\\r',\n",
       " 'no, I mean it, it makes sense, it’s um, I think that your next question is going to be, why do you do that? why do you think that happens? um\\r',\n",
       " 'yeah, yeah, yeah - - - I think it’s a fairly accurate depiction of what I do. why? or, how to not?  I guess that’s why I’m here.\\r',\n",
       " 'yes, I notice.\\r',\n",
       " 'well, I think it goes back to when you asked me, that we were talking about how I avoid the emotional aspect of things, that I, y’know, just play ping pong, and I keep my goal and make you, y’know, go away from that space. that it’s, y’know, coming into that space that makes me kind of settle in and go, oh (sigh), take a breath into it and go like, here’s where we are, but what does that to me, how does that affect me?\\r',\n",
       " 'I don’t feel uncomfortable right now, so, um/\\r',\n",
       " 'could it, wait, rewind, could it/\\r',\n",
       " 'yeah.\\r',\n",
       " 'and they didn’t laugh at it (T: um) I think, I think in like my current state I’m, I would, I would just be like, all right (smirks) better luck next time - - - - - - or, the opposite, I mean I don’t know, it could, it could parlay into my incessant chatter trying to, I don’t know, I could pick up, if I felt that, something hadn’t gone right or if, you know, I didn’t get the response that I wanted, someone laughs, I could pick it up and go, oh, well change the subject, make it different, create something else, so that- - -\\r',\n",
       " 'yeah\\r',\n",
       " 'no, I think it’s more nervous but I think it also becomes that, ah, that, that, that, ah, self-deprecation type, ah, nervousness, when it’s like oh, well, there I go, I didn’t say something funny, so, Jordan’s not the funny one, y’know, I don’t know, does that make sense?\\r',\n",
       " 'right, because I’m not necessarily comfortable in the other space (T: right) so it’s, it, I don’t know I mean comfortable in the, in the, y’know, y’know, either or, I think it’s more frequently am I the, dd-tt-dididi-ta-da, y’know, just the, more often I’m diffused than (T: centered) centered\\r',\n",
       " 'yeah, yeah right, and um it’s a matter of, I think, I want to be more comfortable in that, that kind of space, where I don’t care, I let it roll off my, y’know.  I, I just finished that book, the (incomprensible- name of the book), that I was reading last week, and, like, he talks about all this, just letting go, and y’know the sense of Buddhism and meditation and how you just, you just let, separate yourself from that, like, it’s almost a material thing, but not you, does that make sense, like you just kind of separate yourself from that idea of having to do, or what’s expected, or whatever, you kinda give youself this space to just kinda do whatever you do, however it plans, however it, y’know, does itself, that’s what happens, and you move forward, and then release it.\\r',\n",
       " 'No, I can’t remember off the top of my head. (T: right) but it’s a good book and it talks about teaching meditation and how this guy changed his life through meditation.\\r',\n",
       " 'I have, um, I do find it very difficult because I find it very difficult to quiet my mind, so in - - - focusing my breath, which is what your basic meditation is, focusing on your breath, I always find myself having to say, get back to the breath, ok, you know.\\r',\n",
       " 'exactly, allowing, like, yeah, you went away from your breath, so what, come back.\\r',\n",
       " 'yeah, not judging myself for having stepped away from the breath, yeah, cause when I’m done I’m like uuuh, that’s not what you’re supposed to do, so yeah.\\r',\n",
       " 'I don’t know, I don’t know, what you’re supposed to feel but I’m like ok I can’t do this anymore, so that’s when I end, or if I do find myself relaxed enough, or just kind of really breathing, I’m like, ok, good, all right, I’m done. you just, kind of, I think know.\\r',\n",
       " 'um - - - - no specific, sometimes I’ll meditate/\\r',\n",
       " 'sometimes I’ll do it when I go to bed. sometimes I’ll be in a situation, uh, like, anywhere, sometimes I’ll be at work and I’ll be doing so many things and I’m like, I just (sigh) take a deep breath or y’know just focus on it and I’m walking down the street, listening to everything that’s going on, I’m like ok, let’s center, see what that does right now, so.\\r',\n",
       " 'yeah, which I don’t use frequently enough (T: mm-hm) or I haven’t mastered. it’s like a training kit tool, or a training wheels tool.\\r',\n",
       " '- - - - - - ahh, I don’t know.\\r',\n",
       " '- - - - mm - - - - - - - - ah, I don’t know, sometimes I think that my focus and drive on what I want to accomplish can help me, y’know, create a thing that I go towards so that feels like I’m centering, does that make sense?\\r',\n",
       " 'I don’t know that I sit down and pay attention to, I don’t go, ok, now is my time to sit down and think about what I want. it’ll be - - - -\\r',\n",
       " 'I just did it. - - I just, I, I submitted for more auditions, I sent my, I sent e-mails out, I ah y’know sent my resume, and I just looked for more.  I made more of an effort to make the change.  so that is that you focus on the change and go towards it. I did do that.  and I just got lucky, I don’t really believe that/\\r',\n",
       " 'yeah, I did have some control over it, - - - - a lot of it, so.\\r',\n",
       " '- - - - um, - - - - I think it would start to, ah, be centered around, like if I got cast in a show, this show that I auditioned for, I think that, ah, like tomorrow, I think it would, there would be moment of me, my struggle in the development of what my character is in the show, so it would be like, oh I don’t know, I’m having a real hard time at rehearsal, in this scene, or, um, with school, I think the only thing I’ve ever heard from those who have gone through really intensive programs is that like you’re sharing so much of yourself with people who are poten-like a the time, strangers, and like because you’re trying to be really vulnerable in front of one another, it would be, I think that there would be that idea of, oh my God, I can’t believe that I’m telling these people this, or that I was able to even talk about it, or you know, I don’t, it is so hard, to say x, y, and z, and, y’know, just be open, and how to be open.\\r',\n",
       " 'exactly, it’s, y’know, I mean, I talk about, I tell people, when, that I think that you have to be vulnerable in order to, to act, and to improvise, and to be someone who really touches, like, an audience, and so, it’s a matter of actually, really, doing what I say, and what I think needs to happen - - - as an actor.\\r',\n",
       " 'um, - - I think it’s a, a separate idea, um I think that, I think that you can be vulnerable, I think that I can be vulnerable if I’m being in a moment and being honest about whatever it is that we’re talking about, but I think that in a sense memory, like I think which is what you’re talking about when you’re like this idea of what do you pull to be vulnerable or mm - - I think about in those instances like I’ve, I think about my grandfather, who died when I was at camp in 2002 and, um, moments of, I mean I think it depends on what. what the need of the vulnerability is, if that’s the right word for what I’m thinking about, the, I feel like there are two different ideas, does that make sense?\\r',\n",
       " 'I think there’s the difference of being vulnerable as the character and vulnerable as the student in the classroom with the other students, like, me being me.\\r',\n",
       " 'yeah, yeah, I think that the, the, tapping into the vulnerability of the character, pulling back on my own personal experiences is separate from, because you tap into different resources.\\r',\n",
       " '- - - I mean, they’re not, but something appears, like oh there’s this separate, like you have little pockets for everything, and you don’t, I mean you can, but you don’t, you don’t need to.\\r',\n",
       " 'it’s all right\\r',\n",
       " 'why are they different?\\r',\n",
       " 'I think that that’s, that’s the idea, is that in that situation is, it is accepted, everyone else is doing the same thing, everyone else is allowing themselves to be vulnerable with you, so that’s why it’s almost easier to do it in that, that space, and then in your social and whatever, like, ah, you said interpersonal, is that like it’s not everybody else does it in a social situation, not everybody else is vulnerable, everybody else has these walls put up, so. . .\\r',\n",
       " 'yeah, so it’s a, it’s a gage. I think that I, I gage how open or comfortable, I mean I think that happens with relationships, y’know you’re more comfortable with one person because you both are more willing to be open with one another, y’know, and then Dave, Dave doesn’t like to share those kind of things so you don’t share those kind of things.  I think that it does kind of, just/\\r',\n",
       " 'yeah, yeah, emo- I’m too emotional, or you’re so dramatic, no, I’m just - - ok, well, ok, if that’s not supposed to happen here, fine.\\r',\n",
       " 'yes, yeah, yeah\\r',\n",
       " 'my boyfriend.\\r',\n",
       " 'oh he tells me both, yeah.\\r',\n",
       " 'social, or even when we’re just together like it, sometimes when, when we’re arguing about something or I get upset about something he says, ah, you get, you get so overdramatic Jordan, and I’m like, no, I’m, I’m not, I’m responding the way that I’m responding, why is that overdramatic? \\r',\n",
       " '- - - - because it’s not allowing me to be me. it’s, it’s, it’s saying that, well what you’re doing is wrong, that there’s no, there’s no space for that right now, or in this place, and it’s like, why not?\\r',\n",
       " 'no, my walls should be non-existent.\\r',\n",
       " 'yeah, I think so\\r',\n",
       " 'we have this intimate relationship in which there shouldn’t be walls and - - - - we’re two different people, so - - \\r',\n",
       " 'yeah, and, y’know, I’m not going to not do what I do, and keep getting the resp- it’s fine, y’know and I, I don’t challenge, I don’t think challenge is the right word. I want for him to not have walls with me, y’know, ah, and I think, I think they’re significantly lower than they are when he’s with other people (T: they’re not going up) when he’s with me. right, yeah. \\r',\n",
       " 'what is next week, um? can I look at my calendar to figure out if, I mean what is direct, of your schedule like during the week?\\r',\n",
       " 'I mean if we can’t it’s fine, too, but I’m not coming back the week of the, my audition (incomprehensible)\\r',\n",
       " 'I’m sorry that I responded to you all that I did\\r',\n",
       " 'I know, but, I, I feel bad\\r']"
      ]
     },
     "execution_count": 4,
     "metadata": {},
     "output_type": "execute_result"
    }
   ],
   "source": [
    "test = load_patient_turns(file_path)\n",
    "test"
   ]
  },
  {
   "cell_type": "code",
   "execution_count": 5,
   "metadata": {},
   "outputs": [
    {
     "data": {
      "text/plain": [
       "99"
      ]
     },
     "execution_count": 5,
     "metadata": {},
     "output_type": "execute_result"
    }
   ],
   "source": [
    "len(test)"
   ]
  },
  {
   "cell_type": "code",
   "execution_count": 6,
   "metadata": {},
   "outputs": [
    {
     "data": {
      "text/plain": [
       "[['I’m ok. I’m feeling a little, ah, stressed because of everything coming up, um, but/\\r',\n",
       "  'um, yeah, I, uh, my personal statement is like second draft form, and then I’m working on it, and it’s, it’s almost done. my friend Zach read it, and I think he made it more difficult for me to write it.\\r',\n",
       "  'just by giving me constructive criticism and being like, be more specific, y’know, as if the specificity is important, like they want to know exactly what’s going to set you apart from the other people, or highlight this, or make this, and I’m like, ok, alright/\\r',\n",
       "  '(kind of laughing) yeah, but not that one, cause we already did that\\r',\n",
       "  'um, but then there’s preparing all those monologues for my audition.  I know which ones I’m doing and I’ve started working on them, um, and then I have an audition tomorrow, which I’m looking at, and then my class starts on Tuesday, for improv, and I sent an e-mail to those Shakespeare people that I thought I might audition with, and they’ve already cast everything but they’re, Chris is still considering me potentially for an understudy role, so I don’t know at all if and when I’ll hear back from them\\r',\n",
       "  'yeah, yeah, yeah, yeah, so, we’ll see.  I told them that I had a class starting. I didn’t tell them I had another audition, but/\\r',\n",
       "  'yeah, because I didn’t get the sides, so yeah, so whatever, but it’s just like stuff’s, I mean like stuff’s happening, which it’s good, but it’s like piling up and I’m trying to find time to like get everything done and worry that I’m focusing on my essay too much when I should be focusing on my audition because that’s like (T: right) I, I don’t know\\r',\n",
       "  'yeah\\r',\n",
       "  'the ball is in motion\\r',\n",
       "  'yeah, well how much, I mean, I know I can handle it all, but it’s how much, when, what hour can, well, it’s only if like there were like three more hours in the day I think I’d be, I’d be happier. \\r',\n",
       "  'oh, yeah, yeah, I’m, I’m in a good place, yeah/\\r',\n",
       "  'yeah, yeah (- -) I found out, I don’t think I’m supposed to know, but my, a friend of, a friend of a friend, who has kind of become my friend, is actually at NYU right now, in the MFA program (T: uh-huh) um, which I’m applying for, and, ah, she asked me when my audition was, and then she asked my friend Jubin what my last name was, and I was like, what is Julie doing, what does she want to know, and he told me, he’s like, I probably am not supposed to tell you this but I think, I think she’s giving you a recommendation, and so, that like, on top of everything, I’m like, oh my God, all right, ok, that could be, that could be good, that could be, I don’t know what that means, but, the, last night with Rory I was like, what if I do get in, not that I don’t, I mean, I don’t know what I think, it’s not really a solid, I mean yeah it’s been a possibility, but it hasn’t been something that I’ve been like, oh, yeah, I’m definitely getting in\\r',\n",
       "  'and I’d probably go broke\\r',\n",
       "  'it would be a very big change\\r',\n",
       "  'I mean it would be being a student, it would be that focused performance all the time, that constantly working on something else, um, yeah, the money issue would be whatever yeah, I don’t, I don’t even want to think about how much money it would be to finish my, I mean on top of everything else I have to finish my FAFSA like application, and try to get loans (sigh) it’s all good stuff (T: yeah) y’know, it’s not, it’s not bad things\\r',\n",
       "  'yeah, yeah, it is all for me. and I found out that Jessica is, she started taking an anti-depressant (T: oh) yeah, my sister, Jennifer, she didn’t tell me, Jennifer told me. she said that Jessica had been like having a conversation with like, oh, like maybe I should start taking medica-the anti-depressant, and Jennifer was like, yeah, I mean like why not, see if it helps. and then Jessica was like, well, I started taking it like three weeks ago, and I don’t know if it’s like started affecting me yet, so/\\r',\n",
       "  'I don’t, actually, I haven’t asked her about it. I should just like call her and be like, what’s up, what are you doing?  Jennifer said, I mean we talked about you behind your back, and Jennifer said that you’re taking medication, so... but she does seem to be like, a little, like, a little better, a little more even, um, not as depressed, I mean it’s an anti-depressant, so I hope it helps, um, but she’s like organizing what we’re going to buy my parents for my 40th, for their 40th wedding anniversary, and stuff she hasn’t really done before, which is good, so that makes me kind of go, ok, my sister’s trying to figure out her life, I don’t have to do it, not that I have to do it, but blah, blah, blah, blah, blah, blah, blah (laughs), sorry\\r',\n",
       "  'that, cause that’s what I feel like I’m doing\\r',\n",
       "  'yeah\\r',\n",
       "  'to what? you? (T: yeah) nothing, to talk, to tell you, I don’t know that’s what I’m supposed to do I guess\\r',\n",
       "  'I go on little (twirling finger), when I/\\r',\n",
       "  'I don’t know what I should talk about, um, well, I told my boss this morning, well here, wait, I can do it, I told my boss this morning that I was applying to grad school, and she was like, ah, oh yeah, you gotta do it, no rock should be left unturned, and I was just like, absolutely, um, - - - well - - (laughs) when I’m forced to, not forced, you’re not forcing me, but when it’s (waving hand) I stop - - - - - - I’m thinking about the last time we did the silence thing, and it’s making me laugh again, - - - cause it’s silly, I don’t like silence - - - (sighs) you’re not going to talk, are you? (laughs)\\r',\n",
       "  '- - - - - my boyfriend called, and bought me a sandwich from this, ah, from this store, this mozzarella, like, bakery place, and I was like mm that’s amazing mozzarella, and we’ve heard like rumors about these sandwiches that they make, and you can only get them on certain days of the week, in between like certain hours, and if they run out of beef and mozzarella, or if they just don’t make them, and he called me, and he’s like, I bought you a sandwich, you don’t, you’ve got dinner and lunch tomorrow cause they’re huge, so, that’s good\\r',\n",
       "  'no, he’s here (T: oh) he’s in Hoboken, um, he was gonna, he doesn’t have a job, so he’s gonna temp, and he was gonna come into the office, my office, tomorrow and Monday to do some filing for us, and every time he’s almost come into the office, he gets another job with like one of those temp agencies, so he’s, he was worried that my boss hates him because of that, but both, both Michelle and I just laughed about it. we were like, come on Rory, you’re a comedian, you’ve got to have thicker skin. why would she hate you? it doesn’t matter.\\r',\n",
       "  'yeah - - yes.  that’s why I love him, because he’s sensitive (laughs)\\r',\n",
       "  'it’s good, I think, um, I’m speaking up for things.  why? you don’t think it is?\\r',\n",
       "  'I do think that I’m, I’m good. I feel good, I feel, I feel confident and, like, - - - not defensive um, and not offensive, um, I don’t know I just feel good, I feel, I feel stronger.\\r',\n",
       "  'I don’t know, what do you?\\r',\n",
       "  '- - - - - - no, I don’t, I, I think, I was going, going, going, and then I was like, ok, this, this, I don’t know, is this all right, and then I think when I do I project the question of whether or not like oh I want is Oren okay with this I mean I guess are we, um, I mean, was this ok, was this supposed to happen, um, was I supposed to keep, y’know, does that make sense?\\r',\n",
       "  'yeah, - - yes.\\r',\n",
       "  'what do I think?\\r',\n",
       "  'which is the more accurate answer than the rational answer\\r',\n",
       "  'sometimes we are\\r',\n",
       "  'yeah, - - I do - - absolutely will be, yeah, hanging out, going to a bar, going to see a show, hanging out before a show, whatever, I do, I, when there’s silence I’m like - - - - - who’s supposed to say the next thing? \\r',\n",
       "  'all of the above. I mean sometimes, yeah, it’s nice to have silence, and I don’t, but if you were to give it like a, which is more often than the other, I think, more of the time I do go, I don’t, is this ok, rather than, oh I’ll just relax and hang out.  (T: mm) and I’m trying to figure out how to be more of the silence is ok, through y’know my, my yoga, through my trying to figure out my balancing of my own like personal anxieties, like\\r',\n",
       "  'from that filler?\\r',\n",
       "  'yeah, yeah, yeah, yeah, yeah.  what am I trying to gain?\\r',\n",
       "  'I don’t know, maybe I have the expectation of myself that I am supposed to fill the 45 minutes?\\r',\n",
       "  'well, ah, then, saying, like, actually saying that out loud, and thinking about it and hearing it, it makes me feel as if then, what’s the point, like, I’m just talking to somebody rather than actually like doing therapy, cause that should be a back and forth thing, right?\\r',\n",
       "  'well, it’s almost like otherwise why am I, you know, what’s the point?\\r',\n",
       "  'I don’t know (clears throat) not consciously\\r',\n",
       "  'it would (clears throat) obviously it would depend on the tone but saying it sounds like judgment it would be, I think I would be like, oh, hm, maybe this isn’t, is it ok, like I would be worried as you, if there was more, what, had I done something wrong, had I, you know?\\r',\n",
       "  'I don’t know. ok is like, on a positive-negative scale, ok is like more on the positive.\\r',\n",
       "  'yeah, yeah.  am I doing well or, yes, is this worth my therapist’s time, so I mean I guess yeah going back to last week, I do hope that there’s some sort of like investment on your part or on my therapist’s part, in me\\r',\n",
       "  '(nodding) well, yes, and I, that, that goes back to part of the reason why I signed up, was, I had this moment where I was with, I had just seen a show, and I was with some of my friends, and all of a sudden, like, I was putting my judgment of myself through someone else’s eyes. like it was like this, this realization that I was doing it, that I was looking at my friend Tim, and I was like, oh my God, Tim thinks I’m not, y’know, I didn’t say something the right way, or I wasn’t smart enough. I don’t remember who it was, y’know, who exactly it was but it was me saying, oh, Tim thinks this, I see him looking at me that way, and that was, I, I realized in that moment that that was me putting my personal judgment of myself onto somebody else, like shifting the responsibility\\r',\n",
       "  'yeah, but that was the moment that I realized that that’s what I was doing.\\r',\n",
       "  'um-hm, yeah, that yeah, I don’t know, I mean everyone says you are your own worst critic, in that/\\r',\n",
       "  'no, people say, I mean, I think people say it in general, I mean, I’ve said it, I’ve heard my friends say it, about themselves, and y’know about the world, um, and I, I think I am, I, I do have expectations for myself, I do y’know think I should and shouldn’t, whatever, um, I don’t know why I can’t just give myself a break, but I don’t, so I do project, y’know.\\r',\n",
       "  'it drags, it drags me down, it doesn’t help me at all\\r',\n",
       "  'no, yeah, yeah, yeah, yeah\\r',\n",
       "  'no, I mean it, it makes sense, it’s um, I think that your next question is going to be, why do you do that? why do you think that happens? um\\r',\n",
       "  'yeah, yeah, yeah - - - I think it’s a fairly accurate depiction of what I do. why? or, how to not?  I guess that’s why I’m here.\\r',\n",
       "  'yes, I notice.\\r',\n",
       "  'well, I think it goes back to when you asked me, that we were talking about how I avoid the emotional aspect of things, that I, y’know, just play ping pong, and I keep my goal and make you, y’know, go away from that space. that it’s, y’know, coming into that space that makes me kind of settle in and go, oh (sigh), take a breath into it and go like, here’s where we are, but what does that to me, how does that affect me?\\r',\n",
       "  'I don’t feel uncomfortable right now, so, um/\\r',\n",
       "  'could it, wait, rewind, could it/\\r',\n",
       "  'yeah.\\r',\n",
       "  'and they didn’t laugh at it (T: um) I think, I think in like my current state I’m, I would, I would just be like, all right (smirks) better luck next time - - - - - - or, the opposite, I mean I don’t know, it could, it could parlay into my incessant chatter trying to, I don’t know, I could pick up, if I felt that, something hadn’t gone right or if, you know, I didn’t get the response that I wanted, someone laughs, I could pick it up and go, oh, well change the subject, make it different, create something else, so that- - -\\r',\n",
       "  'yeah\\r',\n",
       "  'no, I think it’s more nervous but I think it also becomes that, ah, that, that, that, ah, self-deprecation type, ah, nervousness, when it’s like oh, well, there I go, I didn’t say something funny, so, Jordan’s not the funny one, y’know, I don’t know, does that make sense?\\r',\n",
       "  'right, because I’m not necessarily comfortable in the other space (T: right) so it’s, it, I don’t know I mean comfortable in the, in the, y’know, y’know, either or, I think it’s more frequently am I the, dd-tt-dididi-ta-da, y’know, just the, more often I’m diffused than (T: centered) centered\\r',\n",
       "  'yeah, yeah right, and um it’s a matter of, I think, I want to be more comfortable in that, that kind of space, where I don’t care, I let it roll off my, y’know.  I, I just finished that book, the (incomprensible- name of the book), that I was reading last week, and, like, he talks about all this, just letting go, and y’know the sense of Buddhism and meditation and how you just, you just let, separate yourself from that, like, it’s almost a material thing, but not you, does that make sense, like you just kind of separate yourself from that idea of having to do, or what’s expected, or whatever, you kinda give youself this space to just kinda do whatever you do, however it plans, however it, y’know, does itself, that’s what happens, and you move forward, and then release it.\\r',\n",
       "  'No, I can’t remember off the top of my head. (T: right) but it’s a good book and it talks about teaching meditation and how this guy changed his life through meditation.\\r',\n",
       "  'I have, um, I do find it very difficult because I find it very difficult to quiet my mind, so in - - - focusing my breath, which is what your basic meditation is, focusing on your breath, I always find myself having to say, get back to the breath, ok, you know.\\r',\n",
       "  'exactly, allowing, like, yeah, you went away from your breath, so what, come back.\\r',\n",
       "  'yeah, not judging myself for having stepped away from the breath, yeah, cause when I’m done I’m like uuuh, that’s not what you’re supposed to do, so yeah.\\r',\n",
       "  'I don’t know, I don’t know, what you’re supposed to feel but I’m like ok I can’t do this anymore, so that’s when I end, or if I do find myself relaxed enough, or just kind of really breathing, I’m like, ok, good, all right, I’m done. you just, kind of, I think know.\\r',\n",
       "  'um - - - - no specific, sometimes I’ll meditate/\\r',\n",
       "  'sometimes I’ll do it when I go to bed. sometimes I’ll be in a situation, uh, like, anywhere, sometimes I’ll be at work and I’ll be doing so many things and I’m like, I just (sigh) take a deep breath or y’know just focus on it and I’m walking down the street, listening to everything that’s going on, I’m like ok, let’s center, see what that does right now, so.\\r',\n",
       "  'yeah, which I don’t use frequently enough (T: mm-hm) or I haven’t mastered. it’s like a training kit tool, or a training wheels tool.\\r',\n",
       "  '- - - - - - ahh, I don’t know.\\r',\n",
       "  '- - - - mm - - - - - - - - ah, I don’t know, sometimes I think that my focus and drive on what I want to accomplish can help me, y’know, create a thing that I go towards so that feels like I’m centering, does that make sense?\\r',\n",
       "  'I don’t know that I sit down and pay attention to, I don’t go, ok, now is my time to sit down and think about what I want. it’ll be - - - -\\r',\n",
       "  'I just did it. - - I just, I, I submitted for more auditions, I sent my, I sent e-mails out, I ah y’know sent my resume, and I just looked for more.  I made more of an effort to make the change.  so that is that you focus on the change and go towards it. I did do that.  and I just got lucky, I don’t really believe that/\\r',\n",
       "  'yeah, I did have some control over it, - - - - a lot of it, so.\\r',\n",
       "  '- - - - um, - - - - I think it would start to, ah, be centered around, like if I got cast in a show, this show that I auditioned for, I think that, ah, like tomorrow, I think it would, there would be moment of me, my struggle in the development of what my character is in the show, so it would be like, oh I don’t know, I’m having a real hard time at rehearsal, in this scene, or, um, with school, I think the only thing I’ve ever heard from those who have gone through really intensive programs is that like you’re sharing so much of yourself with people who are poten-like a the time, strangers, and like because you’re trying to be really vulnerable in front of one another, it would be, I think that there would be that idea of, oh my God, I can’t believe that I’m telling these people this, or that I was able to even talk about it, or you know, I don’t, it is so hard, to say x, y, and z, and, y’know, just be open, and how to be open.\\r',\n",
       "  'exactly, it’s, y’know, I mean, I talk about, I tell people, when, that I think that you have to be vulnerable in order to, to act, and to improvise, and to be someone who really touches, like, an audience, and so, it’s a matter of actually, really, doing what I say, and what I think needs to happen - - - as an actor.\\r',\n",
       "  'um, - - I think it’s a, a separate idea, um I think that, I think that you can be vulnerable, I think that I can be vulnerable if I’m being in a moment and being honest about whatever it is that we’re talking about, but I think that in a sense memory, like I think which is what you’re talking about when you’re like this idea of what do you pull to be vulnerable or mm - - I think about in those instances like I’ve, I think about my grandfather, who died when I was at camp in 2002 and, um, moments of, I mean I think it depends on what. what the need of the vulnerability is, if that’s the right word for what I’m thinking about, the, I feel like there are two different ideas, does that make sense?\\r',\n",
       "  'I think there’s the difference of being vulnerable as the character and vulnerable as the student in the classroom with the other students, like, me being me.\\r',\n",
       "  'yeah, yeah, I think that the, the, tapping into the vulnerability of the character, pulling back on my own personal experiences is separate from, because you tap into different resources.\\r',\n",
       "  '- - - I mean, they’re not, but something appears, like oh there’s this separate, like you have little pockets for everything, and you don’t, I mean you can, but you don’t, you don’t need to.\\r',\n",
       "  'it’s all right\\r',\n",
       "  'why are they different?\\r',\n",
       "  'I think that that’s, that’s the idea, is that in that situation is, it is accepted, everyone else is doing the same thing, everyone else is allowing themselves to be vulnerable with you, so that’s why it’s almost easier to do it in that, that space, and then in your social and whatever, like, ah, you said interpersonal, is that like it’s not everybody else does it in a social situation, not everybody else is vulnerable, everybody else has these walls put up, so. . .\\r',\n",
       "  'yeah, so it’s a, it’s a gage. I think that I, I gage how open or comfortable, I mean I think that happens with relationships, y’know you’re more comfortable with one person because you both are more willing to be open with one another, y’know, and then Dave, Dave doesn’t like to share those kind of things so you don’t share those kind of things.  I think that it does kind of, just/\\r',\n",
       "  'yeah, yeah, emo- I’m too emotional, or you’re so dramatic, no, I’m just - - ok, well, ok, if that’s not supposed to happen here, fine.\\r',\n",
       "  'yes, yeah, yeah\\r',\n",
       "  'my boyfriend.\\r',\n",
       "  'oh he tells me both, yeah.\\r',\n",
       "  'social, or even when we’re just together like it, sometimes when, when we’re arguing about something or I get upset about something he says, ah, you get, you get so overdramatic Jordan, and I’m like, no, I’m, I’m not, I’m responding the way that I’m responding, why is that overdramatic? \\r',\n",
       "  '- - - - because it’s not allowing me to be me. it’s, it’s, it’s saying that, well what you’re doing is wrong, that there’s no, there’s no space for that right now, or in this place, and it’s like, why not?\\r',\n",
       "  'no, my walls should be non-existent.\\r',\n",
       "  'yeah, I think so\\r',\n",
       "  'we have this intimate relationship in which there shouldn’t be walls and - - - - we’re two different people, so - - \\r',\n",
       "  'yeah, and, y’know, I’m not going to not do what I do, and keep getting the resp- it’s fine, y’know and I, I don’t challenge, I don’t think challenge is the right word. I want for him to not have walls with me, y’know, ah, and I think, I think they’re significantly lower than they are when he’s with other people (T: they’re not going up) when he’s with me. right, yeah. \\r',\n",
       "  'what is next week, um? can I look at my calendar to figure out if, I mean what is direct, of your schedule like during the week?\\r',\n",
       "  'I mean if we can’t it’s fine, too, but I’m not coming back the week of the, my audition (incomprehensible)\\r',\n",
       "  'I’m sorry that I responded to you all that I did\\r',\n",
       "  'I know, but, I, I feel bad\\r'],\n",
       " ['And: how was your vacation?\\r',\n",
       "  'That’s always good. (T: (laugh /? I guess that’s the point right?)\\r',\n",
       "  'That’s the point. Did you go away?\\r',\n",
       "  'Out of the States?\\r',\n",
       "  'Good. Very good.\\r',\n",
       "  'Ahm - challenging - (T: yeah?) yeah. I had to - uhm - take some medication (T: You did?) yeah. It was just ahm - unbearable (T:mm-mm). It was agonzing actually. (mm-mm). And uh  so I’m taking 10 milligrams of - (?Selexia). (T: okay) And its calmed me down. Because it was just - freaking me out. \\r',\n",
       "  'Well I mean - I was in a lot of pain. And - I kept - struggling not to take it. Ahm - but - not this past Sunday the Sunday before -  it was when I started to take it. I was just - - because the last time that I saw you, it was- days after I saw you I mean it just got - anxiety - just got worse and worse - ahm and you know I felt - - I guess emotional pain and - the struggled within myself to - just try to - calm myself.\\r',\n",
       "  'And - I was - you know I just - my wife I called her up and she is like “no,why are you suffering like this /?if?” nd - so I - I just start to taking it and - you know it’s- it’s helped me so far. \\r',\n",
       "  'Yeah. I got about four months with/?worth the medication. - - - -\\r',\n",
       "  'Well I mean you know it’s it’s it’s not a complete relief because it’s a very low dose, but it helps. Uhm - And - my thoughts are still pretty scattered. I’m trying to figure out how to: ah- - - you know how to control my thoughts. Cos that’s really what it- what it’s all about. It’s controlling my /(? thoughts so that they don’t get racy and they - The thoughts that are going though my head are the ones that make me anxious. Because, they may not be true. But they certainly feel like it’s true. You know? \\r',\n",
       "  'Well I mean I - I start thinking about uhm - you know, that weekend I was start thinking - oh my God I’ll loose my job and this happens and this happens and this happens and this happens and it just kep- you know - it just keeps escalating. And I can’t - It gets at the point where you know I’m so like stressed out over it. And anxious over it. It feels - very painful - - - So: ahm, you know, w- I was reading, you know, anxiety disorders, and general anxiety disorders, and: I read /(?some websites again, I had read on it but: you know it it- it- mentioned that it works well with psychotherapy, and - - so that was also kind of a - a deciding factor. That - you know, the two can- go well together - - - - So - That’s where I’m at right now. \\r',\n",
       "  'yeah I mean um - I think it’s gotten harder for me to control these you know thoughts, I mean, my negative thoughts, you know? Like, ahm, I was sitting, ahm we had, ahm, you know, one of these events we always have in terms of - organization improvement, you know they celebrate: you know /(?a big break-through - - and I was sitting in- in the conference room, and I was feeling pretty good. And all of a sudden I see my boss walk in and - bum like - I even wrote it down, you know, I I  said, I gotta capture this - so I was trying to analyze that /(?like why? but- she’s- she’s a nice lady, it’s not like - I had bosses earlier, forget it, I should be going that way(??). And I was trying to figure out, is it the authority?, is it a - you know, is there some connection here with- my  childhood, in terms of, ahm - you know, feeling - I guess demoralized, and- and - um what’s another word, patronized /? I guess, by the comments my father used to make, maybe when I see some - and also the fact that I just hate to feel that people have like control over me, so, I- you know, it’s not really her, is, it’s, you know, what’s behind it. Those kind of things.\\r',\n",
       "  'I think it may have.I’m not sure, you know, I still felt the butterflies and all that stuff, but it might have helped to recognize that. (T: Ok).  \\r',\n",
       "  'this- this time (?around) with the anxiety, it’s escalating, you know, where, I- I- I  um doubt myself a lot about it - I   have told  you  about this simple stuff, you know? and, I mean, anybody who’s been (assignment??) - can I do this? You know, it’s like - stupid, but - it’s a thought, you know, and um - - So - I guess the medication just helps me deal with it a little bit a little better - - not letting myself to escalate to the point where you know  I  feel I am having an heart attack, my   chest you know, it’s like chest pain, I’m breathing very shallow, and then my thoughts get really racy, you know, ahm - - so you know, I mean, I think about - “am I gonna be mentally ill as I get older”?, you know, ahm, and it’s just like one thing after another, one thought  after another, and you know, “what happens if I get mentally ill?”\\r',\n",
       "  'well it just continues to escalate to more anxiety. You know (T: /? fear - is that?) Fear\\r',\n",
       "  'you know, uncertainty, and - what am I gonna do, and - you know,-all kinds of - thoughts like that, you know and - what’s gonna happen to my family, and- how’s my wife gonna make out, (incomprehensible??) mortgage /(?gonna get paid off, I don’t have insurance, I mean, it just continues, you know? And um - so, I’m trying to - stay focused on what’s going on now, cos /(? that also- helps me. Just, let me, think about right now. What I am going to do then /?. And - you know, I feel the thoughts trying to get through, and they do most of the time but maybe as I get better in terms of - you know, being more  cognitive of the present, that will take me away from the past or from the future - - - so, you know, I was trying to put together some goals for the future, and stuff like that and I just - put it off for now, \\r',\n",
       "  'Yeah, I think so.\\r',\n",
       "  '- - -yeah I mean,- I used to like to work in Power Point, -and I - used to enjoy create these () put the presentations together, little cartoons, I mean (?)you know I can get really creative about it - and: - I still like it, but I feel like my creative side is like dead,- you know like I can’t , I haven’t been able to stimulate it - - and - you know, the work that I am - producing is- is okay, but it’s, I know, that for me is not the best that I can do, and part of it is y’know it’s probably better because the enthusiasm isn’t all there either \\r',\n",
       "  'What it’s like? (T: mmm). Ahm - I don’t know, you know? I don’t know, if making that connection miraculously - makes me - feel better or - - or you know.\\r',\n",
       "  'the root of all of this is I think, - I don’t even know if it’s the root, certainly the symptoms, are depressions, the sadness, the anxiety you know, I look at those as the symptoms and manifests itself through - through those type of things, you know? and - you  know, y’know it was like going back to what is the “it” (chuckles) you know. I’m trying to figure that out. Maybe when I do, /?maybe no I won’t ?) I don’t know. But - you know, certainly, I- I think the all thing with my boss, and the authority, and that feeling of  - you know, incompetence or the feeling of - - - less ahm - - - - you know, smarter brighter than others, it’s just there, you know, when I was in grammar school, ahm, they had a program for- for kids, for a couple of weeks or - it wasn’t even a couple of weeks it was a couple of months, it was like a whole semester or something like that, and - it was with ahm these - this guy, who was, he was a director of some drug program, and I was in a catholic school, I wasn’t even /(?on drugs yet but the problem was like a reach, an outreach program, and: - um once a week you know they take a group of kids and that they had identified - they identified me (chuckles), I must have been problems back /(? I-, and you know I used to meet with this guy and talk about you know just, living you know, and pressures and peer pressures and that stuff, but while that was happening I was missing a very important class, that I was happy to miss by the way - which  was math - and so I was always behind in the class, and- and you know - whenever I had an opportunity to attend I was like - noticed. and I got very bad grades cos I missed the foundation cos if you don’t build that, in grammar school, you know, uh it just gets harder - So you know, that also made me feel pretty inadequate in terms of not knowing - - math - -  particularly at that age, you know, - /? and I was being looked at by the other kids as being kind of a dummy or something like that (incomprehensible) so I always felt very inferior about /?that,  when I was a kid. \\r',\n",
       "  '/?that’s the last time I ever went back to school - formally - (incomprehensible)\\r',\n",
       "  '- - - So, I don’t know. all this has to have  - some effect. \\r',\n",
       "  'I’m sure it does - - i’m sure it does, you know?\\r',\n",
       "  'I always had that struggle - - you know\\xa0? um It’s like I know a little bit of everything but not much about nothing (chuckles) - - - And - and I always feel that people initially get the impression of me that I know what I am doing, and then I feel like that they may find out that I am not that sure about what I am doing, \\r',\n",
       "  '- - How do they- I think just- based on you know, experience that I have, - - some of the places where I worked some issues that I’ve had, \\r',\n",
       "  'yeah \\r',\n",
       "  'I think you know, what I am feeling /?now,/?low just my demeanor, but what when I think when I am in a positive /?end of things, you know I feel like I can just - take on the world there’s nothing that I could - and that’s how I felt for a long time, until I tripped, y’know (incomprehensible) a bad fall, but I mean, I I’ve read so many like self-improvement books, you know, one of th- I have one of the lines in my philosophy, is you know, “know thyself”, you know, continuously improve yourself, ahm so you know I’m always reading on how to improve myself. Whether that be through you know some psycho- psychology book, or through - some skill that I need to improve on, like excel power point stuff like that self-help and other stuff like that you know. How to be a better speaker, I’ve taken a (Person’s name) - have you heard of (person’s name)? / (T: mm-hm)I’ve taken his course so um - I’ve listened to dozens of tapes , cd’s, (person’s name/Anthony Robbins) - you name it\\r',\n",
       "  'I can be when I am in that - - I haven’t been there in a while.\\r',\n",
       "  'mm-hm, I mean, I always felt I had to try harder, cos I am just not - as - smart as everybody else that’s the way I feel. \\r',\n",
       "  '- - - -So you think that making these connections - - I’ll come to realize something, /(huh? \\r',\n",
       "  'mm - And I’m trying to understand that, you know I’m trying to understand what’s happening now and how it relates to the past, and you know it makes- sometimes I make sometime I make the connection - but then I don’t know if it really - - makes a difference /??to make the connection \\r',\n",
       "  'you know we did talk about something else last time and that was, it could also be a chemical imbalance, and - is there a way to- to know that? medically, or? \\r',\n",
       "  'Yeah, I was looking at that on the internet also, /?they even have a little, like how a medication, what happens you know, to the synapses and uhm, I forgot exactly but you know, I forgot exactly how it how they travels, how the medication slows that down, bet- between serotonin and…\\r',\n",
       "  'And dopamine. And so that imbalance is, that imbalance could cause you to feel like that and the medication kind of stabilize this, right?, you feel /?normal\\r',\n",
       "  'Well I’ m not happy about it, that’s for sure. - - - You know, I  don’t want to - I don’t want to take this medication forever,  they have really bad side effects - and um- you know I am just taking it - a day at a time I guess, I thought about when I thought about taking the medication it’s like maybe I just need to feel better, and I’m going to therapy, and you know later on I can think about /??needing the medication again, - -  I did stop my medication pretty abrupt, and my doctor wasn’t too happy about that, and you know, it caused a reaction, I was dizzy, it caused some you know some physical reaction, but I was determined like to, just stop the medication, you know, /??to live a new life, (Incomprehensible) But after feeling the pain that I was feeling, I feel a relief, you know (T: sure), and, it’s like having your arm in fire, and you know just - taking it out for a little while gives you that relief, so that’s how I feel, although I’m not completely out of the woods, but I do feel relief, and coping, feels a little better. \\r',\n",
       "  'oh (?) the disappointing thing is that I would have to continue take medications. \\r',\n",
       "  'about the side effects of the medication. \\r',\n",
       "  'well um you mean if I blame myself for it?  I feel it’s out of my control it’s, if it’s actually a chemical imbalance I mean, I don’t have control over it, other than take medication, or periodically stop taking it, till I find a better way. I don’t know if you know...yoga, or something else help change that - - -\\r',\n",
       "  'if- if, let’s say there is a page that I have to read (T: mm-mm). And uh let’s says there are two employees and I’m one of these two employees, and my boss says - here, both of you read that page and tell me what you think. I shut down. I mean all of the sudden I like I mean, it could be something simple it’s not even the words, it’s just like - I can’t - the fact that he or she told me to read it and give them my thought right now, and there’s someone else like next to me reading it, and: you know, I feel like they are gonna read a lot faster than I am, and then will understand it, and that shuts me down. \\r',\n",
       "  'like if you tell me read it and tell me tomorrow what you think, I have time to go and digest it and think about it. But, if you tell me do it right now, you know like, I mean, something really simple as math, I could go blank, - - You know? um And I don’t understand why you know, I don’t understand why I shut down like that, \\r',\n",
       "  'yeah.\\r',\n",
       "  'Oh, it happens all the time (T: it happens all the time), I mean it happens all the time.I try to you know - I mean I’ve gotten good at playing it off, - I guess when you have these kind of things you learn to ahm I guess you learn coping mechanisms, so, a situation like that I might glance at it- get a few words, and let this person kinda - start it - /??kind of get the gist of things -  say a few comments, but I haven’t really read the whole thing, I haven’t really digested it or thought, you know, so - and it’s all part of y’know my feeling - inferior ??I don’t know if?  that’s the right word or \\r',\n",
       "  'what?\\r',\n",
       "  'and not be able to read, I’m like, I’ll read so slow, you know, I’m so conscious of of - - of - - maybe not getting it right, not understanding it right, you know, it’s too fast, I - and I wonder if that’s some kind of learning disability  something, you know, \\r',\n",
       "  'that I am little slower than others, \\r',\n",
       "  'that I gotta deal with that - you know? Which means maybe that’s why I do a lot of reading in terms of self-improvement and I am very conscious about that, maybe that’s a way I cope with it you know.\\r',\n",
       "  'ahm, probably but I can’t figure out right now (chuckles). Yeah, I am sure that uh it doesn’t make me feel that great. \\r',\n",
       "  'right\\r',\n",
       "  'you know um - you /?ever heard of Colombo? Sometimes I think - this is funny but - I think, maybe I am like this guy Colombo, you know, he always comes across in the beginning like, he’s stupid, he’s a nuisance people kind of brush him off, and then he really knows what’s going on. He’s on to something, and sometimes I got to test myself like you know, uhm, I’ll say, do I really understand in reality what’s going on? and I’ll say a few things to myself you know, like “this is what’s happening, but I’m not sure”, and then I hear all the people talk about it and say “I was right about that”, so I say to myself maybe it’s just the way I am, I just, learn differently, \\r',\n",
       "  'yeah, but we are in a world, where you need to learn fast, you know, every () that I’ve taken - you had to start - what is it that they say um  you gotta start um the ground running, gotta start running. We don’t really have time to train you or show you so you’re gonna have to  - So: you know it’s it’s it’s fast, \\r',\n",
       "  'yeah, it’s a lot of pressure, and and you know maybe I am thinking, maybe it’s not so much that I’m not as smart, it’s just that it takes a little longer for me to get there(chuckles), but maybe I get it right, doesn’t mean the other people always get it right - - /??just cuz they’re faster.  \\r',\n",
       "  'well I am just thinking, you know it’s just coming I am just thinking in this way now, \\r',\n",
       "  '/?that’s right - - So - yeah. It’s interesting but it’s just: uh - - I mean I mean you know, do I think- so do I think now that I’m slow? I just have to think about it - - how do I leave today thinking oh well you know I am just slower than other people, but - I /??get it\\r',\n",
       "  'No I don’t (chuckles). \\r',\n",
       "  'it makes me feel like (incomprehensible) you know? maybe that’s why I (incomprehensible) /??outta school I don’t know. I just felt like I couldn’t keep up with everything. Well maybe I could, I don’t know, I felt lot smaller before, maybe I could but I just: uh - I - I\\r',\n",
       "  'absolutely.\\r',\n",
       "  'I guess it’s worst when I am challenged (T:mm). There’s no question about that, and the threshold  for that has gotten a lot lower, in that you know, I used to feel like that when the the challenge was all the way up here, and now I feel like that when it’s not really - when a part of me says that this isn’t really that much of a challenge so hy are you feeling this way? - so you know it’s gotten, the anxiety is gotten as as to some extent overpowering me) not quite but - it’s not the best to me right now. So simple tasks, seem like a challenge, ahm - where - if someone had told me what I would do it now, like, shit by - five years ago I would have loved this, and I do, cos a part of me is you know I like the workplace - and then there’s a part of me that’s like you know - why can’t I - - feel like I was feeling, the anxiety as you say is in the way, doesn’t allow me to, kinda express myself.\\r',\n",
       "  '- - - I think you know the - this whole experience of trying /?to (incomprehensible) my business, it was, it was pretty hard, pretty hard, because, I was feeling like so confident, I was feeling like - you know this all thing with the anxiety was over, was in the past, something that happened, I learned from it and maybe I’m better /??now, and then it was like: uh - - deceiving you know? when I needed to be the most confident, like I think about what happened, not be able to put my business up, you know part is because I left this fear to overcome. I:- I- I- didn’t’ feel the same, suddenly like you know, the drive that I had, I started doubting myself, and starting feeling anxious, it continued to escalate, it then it paralyzed me, and then you know I wasn’t taking any medication and all that, it just got worse, so it was about you know I blamed myself I’d say it’s me, yes, the economy: but you know people make money and open up businesses in -  all kinds of economies, you know what I mean, (some business/?) came out of the 1929 Depression, so you know it’s a drive that you have to make something happen.\\r',\n",
       "  'I’ve lost my drive - -\\r',\n",
       "  'oh - - - that’s why I feel this way - yeah it did \\r',\n",
       "  'well I left, I moved for (??) last May, in 2008, and I came back in January this year.  \\r',\n",
       "  'six or seven months, yeah. \\r',\n",
       "  'yeah - well you know it’s it’s actually - you know - - let’s see - ahm, it’s actually like eight months later and - a 100000 less, or more than that actually, uh because I had to dip into my savings to pay the mortgage, to pay things that you know that that money was part of the investment, like . it’s a /?huge economic loss for me it’s a lifetime of savings - it’s not something you recover like - I mean - for you know you hear about people making millions of dollars, that’;s great but, for someone like me a hundred thousand dollars, two hundred thousand dollars savings is a lifetime\\r',\n",
       "  'yeah, no, you’re right about that, if I analyze it too you are absolutely right, you know, there would be a natural reaction, ahm - but then you know the whole anxiety piece is - is beyond natural reaction, you know the fear like I can’t do certain tasks at times - um the anxiety and chest pain and /?all that comes with it,  I think it’s beyond what most people feel - I mean I guess people they have that kind of loss where people lose more money, feel the same way. \\r',\n",
       "  'yeah,. everything comes back like failure, I’m embarrassed to other people that I went down there to try and start my own business: - and I remember telling my cousin (name) he’s like well you know I didn’t want to tell you this but that didn’t seem you know  that you /?? really did that well with that - and it just angered me y’know - I wish I would’ve - those are the kind of things that motivate me? at other times? y’know um -and then you know as people ask me well um ‘what happened?” you know - so I just say well you know I moved down to Florida - tried to start a business and it didn’t work out (incomprehensible) - but I’m kind of embarrassed about it y’know \\r',\n",
       "  'so do you think we were like - like I feel like a little scattered today (T: mm-hm?) well or is it just the way I feel? \\r',\n",
       "  'I dunno like I feel like um - my thinking was - or my talking today was like - um - not focused I dunno - I don’t know that it should have been focused but \\r',\n",
       "  '(incomprehensible) this all make sense did this make sense today ? I dunno \\r',\n",
       "  'you mean I should uh - - think about the um - talking about those like - deep experiences? \\r',\n",
       "  'like today right I kinda came off /?that way I guess \\r',\n",
       "  'yeah you’re absolutely right and you can talk about it intellectually but not - getting really to the root of the problem - so you almost like - justify why you feel this way and not be dealing with the feeling itself  \\r',\n",
       "  'ok \\r'],\n",
       " ['I forgot my notebook. But I have another one ',\n",
       "  'ummm no',\n",
       "  'good',\n",
       "  'umm not really. I just on the weekends, like Sunday was really nice and I looked out the window and I wanted to go out bu t- I just slept in all day (T: okay) but – like last week',\n",
       "  'no',\n",
       "  'no, I’m off the weekends. Saturday? What did I do Saturday. - - um I didn’t do anything either. ',\n",
       "  'yea',\n",
       "  'oh, and we have Monday off, right? ',\n",
       "  'and I slept all day',\n",
       "  'just cuz from sleeping all day Saturday I just wanted to sleep all day Sunday. ',\n",
       "  'cuz you get lazy',\n",
       "  'mmhm- he’s visiting with me. ',\n",
       "  'actually I called him – they told me on my phone it has this thing so the calls can go straight to voicemail – so the phone doesn’t even ring. (T: oh that’s perfect, that’s excellent). ',\n",
       "  'Um – I was kinda happy that I could do it. It still shows on the call log if he did call – and I looked (chuckles) and he did cal but I just didn’t. ',\n",
       "  'ummm not really. No. ',\n",
       "  'cuz I only saw it once – yea yea it was Monday. So he probably knew I was off. ',\n",
       "  'yea',\n",
       "  'I told the doorman and the handyman but I couldn’t find the super. Soi just – ',\n",
       "  'let him in last time',\n",
       "  'yea so I told him',\n",
       "  'yeah he wa skinda nosy about it (chuckles) ',\n",
       "  'yeah he was like ‘oh what happened?’  but I didn’t',\n",
       "  'yeah – but he said if he saw him he wouldn’t let him in',\n",
       "  'I mean it felt kinda weird when he was like ‘oh so what happened’? cuz he wanted to know (chuckles) so (incomprehensible) (T: so it made you feel kinda uncomfortable) ',\n",
       "  'No – no n ot really negative. I just told him I appreciate if you see him just don’t let him come upstairs. ',\n",
       "  'the only time he shows up is when he drinks. ',\n",
       "  'yea is when he drinks',\n",
       "  'yea at some point. But on the weekends, I was gonna stay at my mom’s like last weekend? But I knew I wasn’t gonna be able to sleep over there? (chuckles) that’s why I went home. ',\n",
       "  'cuz my sister’s there with the baby. And I have a 12 year old brother so he’s running around the house all day and they  have a dog.',\n",
       "  'yea and my mom’s so nosy – if she sees that I sleep too much she’s like “are you depressed?? Get up get up” (gestures like mom rousing her from sleep).  So it’s like, y’know',\n",
       "  'yeah I just wanted quiet at home. ',\n",
       "  'um like missing him er ',\n",
       "  'well the thing is since we lived in that apartment it’s kinda weird. That’s what it is',\n",
       "  'well when I start thinking about him I just try and start thinking about something else. ',\n",
       "  '- - - um - - - I’m trynna think like. ',\n",
       "  '- - - - - - (crying but NOT audible – just tears**) sniffles. Um - - so – like what makes me think about him.',\n",
       "  'well the table I have I hate it (chuckles) ',\n",
       "  'cuz when we were buying  it I really didn’t like it and that’s the one he wanted so we ended up getting that one – and every time I see it I’m like - - ',\n",
       "  'I jus twanna throw the table out. But I don’t have another one so',\n",
       "  'yeah that and then I’m mad that it reminds me of him (voice wavers still crying lightly). ',\n",
       "  '/so it makes me like, not want it more. ',\n",
       "  'yea',\n",
       "  '(crying, sniffling, quietly – not audible) clears throat um - - - I guess I’m mad that - - - - mm – well for one I’m mad that he did what he did to me. And I think him thinking that I cheated on him and I didn’t -  that makes me mad too. ',\n",
       "  'um - - - - he didn’ cuz that’s why – I mean cuz I tried to break up with him before that even happened, and he didn’t let me, so – ',\n",
       "  'mmhm. Yeah. ',\n",
       "  'I guess I’m just mad at the whole thing - - - I feel like I wasted so many years. ',\n",
       "  'um – well I don’t really think about that. Like I said before like if I missed him I just thought about what happened so I wouldn’t – like kinda like to make me mad at him so I wouldn’t',\n",
       "  'yea. So then when I think about that it makes me – like /?more mad?/ at him. ',\n",
       "  'um - - like - - like my home laying down in bed sitting down by myself or eating cz I’m by myself or laundry (voice is shaking) ',\n",
       "  'no because even if I think about it I just – it scares me what he did - //?would he/? do it again. ',\n",
       "  'if he shows up I always let him in ',\n",
       "  'I don’t know why  ',\n",
       "  'like – instead of saying y’know I don’t want you to come in or leave – I don’t know hwy I just let him in. ',\n",
       "  'mmhm - - um - - maybe cuz I do miss him. ',\n",
       "  'I dunno what else – I just think it’s that – cuz I miss him. ',\n",
       "  'mmhm – but then when I do let him in I end up either mad or scared cuz one of the times he came in he sat on the table and I had – I don’t really have time to go through the mail so I just odn’t open the mail and it piles up on thet able – so he picks up all the mail and starts going through it. I don’t know what he was looking for, but y’know',\n",
       "  'Um it was like – notthe last time but the time before that',\n",
       "  'it was in the like',\n",
       "  'no after ',\n",
       "  'cuz he didn’t move out ‘till after. ',\n",
       "  'so you know (incompre) that just got me mad, cuz he ',\n",
       "  'scared. ',\n",
       "  'yea, I kinda feel like – ',\n",
       "  'he just does whatever he wants ',\n",
       "  'open the door',\n",
       "  'I’m not opening it. You can’t come in. ',\n",
       "  'I think I would just – I mean I could just go in my room. Cuz I wouldn’t be able to hear the door from my room. ',\n",
       "  'and go to my room – and lock the door, he wouldn’t be able to get in. ',\n",
       "  'I could actually leave - - cuz there’s a side - - then I wouldn’t be. And I know he wouldn’t even see me cuz I know he always leaves through hthe back of the building, and the side exit is through the front. ',\n",
       "  'um I think that’s it – either go into my room or leave',\n",
       "  'no cuz if I would call it – it would be – the only thought that I have of calling 911 is if I let him in and I saw that',\n",
       "  'Yea',\n",
       "  '- - - - um. I don’t know why I wouldn’t. I mean that – when – that um when he was hitting me I couldn’t because he y’know (T: right of course) and I wanted to after y’know after but – then he just called his sister and I was like oh I’ll just wait for her to call me. ',\n",
       "  '- well- his sister was there - - ',\n",
       "  '//?like I told you??/ the whole time . she came, and she took me to the hospital. You know it was kinda like “what are you gonan say”??',\n",
       "  'I don’t know why, I think I was still scared. ',\n",
       "  'yeah - - um. I dunno. Really. ',\n",
       "  'I’m pretty sure he told him. ',\n",
       "  'the super. ',\n",
       "  'I wanna say I’m not gonna open it - - but ',\n",
       "  'I think it’s 50. ',\n",
       "  'yea',\n",
       "  'yeah he’s gonna start talking about the same thing over again. ',\n",
       "  'yea and by talking about it he’s just gonna get mad. ',\n",
       "  'and it could lead',\n",
       "  'Hitting me',\n",
       "  'mmhm – cuz that’s that why he gets mad cuz he keeps talkin and talkin about it – and I don’t wanna talk about it so I just ignore him? So I think that’s what gets him more mad than he already is. ',\n",
       "  'yeah  - or I could just act like I didn’t hear the door. But the thing is because he come sin the middle of the night – I wake up scared cuz I near the door or the phone so I kind of jus t jump off the bed and open the door, like. ',\n",
       "  'I think if I think about it. Cuz when I hear the door I don’t even think I just get up – jump off the bed – open the door. (T: so it sounds like you’re just going with the emotions) sort of going –',\n",
       "  'I know it’s him',\n",
       "  'Yeah – that’s why I get scared, cuz like y’know what if it happens again, something does happen to me. ',\n",
       "  'so yea',\n",
       "  'mm yeah',\n",
       "  'well, talkin about it is hard. ',\n",
       "  'yeah , I appreciate your willingness to do that. I can tell this is really difficult. Brings up a lot of emotions. And it sound slike there’s a little bit in of a way in which you’re constantly doing a lot of work almost with your thoughts as well to sort of keep these emotions in. does that sound like maybe something you’re? ',\n",
       "  'yeah (wiping tears- not audible)',\n",
       "  'yeah cuz if I’m at home and I think about it. I don’t really cry, I just think about something else. ',\n",
       "  'ok',\n",
       "  'umm I think just – the hardest part is just - - - - (sniffles) thinking about what happened. Cuz of the way I remember feeling when it was going on. ',\n",
       "  '- - mmhm - - yeah (holding in tears)',\n",
       "  'what do – like',\n",
       "  'oh no the only time I think about it is like kind of make myself think about it. Yeah. But I don’t other than that I don’t. I don’t think about. Cuz – when I’m around people  cuz nobody knows ',\n",
       "  'yes I don’t even. I try not to. I don’t think abot it. ',\n",
       "  'Yeah – I didn’t wanna come today. (sniffling) ',\n",
       "  'talking about Edwin. ',\n",
       "  'cuz my mom called me – cuz I was thinking about it since the morning I was like I’m gonna call and I’m not gonna go. But my mom was y’know coming so I think I mentioned that I have an appointment – oh cuz she wanted me to go over to her house and I told her I couldn’t go right away cuz I had the appointment – and I told her ‘o h I just won’t go’ and she goes ‘ooh you better go’ and just come after. So '],\n",
       " ['I uh - forget where we uh - left off - - \\r',\n",
       "  'yeah I think uh - - I left  - - it seems like - when I come in I talk a lot about uh - my relationship with [name of girlfriend]] and uh - - I guess that’s been kind of - y’know uh - bothering me lately or - - concerning - and what we were - I believe talking about - was - y’know my - wanting to - maybe - uh - y’know - tie the knot with her - and uh - get married and have a family - which I think is uh stressful to uh - think about that at this point - and uh I wanted to - there’s a part of me - that wants to do it - and there’s a part of me that doesn’t - and - - the part of me is uh - - the part saying you know uh I guess I think - - part of my struggling with this is that I think your life changes when you get married - - um - you live with someone you uh you you know you make a commitment for life you have kids i think you have to think different you’re whole - going from single to um married I think is eomthign that uh is a challenge that you know i want to dive into but i don’t want to make a wrong choice because that choice is life changing - and I’ve already been married once so - - so I think that a that is something I’m struggling with do I want to do it but uh i’m not sure if that’s what i’m doing because I’m supposed to or because I want to - - \\r',\n",
       "  'I mean I’m 34 - and I don’t know if there’s an age that you’re supposed to get married but you know she’s 31 - and if she gets married she wants to have kids as someone as her early thirties rather than someone in her late 30’s - gets more challenging as the time clock is ticking - so that’s something on my mind I wanna do it i think um I really adore her and I thinks she’s very good - I think what we were speaking about last time now that I start talking and thinking about it - my relationship with my father - and my uh - high school - when uh - I was in my final senior year of high school and we weren’t getting along and he brought me to this hospital called Tom’s hospital - and he said let’s go see y’know uh - a therapist - a doctor - and uh - he dropped me off and never came back - which - from that point on - our relationship - uh - I - when I came out of there - I lived with my mom and my dad would - - go back and forth - my mom was uh kind of a single mom struggling and uh didn’t have a lot of money - so you know it was hard for me to live with her um - uh - what happened was uh - this guy on my golf team - his father - was very supportive - of me - and the community (T: incomprehensible) and he you know went to my dad and said you know - you better get [patient’s name] out of there - because he’s right in the middle of school - uh - you know you’ve had a rocky relationship - or you’re gonna have problems - you know my dad was a - a cop with the sheriff’s department you know hes uh - fairly high level - uh - cop you know - and and and uh - he wasn’t paying child support 1 , 2 you know - when I was with my mom - and 2 - you know - so anyway I came out of there - and I lived with uh my friend and uh - his father and you know they ahd a - big house and uh - - very wealthy and it wasn’t - - too much of a strain for me to - live there - and I got along with Tom - the son there and - he was a golfer - and from this point on my dad was kind of like - uh known I guess in my friends and in my family - just kind of a bad guy - he really didn’t care about me - and uh - - had is own agenda - and a new marriage and was just - doing his own thing with his new wife and their kids - and really just kind of - not - really uh - showed any - compassion - for me - or - support - so - I think a lot of these uh - things uh uh affect me - - that uh - - I really didn’t have him to rely on - um - and uh - he never came to visit me at college he never came to visit me uh y’know - I went to [name of University] - even went as far as - I had a golf scholarship he called my golf coach and my coach said - - y’know this cop is calling me he sounded a little bitter and he was telling me you know ‘why I recruited you and why you got the scholarship because I wasn’t any good - that you know - I was an awful person - \\r',\n",
       "  'yep - he did - I think I told you one time - I was driving through Florida and I got pulled over for running a stop sign and my license was suspended because I didn’t pay a ticket and uh uh - the guy immediately recognized my last name and he worked with my dad and and uh - the house was fairly close to there so we went over there- and I was kind of back from college - and my dad said - - I don’t want to see him - do whatever you want to do with him - close the door - and uh - - it was just a very bad feeling - - even like the cop you know said well where you do you wanna go that’s really bad that your father would do that - and uh he uh - - just stuff lke that I can never like - rely on him - if there was ever a problem like that - uh - you know I would think that my dad would like be on my side but because - him and I didn’t have a good relationship he always figured I was bad - and guilty - so uh - I just never could ever count on him and always knew that he was on the other side of the table - to justify I guess - him - against me - - um - - going forward and that I think - affected my - psyche - a little bit about letting people close to me- cuz he was my dad - for chrissakes - I was very close with my mother and just figured that my dad just really changed and his wife that he remarried was just very possessive of his time effort and love and everything and he just would go up against that to stand up for uh - for maybe how he truly felt- or wanted to do - which I thought was kind of a - weak position - selfish - -uh - - and I just have - I don’t think I could ever - or would want to ever forgive hi m - because uh - I think there - you could forgive someone - at a certain time - but it just goes too far where there’s - no turning  back - and I don’t think I could ever- ever- forgive how he’s kind of a - treating me - in my life - and you know like I spoke to my grandparents and they’re like y’know your dad loves you and you know - try and - and it just - it makes me mad - - when they would say that - because they just don’t understand that this guy has been a real selfish guy  - to me - i’m his only son - and really hasn’t tried and blames everything on me for us not getting along\\r',\n",
       "  'well I just feel uh I don’t think about him y’know? hardly ever - you know I’m thinking about him now and all these feelings are coming back but uh - I think that uh - I just - you know have no feelings towards him - um - I just uh don’t really I’m not that interested in all the effort - it would take to try to uh - try and have a relationship with him - it would be more uh - grief - the effort to put in - \\r',\n",
       "  'it would bring more grief - I could put a lot of effort into it and it could- - bring me down - - more than - help me - \\r',\n",
       "  'no no (T: there was nothing of that) I think you’re right I think I’ve cut my feelings off - - from him - um - because i’ not mad at him i just you know i’m not bitter - I just - feel bad that I haven’t had a dad there - as a relationship - it would be nice - I feel you k now bad that my kids uh y’know won’t really have a good grandfather to go to you know I really look at my mom and stepdad and - that side of the family - as like the real uh - the real side of the family - um - and I just - feel a little I guess a little disappointed that he wasn’t able to be - - a little more open minded - and a little bit more giving as far as - his relationship with me he’s just - so damn selfish - just you know - pisses me off - how selfish someone can be and not really understand like - for instance - I see um - [name of girlfriend]] - her parents are greek - greek immigrants they came over in a like - 29 years ago she was born like a year after they came over here - and they give everything to their family -they babysit - they live for their kids - um they uh - would do anyting for their kids - and my dad is uh - the opposite of that - he hates kids - he would say that - he said kids and then like were like a big inconvenience he never really wanted to help me with college he’d rather go out and buy himself uh - uh a car or new motorcycle - and you know when I was in college you know he would parade these things - in front of me and - and uh this and that - and just - it was a little bit um - - it was a little - like - disturbing that he like would want to invest in like material thigns rather than like me or our relationship or - you know never came to visit me in college - or school or you know um didn’t call me when this thing happened up here in 9/11 and knew I lived here in NY - just totally like - not really um - - -tried  - - - and has really cut that part of the family off from me - because it’s just a bad situation \\r',\n",
       "  'I feel uh - a little bit sad I feel kind of like I got the short end of the stick as far as uh you know - having a - fulfilled family - I feel uh like I didn’t get enough support you know or have a family that was um healthy and uh you know i just feel like uh a little bit empty as far as you know as having that good family behind me - you know my mom and my grandmother I call her my noni - but you know - pop just died - and that side of the family is good I feel good about that but my dad’s side of the family just kind of really screwed up the whole kind of natural flowing thing of the family I mean he doesn’t talk to my mom and they hate each other and his wife doesn’t like me and its’ awkward between me and my stepbrothers and stepsister on that side because - so he’s really like - - just been very selfish about the situation - and I think it’s - affected me - up to you know today - - with uh - - i guess me not really uh having a good family - life - maybe me being a little bit protective lke when I’m in a relationship to be protective of - - you know uh - - relationships - - so - - you know I thin it’s a problem and I think it’s definitely affected me you know I don’t think I have uh - uh - I think i’ve turned out ok it’s just that I don’t feel that I have like a  good solid family to offer someone like [name of girlfriend]] - - and I think part of - you know we were talking a little bit about me - uh - you know not bringing her down to Florida and not opening up - and I almost feel like a little insecure about my family life because it’s been a little bit shaky and I don’t awant to bring anybody into that - but I have to deal with - because I feel that would - turn - someone off I feel like uh - I deal tiwth with enough that I just don’t want to subject anyone else to maybe the abuse that I feel - that I got - as far as- not having a good family - you know she’s the opposite - she has you know an overprotective mother anda  father who - would do anything - for her and a great sister and a great greek family that just - comes together - and uh really values the whole family thing - um - and she can’t understand how I can go like - um - we’ve been dating for almost two years and why I haven’t gone down to flordia - and you know I used to go down to florida every 3 months just to go see family down there - and I haven’t and it’s been um i’ve been a little bit nervous about bringing her down there and just kind of - opening up - that side  \\r',\n",
       "  'I’m talking too much, right? \\r',\n",
       "  'no irt feels I guess good to - talk about these things - - um - te deep breath is a long - it’s been a long haul - with dealing with some of these things - and one of the things that attracts me to [name of girlfriend]] is uh she has a good family - and shes’ got good family values and uh she uh appreciates kids and uh I guess it’s like everything I’ve really kind of looked for in a person -- as far as you know a family and everything else and uh - she wants to meet my family but I don’t want her to be freaked out - by you know - everything I guess uh - there’s nothing really for me to be freaked out what is it is - and I should just let her yo know - - in \\r',\n",
       "  'No I feel uh - - you know as I talk - maybe I - uh trying to figure out myself - which I think uh - I have to do - I’ve bottled up a lot of these feelings and uh - they don’t go away - my dad is just a a situation that uh i don’t know what to do about it - i don’t wanna have him come in and uh - into my life right now - I just feel like he’s - will try to hurt me \\r',\n",
       "  'yeah I mean - - it’s a place that I don’t really wanna go - um - I think I had bottled them up maybe uh it comes out of my sometimes because there - I don’t’ feel relaxed I don’t feel about secure about everything- and you know uh - when [name of girlfriend]] and I - fight - which we really haven’t lately - and um she like goes into a sort of thing like ‘I feel almost alone’ I feel a lot like I need to - I don’t have that family background - and I almost feel like - alone like I did then - \\r',\n",
       "  'so you know I don’t really have this you know - strong family life - um I have a business right now that’s sometimes up sometimes down - um - which uh I can take but then again when you don’t have a strong family and your relationship - someone you really care about a lot - is shaky - - you know I feel alone in the world - and alittle scared- and not knowing who to go to and uh disoriented as far as you know uh the direction I wanna go - \\r',\n",
       "  'yeah - yeah - I think that - on - the um =-alone situation - - I think if I was maybe a little more certain of myself i would know if [name of girlfriend]] is for me or not - I know that like if I go into a relationship with her I want it to be a good relationship - I think I’m maybe a little scared that all these things that affected me when I was a kid  will affect my adult life with [name of girlfriend]] and my kids - and I don’t want that to roll over into like the next generation i want to like fix it before you know I get married to [name of girlfriend]] or - not - um - I do think I wanna get married to [name of girlfriend]] i do want to have lots of friends and good balance in my life - but I find it very hard to find that balance right now I find myself - not knowing who I am right now - not knowing - who my friends are - or - um which direction I’m going in - I feel like I definitely know which direction I’m going in with my business life - but in really who I am as far as a good relationship and you know kind of maturing into myself i’m - a bit lost - and uh - i just uh - feel - not real confident about my family life - i mean i know it’s there - but - it’s been shaky I mean my whole life and I’ve really - engaged [name of girlfriend]]’s family the past two years as - she’s my family - and her contacts and friends are my friends - and I work - so I’ve got these like two separate things where i don’t’ know maybe who I am - and uh maybe I feel uh - um a little bit y’know lost on - which direction to go - and I’m not sure - how to really find - where I’m going - \\r',\n",
       "  'it feels frustrating - it feels um a bit um you know scary and uh it also feels exhausting ve because uh i’m always wondering maybe what’s gonna happen next - I don’t feel like there’s continuity = I feel like I’m all over the place sometimes - rather than focused- I try to be very focused at work - but just life in general - i don’t want my whole life to revolve around work - I want a life outside work - I want to have a good family - I want to - have a good family you know how I feel is like if I’m gonna have a good family I need to create one with the right person and with the right friends - I feel like - my family is there - but my mom’s side is there - my dad’s side isn’t - so it’s a bit scary - i feel like if i didn’t tie the knot with [name of girlfriend]] i’d almost be starting all over with someone - and I don’t really wanna be in the wrong relationship i feel like I’m in the right relationship - but there’s a piece of me that really feels like - am I just clamping on to her because she’s there - or does she really make me happy - and I think she really makes me happy - but there’s a part of me that says I’m doing this out of habit - am I just used to her - am I  - do I like the security because she’s there for me - um - I think I really love her and I think she really like does it for me as far as there - but you know there’s doubts because we went through a period of time where we fought a lot and she wasn’t into the relationship as much as I was \\r',\n",
       "  'I voiced them (T: even more in the (???) yeah - I voiced them y’know for instance - and I don’t mean to jump around here - but like tonight I’m meeting her here aftwards and you know she’s meeting with her group of people and this is part of the group that you know has Waldo the gay guy she used to date and some of the other people that /?she’s been meeting at the tribeca grand hotel and uh I mean dean asaid do you wanna meet after work we’re meeting for happy hour - and michelle is staying at the hotel there and it’s her last night there because she’s down - her apartment was down by the world trade center - \\r',\n",
       "  'michelle is her friend who works with uh - waldo - so i said you know i’ll come by for a drink and why don’t you and i go out for dinner or something uh which is fine - but you know I almost feel like - i’m impeding on her relationships - with some of these guys- but it just drives me a little crazy when I see these flamboyant gay guys hanging all over her in front of me i just think it’s a little bit disrespectful - even though they are gay - um - which shouldn’t be a threat - but you know a guy’s a guy and a girl’s a girl and yo know uh - it’s just y’know - a bit of - it bothers me - um - so um i’m trying to kind of handle that situation where I’m flexible - but it bothers me a little bit - and she’s really trying to be friends but say you know there’s a line - like ‘I’m now in a relationship and i’m not like the i’m not you cant just do anything youw want because [patient’s name] is - pretty close to my fiancé and if it bothers him I would really want to change something to accommodate my relationship - um - but you know I made an example to her like you know what if your sister - - went out with these gay guys all the time - and they were very affectionate in front of harry her husband- like harry would have a very - uh a conniption fit about that and I - try to be open minded but you know if it bothers me - I’ll try and be open minded but - - I think you know I have a lot of issues- and I think the main issue I think stems from not having a good family and having problems with my dad - which affects my makes me a little insecure now - because - you know for instance if I had a problem - I’d like to be able to call my dad - and have that relationship with my father - but I’ve never had a father - I’ve had a lot of relationships with women who I’ve befriended - and my mom who i’ve befriended - I don’t really have a relationship with my mom’s step - her new husband stepfather - there’s just - a mistrust there - and I think I just need to get over it\\r',\n",
       "  'yeah yeah - I don’t - um - you know I really don’t have that you know i’ve really been kind of on my own - since then - and uh - i don’t mind that because I know I can always just rely on myself - and I know I can rely that - on myself and i’ve gotten used to relying on myself so - a relationship is a little scary - to me - because - i’ve relied on myself and i’ve never let mself down - as far as being true to myself  - i think - but yeah i don’t have i’ve never had the direction of - you know my mom ‘s different - I think - she’s a woman - I’ve never really had that good relationship - with a father - where I could call and say you know what do you think of this what do you think of this decision i just relied on my instincts to do this and uh most of the time they’re right  but it’s always good to have an outside fresh opinion on that - i mean ive met some people - my partner elliot gayer - is a guy who’s just uh beyond smart and um - trust worthy and i think i’ve kind of relied on him for the best eight or nine years as my like guy I can always bounce things off of - I feel like I can trust him - he’s more or less my partner and we’ve looked out fr each other but it’s hard for me to ask him about y’know i’ve asked - he’s not my dad- he’s my partner and there’s a certain competitive relationship there but there’s also a friendship there you know so - - um - i haven’t had that - and uh - - i’ve found friendship in women that i’ve dated - uh - Elaine uh and I think I just need a good core of friends that like some of the same things i like - like I love golf this is one of my passions - and i think if i started to play more golf - but that could kind of become my  - circle - \\r',\n",
       "  'I uh well I - don’t mind it I - I actually like talking - it’s not the most pleasant thing - to dig into these - these past dealings - that i’ve had - I enjoy talking about it i think it’s helpful to me - to uh really kind of a work some of these things out - they’re a little foggy in my head I believe they’re bottled up - and I think um - as I talk about them i learn and i feel - de-stressed - - so - - it’s good \\r',\n",
       "  'yeah its um uh a bit of a resistance I find myself going into this - but i also tell myself that I wanan do it - but there’s part of me that uh - um is resisting to come- y’know - to do it- so i have found that the last two times i’m trying to wait till the last minute to go - subconsciously it seems and uh - i came late today i came late last time and i find it just very difficult to really dig in and talk about these things \\r',\n",
       "  '/but so - - I’m committed to going you know the full length and um doing it i just uh it’s not easy like i feel good now - i think it’s like - working out to go meet your trainer or something at 6:30 in the morning you’re not really excited until you get there and once you do it you feel good you gotta push yourself and i feel like i have to push myself to work some of these things out and i’m committed to doing it i’ll do it it’s just a little hard to just open up and look at the past it’s - it’s effort - \\r']]"
      ]
     },
     "execution_count": 6,
     "metadata": {},
     "output_type": "execute_result"
    }
   ],
   "source": [
    "test_turns = load_patient_turns_from_folder(folder_path)\n",
    "test_turns"
   ]
  },
  {
   "cell_type": "code",
   "execution_count": 7,
   "metadata": {},
   "outputs": [
    {
     "data": {
      "text/plain": [
       "99"
      ]
     },
     "execution_count": 7,
     "metadata": {},
     "output_type": "execute_result"
    }
   ],
   "source": [
    "len(test_turns[0])"
   ]
  },
  {
   "cell_type": "code",
   "execution_count": 8,
   "metadata": {},
   "outputs": [
    {
     "data": {
      "text/plain": [
       "['I uh - forget where we uh - left off - - \\r',\n",
       " 'yeah I think uh - - I left  - - it seems like - when I come in I talk a lot about uh - my relationship with [name of girlfriend]] and uh - - I guess that’s been kind of - y’know uh - bothering me lately or - - concerning - and what we were - I believe talking about - was - y’know my - wanting to - maybe - uh - y’know - tie the knot with her - and uh - get married and have a family - which I think is uh stressful to uh - think about that at this point - and uh I wanted to - there’s a part of me - that wants to do it - and there’s a part of me that doesn’t - and - - the part of me is uh - - the part saying you know uh I guess I think - - part of my struggling with this is that I think your life changes when you get married - - um - you live with someone you uh you you know you make a commitment for life you have kids i think you have to think different you’re whole - going from single to um married I think is eomthign that uh is a challenge that you know i want to dive into but i don’t want to make a wrong choice because that choice is life changing - and I’ve already been married once so - - so I think that a that is something I’m struggling with do I want to do it but uh i’m not sure if that’s what i’m doing because I’m supposed to or because I want to - - \\r',\n",
       " 'I mean I’m 34 - and I don’t know if there’s an age that you’re supposed to get married but you know she’s 31 - and if she gets married she wants to have kids as someone as her early thirties rather than someone in her late 30’s - gets more challenging as the time clock is ticking - so that’s something on my mind I wanna do it i think um I really adore her and I thinks she’s very good - I think what we were speaking about last time now that I start talking and thinking about it - my relationship with my father - and my uh - high school - when uh - I was in my final senior year of high school and we weren’t getting along and he brought me to this hospital called Tom’s hospital - and he said let’s go see y’know uh - a therapist - a doctor - and uh - he dropped me off and never came back - which - from that point on - our relationship - uh - I - when I came out of there - I lived with my mom and my dad would - - go back and forth - my mom was uh kind of a single mom struggling and uh didn’t have a lot of money - so you know it was hard for me to live with her um - uh - what happened was uh - this guy on my golf team - his father - was very supportive - of me - and the community (T: incomprehensible) and he you know went to my dad and said you know - you better get [patient’s name] out of there - because he’s right in the middle of school - uh - you know you’ve had a rocky relationship - or you’re gonna have problems - you know my dad was a - a cop with the sheriff’s department you know hes uh - fairly high level - uh - cop you know - and and and uh - he wasn’t paying child support 1 , 2 you know - when I was with my mom - and 2 - you know - so anyway I came out of there - and I lived with uh my friend and uh - his father and you know they ahd a - big house and uh - - very wealthy and it wasn’t - - too much of a strain for me to - live there - and I got along with Tom - the son there and - he was a golfer - and from this point on my dad was kind of like - uh known I guess in my friends and in my family - just kind of a bad guy - he really didn’t care about me - and uh - - had is own agenda - and a new marriage and was just - doing his own thing with his new wife and their kids - and really just kind of - not - really uh - showed any - compassion - for me - or - support - so - I think a lot of these uh - things uh uh affect me - - that uh - - I really didn’t have him to rely on - um - and uh - he never came to visit me at college he never came to visit me uh y’know - I went to [name of University] - even went as far as - I had a golf scholarship he called my golf coach and my coach said - - y’know this cop is calling me he sounded a little bitter and he was telling me you know ‘why I recruited you and why you got the scholarship because I wasn’t any good - that you know - I was an awful person - \\r',\n",
       " 'yep - he did - I think I told you one time - I was driving through Florida and I got pulled over for running a stop sign and my license was suspended because I didn’t pay a ticket and uh uh - the guy immediately recognized my last name and he worked with my dad and and uh - the house was fairly close to there so we went over there- and I was kind of back from college - and my dad said - - I don’t want to see him - do whatever you want to do with him - close the door - and uh - - it was just a very bad feeling - - even like the cop you know said well where you do you wanna go that’s really bad that your father would do that - and uh he uh - - just stuff lke that I can never like - rely on him - if there was ever a problem like that - uh - you know I would think that my dad would like be on my side but because - him and I didn’t have a good relationship he always figured I was bad - and guilty - so uh - I just never could ever count on him and always knew that he was on the other side of the table - to justify I guess - him - against me - - um - - going forward and that I think - affected my - psyche - a little bit about letting people close to me- cuz he was my dad - for chrissakes - I was very close with my mother and just figured that my dad just really changed and his wife that he remarried was just very possessive of his time effort and love and everything and he just would go up against that to stand up for uh - for maybe how he truly felt- or wanted to do - which I thought was kind of a - weak position - selfish - -uh - - and I just have - I don’t think I could ever - or would want to ever forgive hi m - because uh - I think there - you could forgive someone - at a certain time - but it just goes too far where there’s - no turning  back - and I don’t think I could ever- ever- forgive how he’s kind of a - treating me - in my life - and you know like I spoke to my grandparents and they’re like y’know your dad loves you and you know - try and - and it just - it makes me mad - - when they would say that - because they just don’t understand that this guy has been a real selfish guy  - to me - i’m his only son - and really hasn’t tried and blames everything on me for us not getting along\\r',\n",
       " 'well I just feel uh I don’t think about him y’know? hardly ever - you know I’m thinking about him now and all these feelings are coming back but uh - I think that uh - I just - you know have no feelings towards him - um - I just uh don’t really I’m not that interested in all the effort - it would take to try to uh - try and have a relationship with him - it would be more uh - grief - the effort to put in - \\r',\n",
       " 'it would bring more grief - I could put a lot of effort into it and it could- - bring me down - - more than - help me - \\r',\n",
       " 'no no (T: there was nothing of that) I think you’re right I think I’ve cut my feelings off - - from him - um - because i’ not mad at him i just you know i’m not bitter - I just - feel bad that I haven’t had a dad there - as a relationship - it would be nice - I feel you k now bad that my kids uh y’know won’t really have a good grandfather to go to you know I really look at my mom and stepdad and - that side of the family - as like the real uh - the real side of the family - um - and I just - feel a little I guess a little disappointed that he wasn’t able to be - - a little more open minded - and a little bit more giving as far as - his relationship with me he’s just - so damn selfish - just you know - pisses me off - how selfish someone can be and not really understand like - for instance - I see um - [name of girlfriend]] - her parents are greek - greek immigrants they came over in a like - 29 years ago she was born like a year after they came over here - and they give everything to their family -they babysit - they live for their kids - um they uh - would do anyting for their kids - and my dad is uh - the opposite of that - he hates kids - he would say that - he said kids and then like were like a big inconvenience he never really wanted to help me with college he’d rather go out and buy himself uh - uh a car or new motorcycle - and you know when I was in college you know he would parade these things - in front of me and - and uh this and that - and just - it was a little bit um - - it was a little - like - disturbing that he like would want to invest in like material thigns rather than like me or our relationship or - you know never came to visit me in college - or school or you know um didn’t call me when this thing happened up here in 9/11 and knew I lived here in NY - just totally like - not really um - - -tried  - - - and has really cut that part of the family off from me - because it’s just a bad situation \\r',\n",
       " 'I feel uh - a little bit sad I feel kind of like I got the short end of the stick as far as uh you know - having a - fulfilled family - I feel uh like I didn’t get enough support you know or have a family that was um healthy and uh you know i just feel like uh a little bit empty as far as you know as having that good family behind me - you know my mom and my grandmother I call her my noni - but you know - pop just died - and that side of the family is good I feel good about that but my dad’s side of the family just kind of really screwed up the whole kind of natural flowing thing of the family I mean he doesn’t talk to my mom and they hate each other and his wife doesn’t like me and its’ awkward between me and my stepbrothers and stepsister on that side because - so he’s really like - - just been very selfish about the situation - and I think it’s - affected me - up to you know today - - with uh - - i guess me not really uh having a good family - life - maybe me being a little bit protective lke when I’m in a relationship to be protective of - - you know uh - - relationships - - so - - you know I thin it’s a problem and I think it’s definitely affected me you know I don’t think I have uh - uh - I think i’ve turned out ok it’s just that I don’t feel that I have like a  good solid family to offer someone like [name of girlfriend]] - - and I think part of - you know we were talking a little bit about me - uh - you know not bringing her down to Florida and not opening up - and I almost feel like a little insecure about my family life because it’s been a little bit shaky and I don’t awant to bring anybody into that - but I have to deal with - because I feel that would - turn - someone off I feel like uh - I deal tiwth with enough that I just don’t want to subject anyone else to maybe the abuse that I feel - that I got - as far as- not having a good family - you know she’s the opposite - she has you know an overprotective mother anda  father who - would do anything - for her and a great sister and a great greek family that just - comes together - and uh really values the whole family thing - um - and she can’t understand how I can go like - um - we’ve been dating for almost two years and why I haven’t gone down to flordia - and you know I used to go down to florida every 3 months just to go see family down there - and I haven’t and it’s been um i’ve been a little bit nervous about bringing her down there and just kind of - opening up - that side  \\r',\n",
       " 'I’m talking too much, right? \\r',\n",
       " 'no irt feels I guess good to - talk about these things - - um - te deep breath is a long - it’s been a long haul - with dealing with some of these things - and one of the things that attracts me to [name of girlfriend]] is uh she has a good family - and shes’ got good family values and uh she uh appreciates kids and uh I guess it’s like everything I’ve really kind of looked for in a person -- as far as you know a family and everything else and uh - she wants to meet my family but I don’t want her to be freaked out - by you know - everything I guess uh - there’s nothing really for me to be freaked out what is it is - and I should just let her yo know - - in \\r',\n",
       " 'No I feel uh - - you know as I talk - maybe I - uh trying to figure out myself - which I think uh - I have to do - I’ve bottled up a lot of these feelings and uh - they don’t go away - my dad is just a a situation that uh i don’t know what to do about it - i don’t wanna have him come in and uh - into my life right now - I just feel like he’s - will try to hurt me \\r',\n",
       " 'yeah I mean - - it’s a place that I don’t really wanna go - um - I think I had bottled them up maybe uh it comes out of my sometimes because there - I don’t’ feel relaxed I don’t feel about secure about everything- and you know uh - when [name of girlfriend]] and I - fight - which we really haven’t lately - and um she like goes into a sort of thing like ‘I feel almost alone’ I feel a lot like I need to - I don’t have that family background - and I almost feel like - alone like I did then - \\r',\n",
       " 'so you know I don’t really have this you know - strong family life - um I have a business right now that’s sometimes up sometimes down - um - which uh I can take but then again when you don’t have a strong family and your relationship - someone you really care about a lot - is shaky - - you know I feel alone in the world - and alittle scared- and not knowing who to go to and uh disoriented as far as you know uh the direction I wanna go - \\r',\n",
       " 'yeah - yeah - I think that - on - the um =-alone situation - - I think if I was maybe a little more certain of myself i would know if [name of girlfriend]] is for me or not - I know that like if I go into a relationship with her I want it to be a good relationship - I think I’m maybe a little scared that all these things that affected me when I was a kid  will affect my adult life with [name of girlfriend]] and my kids - and I don’t want that to roll over into like the next generation i want to like fix it before you know I get married to [name of girlfriend]] or - not - um - I do think I wanna get married to [name of girlfriend]] i do want to have lots of friends and good balance in my life - but I find it very hard to find that balance right now I find myself - not knowing who I am right now - not knowing - who my friends are - or - um which direction I’m going in - I feel like I definitely know which direction I’m going in with my business life - but in really who I am as far as a good relationship and you know kind of maturing into myself i’m - a bit lost - and uh - i just uh - feel - not real confident about my family life - i mean i know it’s there - but - it’s been shaky I mean my whole life and I’ve really - engaged [name of girlfriend]]’s family the past two years as - she’s my family - and her contacts and friends are my friends - and I work - so I’ve got these like two separate things where i don’t’ know maybe who I am - and uh maybe I feel uh - um a little bit y’know lost on - which direction to go - and I’m not sure - how to really find - where I’m going - \\r',\n",
       " 'it feels frustrating - it feels um a bit um you know scary and uh it also feels exhausting ve because uh i’m always wondering maybe what’s gonna happen next - I don’t feel like there’s continuity = I feel like I’m all over the place sometimes - rather than focused- I try to be very focused at work - but just life in general - i don’t want my whole life to revolve around work - I want a life outside work - I want to have a good family - I want to - have a good family you know how I feel is like if I’m gonna have a good family I need to create one with the right person and with the right friends - I feel like - my family is there - but my mom’s side is there - my dad’s side isn’t - so it’s a bit scary - i feel like if i didn’t tie the knot with [name of girlfriend]] i’d almost be starting all over with someone - and I don’t really wanna be in the wrong relationship i feel like I’m in the right relationship - but there’s a piece of me that really feels like - am I just clamping on to her because she’s there - or does she really make me happy - and I think she really makes me happy - but there’s a part of me that says I’m doing this out of habit - am I just used to her - am I  - do I like the security because she’s there for me - um - I think I really love her and I think she really like does it for me as far as there - but you know there’s doubts because we went through a period of time where we fought a lot and she wasn’t into the relationship as much as I was \\r',\n",
       " 'I voiced them (T: even more in the (???) yeah - I voiced them y’know for instance - and I don’t mean to jump around here - but like tonight I’m meeting her here aftwards and you know she’s meeting with her group of people and this is part of the group that you know has Waldo the gay guy she used to date and some of the other people that /?she’s been meeting at the tribeca grand hotel and uh I mean dean asaid do you wanna meet after work we’re meeting for happy hour - and michelle is staying at the hotel there and it’s her last night there because she’s down - her apartment was down by the world trade center - \\r',\n",
       " 'michelle is her friend who works with uh - waldo - so i said you know i’ll come by for a drink and why don’t you and i go out for dinner or something uh which is fine - but you know I almost feel like - i’m impeding on her relationships - with some of these guys- but it just drives me a little crazy when I see these flamboyant gay guys hanging all over her in front of me i just think it’s a little bit disrespectful - even though they are gay - um - which shouldn’t be a threat - but you know a guy’s a guy and a girl’s a girl and yo know uh - it’s just y’know - a bit of - it bothers me - um - so um i’m trying to kind of handle that situation where I’m flexible - but it bothers me a little bit - and she’s really trying to be friends but say you know there’s a line - like ‘I’m now in a relationship and i’m not like the i’m not you cant just do anything youw want because [patient’s name] is - pretty close to my fiancé and if it bothers him I would really want to change something to accommodate my relationship - um - but you know I made an example to her like you know what if your sister - - went out with these gay guys all the time - and they were very affectionate in front of harry her husband- like harry would have a very - uh a conniption fit about that and I - try to be open minded but you know if it bothers me - I’ll try and be open minded but - - I think you know I have a lot of issues- and I think the main issue I think stems from not having a good family and having problems with my dad - which affects my makes me a little insecure now - because - you know for instance if I had a problem - I’d like to be able to call my dad - and have that relationship with my father - but I’ve never had a father - I’ve had a lot of relationships with women who I’ve befriended - and my mom who i’ve befriended - I don’t really have a relationship with my mom’s step - her new husband stepfather - there’s just - a mistrust there - and I think I just need to get over it\\r',\n",
       " 'yeah yeah - I don’t - um - you know I really don’t have that you know i’ve really been kind of on my own - since then - and uh - i don’t mind that because I know I can always just rely on myself - and I know I can rely that - on myself and i’ve gotten used to relying on myself so - a relationship is a little scary - to me - because - i’ve relied on myself and i’ve never let mself down - as far as being true to myself  - i think - but yeah i don’t have i’ve never had the direction of - you know my mom ‘s different - I think - she’s a woman - I’ve never really had that good relationship - with a father - where I could call and say you know what do you think of this what do you think of this decision i just relied on my instincts to do this and uh most of the time they’re right  but it’s always good to have an outside fresh opinion on that - i mean ive met some people - my partner elliot gayer - is a guy who’s just uh beyond smart and um - trust worthy and i think i’ve kind of relied on him for the best eight or nine years as my like guy I can always bounce things off of - I feel like I can trust him - he’s more or less my partner and we’ve looked out fr each other but it’s hard for me to ask him about y’know i’ve asked - he’s not my dad- he’s my partner and there’s a certain competitive relationship there but there’s also a friendship there you know so - - um - i haven’t had that - and uh - - i’ve found friendship in women that i’ve dated - uh - Elaine uh and I think I just need a good core of friends that like some of the same things i like - like I love golf this is one of my passions - and i think if i started to play more golf - but that could kind of become my  - circle - \\r',\n",
       " 'I uh well I - don’t mind it I - I actually like talking - it’s not the most pleasant thing - to dig into these - these past dealings - that i’ve had - I enjoy talking about it i think it’s helpful to me - to uh really kind of a work some of these things out - they’re a little foggy in my head I believe they’re bottled up - and I think um - as I talk about them i learn and i feel - de-stressed - - so - - it’s good \\r',\n",
       " 'yeah its um uh a bit of a resistance I find myself going into this - but i also tell myself that I wanan do it - but there’s part of me that uh - um is resisting to come- y’know - to do it- so i have found that the last two times i’m trying to wait till the last minute to go - subconsciously it seems and uh - i came late today i came late last time and i find it just very difficult to really dig in and talk about these things \\r',\n",
       " '/but so - - I’m committed to going you know the full length and um doing it i just uh it’s not easy like i feel good now - i think it’s like - working out to go meet your trainer or something at 6:30 in the morning you’re not really excited until you get there and once you do it you feel good you gotta push yourself and i feel like i have to push myself to work some of these things out and i’m committed to doing it i’ll do it it’s just a little hard to just open up and look at the past it’s - it’s effort - \\r']"
      ]
     },
     "execution_count": 8,
     "metadata": {},
     "output_type": "execute_result"
    }
   ],
   "source": [
    "test_turns[3]"
   ]
  },
  {
   "cell_type": "code",
   "execution_count": 9,
   "metadata": {},
   "outputs": [
    {
     "data": {
      "text/plain": [
       "[['I’m ok. I’m feeling a little, ah, stressed because of everything coming up, um, but/ um, yeah, I, uh, my personal statement is like second draft form, and then I’m working on it, and it’s, it’s almost done. my friend Zach read it, and I think he made it more difficult for me to write it. just by giving me constructive criticism and being like, be more specific, y’know, as if the specificity is important, like they want to know exactly what’s going to set you apart from the other people, or highlight this, or make this, and I’m like,',\n",
       "  'ok, alright/ (kind of laughing) yeah, but not that one, cause we already did that um, but then there’s preparing all those monologues for my audition. I know which ones I’m doing and I’ve started working on them, um, and then I have an audition tomorrow, which I’m looking at, and then my class starts on Tuesday, for improv, and I sent an e-mail to those Shakespeare people that I thought I might audition with, and they’ve already cast everything but they’re, Chris is still considering me potentially for an understudy role, so I don’t know at all if and',\n",
       "  'when I’ll hear back from them yeah, yeah, yeah, yeah, so, we’ll see. I told them that I had a class starting. I didn’t tell them I had another audition, but/ yeah, because I didn’t get the sides, so yeah, so whatever, but it’s just like stuff’s, I mean like stuff’s happening, which it’s good, but it’s like piling up and I’m trying to find time to like get everything done and worry that I’m focusing on my essay too much when I should be focusing on my audition because that’s like (T: right) I, I don’t know yeah the',\n",
       "  'ball is in motion yeah, well how much, I mean, I know I can handle it all, but it’s how much, when, what hour can, well, it’s only if like there were like three more hours in the day I think I’d be, I’d be happier. oh, yeah, yeah, I’m, I’m in a good place, yeah/ yeah, yeah (- -) I found out, I don’t think I’m supposed to know, but my, a friend of, a friend of a friend, who has kind of become my friend, is actually at NYU right now, in the MFA program (T: uh-huh) um,',\n",
       "  'which I’m applying for, and, ah, she asked me when my audition was, and then she asked my friend Jubin what my last name was, and I was like, what is Julie doing, what does she want to know, and he told me, he’s like, I probably am not supposed to tell you this but I think, I think she’s giving you a recommendation, and so, that like, on top of everything, I’m like, oh my God, all right, ok, that could be, that could be good, that could be, I don’t know what that means, but, the, last night',\n",
       "  'with Rory I was like, what if I do get in, not that I don’t, I mean, I don’t know what I think, it’s not really a solid, I mean yeah it’s been a possibility, but it hasn’t been something that I’ve been like, oh, yeah, I’m definitely getting in and I’d probably go broke it would be a very big change I mean it would be being a student, it would be that focused performance all the time, that constantly working on something else, um, yeah, the money issue would be whatever yeah, I don’t, I don’t even want',\n",
       "  'to think about how much money it would be to finish my, I mean on top of everything else I have to finish my FAFSA like application, and try to get loans (sigh) it’s all good stuff (T: yeah) y’know, it’s not, it’s not bad things yeah, yeah, it is all for me. and I found out that Jessica is, she started taking an anti-depressant (T: oh) yeah, my sister, Jennifer, she didn’t tell me, Jennifer told me. she said that Jessica had been like having a conversation with like, oh, like maybe I should start taking medica-the anti-depressant, and',\n",
       "  'Jennifer was like, yeah, I mean like why not, see if it helps. and then Jessica was like, well, I started taking it like three weeks ago, and I don’t know if it’s like started affecting me yet, so/ I don’t, actually, I haven’t asked her about it. I should just like call her and be like, what’s up, what are you doing? Jennifer said, I mean we talked about you behind your back, and Jennifer said that you’re taking medication, so... but she does seem to be like, a little, like, a little better, a little more even, um,',\n",
       "  'not as depressed, I mean it’s an anti-depressant, so I hope it helps, um, but she’s like organizing what we’re going to buy my parents for my 40th, for their 40th wedding anniversary, and stuff she hasn’t really done before, which is good, so that makes me kind of go, ok, my sister’s trying to figure out her life, I don’t have to do it, not that I have to do it, but blah, blah, blah, blah, blah, blah, blah (laughs), sorry that, cause that’s what I feel like I’m doing yeah to what? you? (T: yeah) nothing, to talk,',\n",
       "  'to tell you, I don’t know that’s what I’m supposed to do I guess I go on little (twirling finger), when I/ I don’t know what I should talk about, um, well, I told my boss this morning, well here, wait, I can do it, I told my boss this morning that I was applying to grad school, and she was like, ah, oh yeah, you gotta do it, no rock should be left unturned, and I was just like, absolutely, um, - - - well - - (laughs) when I’m forced to, not forced, you’re not forcing me, but',\n",
       "  'when it’s (waving hand) I stop - - - - - - I’m thinking about the last time we did the silence thing, and it’s making me laugh again, - - - cause it’s silly, I don’t like silence - - - (sighs) you’re not going to talk, are you? (laughs) - - - - - my boyfriend called, and bought me a sandwich from this, ah, from this store, this mozzarella, like, bakery place, and I was like mm that’s amazing mozzarella, and we’ve heard like rumors about these sandwiches that they make, and you can only get them',\n",
       "  'on certain days of the week, in between like certain hours, and if they run out of beef and mozzarella, or if they just don’t make them, and he called me, and he’s like, I bought you a sandwich, you don’t, you’ve got dinner and lunch tomorrow cause they’re huge, so, that’s good no, he’s here (T: oh) he’s in Hoboken, um, he was gonna, he doesn’t have a job, so he’s gonna temp, and he was gonna come into the office, my office, tomorrow and Monday to do some filing for us, and every time he’s almost come into',\n",
       "  'the office, he gets another job with like one of those temp agencies, so he’s, he was worried that my boss hates him because of that, but both, both Michelle and I just laughed about it. we were like, come on Rory, you’re a comedian, you’ve got to have thicker skin. why would she hate you? it doesn’t matter. yeah - - yes. that’s why I love him, because he’s sensitive (laughs) it’s good, I think, um, I’m speaking up for things. why? you don’t think it is? I do think that I’m, I’m good. I feel good, I feel,',\n",
       "  'I feel confident and, like, - - - not defensive um, and not offensive, um, I don’t know I just feel good, I feel, I feel stronger. I don’t know, what do you? - - - - - - no, I don’t, I, I think, I was going, going, going, and then I was like, ok, this, this, I don’t know, is this all right, and then I think when I do I project the question of whether or not like oh I want is Oren okay with this I mean I guess are we, um, I mean, was this',\n",
       "  'ok, was this supposed to happen, um, was I supposed to keep, y’know, does that make sense? yeah, - - yes. what do I think? which is the more accurate answer than the rational answer sometimes we are yeah, - - I do - - absolutely will be, yeah, hanging out, going to a bar, going to see a show, hanging out before a show, whatever, I do, I, when there’s silence I’m like - - - - - who’s supposed to say the next thing? all of the above. I mean sometimes, yeah, it’s nice to have silence, and',\n",
       "  'I don’t, but if you were to give it like a, which is more often than the other, I think, more of the time I do go, I don’t, is this ok, rather than, oh I’ll just relax and hang out. (T: mm) and I’m trying to figure out how to be more of the silence is ok, through y’know my, my yoga, through my trying to figure out my balancing of my own like personal anxieties, like from that filler? yeah, yeah, yeah, yeah, yeah. what am I trying to gain? I don’t know, maybe I have the expectation',\n",
       "  'of myself that I am supposed to fill the 45 minutes? well, ah, then, saying, like, actually saying that out loud, and thinking about it and hearing it, it makes me feel as if then, what’s the point, like, I’m just talking to somebody rather than actually like doing therapy, cause that should be a back and forth thing, right? well, it’s almost like otherwise why am I, you know, what’s the point? I don’t know (clears throat) not consciously it would (clears throat) obviously it would depend on the tone but saying it sounds like judgment it would be,',\n",
       "  'I think I would be like, oh, hm, maybe this isn’t, is it ok, like I would be worried as you, if there was more, what, had I done something wrong, had I, you know? I don’t know. ok is like, on a positive-negative scale, ok is like more on the positive. yeah, yeah. am I doing well or, yes, is this worth my therapist’s time, so I mean I guess yeah going back to last week, I do hope that there’s some sort of like investment on your part or on my therapist’s part, in me (nodding) well, yes,',\n",
       "  'and I, that, that goes back to part of the reason why I signed up, was, I had this moment where I was with, I had just seen a show, and I was with some of my friends, and all of a sudden, like, I was putting my judgment of myself through someone else’s eyes. like it was like this, this realization that I was doing it, that I was looking at my friend Tim, and I was like, oh my God, Tim thinks I’m not, y’know, I didn’t say something the right way, or I wasn’t smart enough. I',\n",
       "  'don’t remember who it was, y’know, who exactly it was but it was me saying, oh, Tim thinks this, I see him looking at me that way, and that was, I, I realized in that moment that that was me putting my personal judgment of myself onto somebody else, like shifting the responsibility yeah, but that was the moment that I realized that that’s what I was doing. um-hm, yeah, that yeah, I don’t know, I mean everyone says you are your own worst critic, in that/ no, people say, I mean, I think people say it in general, I',\n",
       "  'mean, I’ve said it, I’ve heard my friends say it, about themselves, and y’know about the world, um, and I, I think I am, I, I do have expectations for myself, I do y’know think I should and shouldn’t, whatever, um, I don’t know why I can’t just give myself a break, but I don’t, so I do project, y’know. it drags, it drags me down, it doesn’t help me at all no, yeah, yeah, yeah, yeah no, I mean it, it makes sense, it’s um, I think that your next question is going to be, why do you do',\n",
       "  'that? why do you think that happens? um yeah, yeah, yeah - - - I think it’s a fairly accurate depiction of what I do. why? or, how to not? I guess that’s why I’m here. yes, I notice. well, I think it goes back to when you asked me, that we were talking about how I avoid the emotional aspect of things, that I, y’know, just play ping pong, and I keep my goal and make you, y’know, go away from that space. that it’s, y’know, coming into that space that makes me kind of settle in and go,',\n",
       "  'oh (sigh), take a breath into it and go like, here’s where we are, but what does that to me, how does that affect me? I don’t feel uncomfortable right now, so, um/ could it, wait, rewind, could it/ yeah. and they didn’t laugh at it (T: um) I think, I think in like my current state I’m, I would, I would just be like, all right (smirks) better luck next time - - - - - - or, the opposite, I mean I don’t know, it could, it could parlay into my incessant chatter trying to, I don’t know,',\n",
       "  'I could pick up, if I felt that, something hadn’t gone right or if, you know, I didn’t get the response that I wanted, someone laughs, I could pick it up and go, oh, well change the subject, make it different, create something else, so that- - - yeah no, I think it’s more nervous but I think it also becomes that, ah, that, that, that, ah, self-deprecation type, ah, nervousness, when it’s like oh, well, there I go, I didn’t say something funny, so, Jordan’s not the funny one, y’know, I don’t know, does that make sense? right, because',\n",
       "  'I’m not necessarily comfortable in the other space (T: right) so it’s, it, I don’t know I mean comfortable in the, in the, y’know, y’know, either or, I think it’s more frequently am I the, dd-tt-dididi-ta-da, y’know, just the, more often I’m diffused than (T: centered) centered yeah, yeah right, and um it’s a matter of, I think, I want to be more comfortable in that, that kind of space, where I don’t care, I let it roll off my, y’know. I, I just finished that book, the (incomprensible- name of the book), that I was reading last week, and,',\n",
       "  'like, he talks about all this, just letting go, and y’know the sense of Buddhism and meditation and how you just, you just let, separate yourself from that, like, it’s almost a material thing, but not you, does that make sense, like you just kind of separate yourself from that idea of having to do, or what’s expected, or whatever, you kinda give youself this space to just kinda do whatever you do, however it plans, however it, y’know, does itself, that’s what happens, and you move forward, and then release it. No, I can’t remember off the top of',\n",
       "  'my head. (T: right) but it’s a good book and it talks about teaching meditation and how this guy changed his life through meditation. I have, um, I do find it very difficult because I find it very difficult to quiet my mind, so in - - - focusing my breath, which is what your basic meditation is, focusing on your breath, I always find myself having to say, get back to the breath, ok, you know. exactly, allowing, like, yeah, you went away from your breath, so what, come back. yeah, not judging myself for having stepped away from',\n",
       "  'the breath, yeah, cause when I’m done I’m like uuuh, that’s not what you’re supposed to do, so yeah. I don’t know, I don’t know, what you’re supposed to feel but I’m like ok I can’t do this anymore, so that’s when I end, or if I do find myself relaxed enough, or just kind of really breathing, I’m like, ok, good, all right, I’m done. you just, kind of, I think know. um - - - - no specific, sometimes I’ll meditate/ sometimes I’ll do it when I go to bed. sometimes I’ll be in a situation, uh, like,',\n",
       "  'anywhere, sometimes I’ll be at work and I’ll be doing so many things and I’m like, I just (sigh) take a deep breath or y’know just focus on it and I’m walking down the street, listening to everything that’s going on, I’m like ok, let’s center, see what that does right now, so. yeah, which I don’t use frequently enough (T: mm-hm) or I haven’t mastered. it’s like a training kit tool, or a training wheels tool. - - - - - - ahh, I don’t know. - - - - mm - - - - - - - -',\n",
       "  'ah, I don’t know, sometimes I think that my focus and drive on what I want to accomplish can help me, y’know, create a thing that I go towards so that feels like I’m centering, does that make sense? I don’t know that I sit down and pay attention to, I don’t go, ok, now is my time to sit down and think about what I want. it’ll be - - - - I just did it. - - I just, I, I submitted for more auditions, I sent my, I sent e-mails out, I ah y’know sent my resume,',\n",
       "  'and I just looked for more. I made more of an effort to make the change. so that is that you focus on the change and go towards it. I did do that. and I just got lucky, I don’t really believe that/ yeah, I did have some control over it, - - - - a lot of it, so. - - - - um, - - - - I think it would start to, ah, be centered around, like if I got cast in a show, this show that I auditioned for, I think that, ah, like tomorrow, I',\n",
       "  'think it would, there would be moment of me, my struggle in the development of what my character is in the show, so it would be like, oh I don’t know, I’m having a real hard time at rehearsal, in this scene, or, um, with school, I think the only thing I’ve ever heard from those who have gone through really intensive programs is that like you’re sharing so much of yourself with people who are poten-like a the time, strangers, and like because you’re trying to be really vulnerable in front of one another, it would be, I think',\n",
       "  'that there would be that idea of, oh my God, I can’t believe that I’m telling these people this, or that I was able to even talk about it, or you know, I don’t, it is so hard, to say x, y, and z, and, y’know, just be open, and how to be open. exactly, it’s, y’know, I mean, I talk about, I tell people, when, that I think that you have to be vulnerable in order to, to act, and to improvise, and to be someone who really touches, like, an audience, and so, it’s a matter of actually,',\n",
       "  'really, doing what I say, and what I think needs to happen - - - as an actor. um, - - I think it’s a, a separate idea, um I think that, I think that you can be vulnerable, I think that I can be vulnerable if I’m being in a moment and being honest about whatever it is that we’re talking about, but I think that in a sense memory, like I think which is what you’re talking about when you’re like this idea of what do you pull to be vulnerable or mm - - I think about',\n",
       "  'in those instances like I’ve, I think about my grandfather, who died when I was at camp in 2002 and, um, moments of, I mean I think it depends on what. what the need of the vulnerability is, if that’s the right word for what I’m thinking about, the, I feel like there are two different ideas, does that make sense? I think there’s the difference of being vulnerable as the character and vulnerable as the student in the classroom with the other students, like, me being me. yeah, yeah, I think that the, the, tapping into the vulnerability of',\n",
       "  'the character, pulling back on my own personal experiences is separate from, because you tap into different resources. - - - I mean, they’re not, but something appears, like oh there’s this separate, like you have little pockets for everything, and you don’t, I mean you can, but you don’t, you don’t need to. it’s all right why are they different? I think that that’s, that’s the idea, is that in that situation is, it is accepted, everyone else is doing the same thing, everyone else is allowing themselves to be vulnerable with you, so that’s why it’s almost easier',\n",
       "  'to do it in that, that space, and then in your social and whatever, like, ah, you said interpersonal, is that like it’s not everybody else does it in a social situation, not everybody else is vulnerable, everybody else has these walls put up, so. . . yeah, so it’s a, it’s a gage. I think that I, I gage how open or comfortable, I mean I think that happens with relationships, y’know you’re more comfortable with one person because you both are more willing to be open with one another, y’know, and then Dave, Dave doesn’t like to share',\n",
       "  'those kind of things so you don’t share those kind of things. I think that it does kind of, just/ yeah, yeah, emo- I’m too emotional, or you’re so dramatic, no, I’m just - - ok, well, ok, if that’s not supposed to happen here, fine. yes, yeah, yeah my boyfriend. oh he tells me both, yeah. social, or even when we’re just together like it, sometimes when, when we’re arguing about something or I get upset about something he says, ah, you get, you get so overdramatic Jordan, and I’m like, no, I’m, I’m not, I’m responding the way',\n",
       "  'that I’m responding, why is that overdramatic? - - - - because it’s not allowing me to be me. it’s, it’s, it’s saying that, well what you’re doing is wrong, that there’s no, there’s no space for that right now, or in this place, and it’s like, why not? no, my walls should be non-existent. yeah, I think so we have this intimate relationship in which there shouldn’t be walls and - - - - we’re two different people, so - - yeah, and, y’know, I’m not going to not do what I do, and keep getting the resp- it’s',\n",
       "  'fine, y’know and I, I don’t challenge, I don’t think challenge is the right word. I want for him to not have walls with me, y’know, ah, and I think, I think they’re significantly lower than they are when he’s with other people (T: they’re not going up) when he’s with me. right, yeah. what is next week, um? can I look at my calendar to figure out if, I mean what is direct, of your schedule like during the week? I mean if we can’t it’s fine, too, but I’m not coming back the week of the, my audition',\n",
       "  '(incomprehensible) I’m sorry that I responded to you all that I did I know, but, I, I feel bad'],\n",
       " ['And: how was your vacation? That’s always good. (T: (laugh /? I guess that’s the point right?) That’s the point. Did you go away? Out of the States? Good. Very good. Ahm - challenging - (T: yeah?) yeah. I had to - uhm - take some medication (T: You did?) yeah. It was just ahm - unbearable (T:mm-mm). It was agonzing actually. (mm-mm). And uh so I’m taking 10 milligrams of - (?Selexia). (T: okay) And its calmed me down. Because it was just - freaking me out. Well I mean - I was in a lot of pain. And',\n",
       "  '- I kept - struggling not to take it. Ahm - but - not this past Sunday the Sunday before - it was when I started to take it. I was just - - because the last time that I saw you, it was- days after I saw you I mean it just got - anxiety - just got worse and worse - ahm and you know I felt - - I guess emotional pain and - the struggled within myself to - just try to - calm myself. And - I was - you know I just - my',\n",
       "  'wife I called her up and she is like “no,why are you suffering like this /?if?” nd - so I - I just start to taking it and - you know it’s- it’s helped me so far. Yeah. I got about four months with/?worth the medication. - - - - Well I mean you know it’s it’s it’s not a complete relief because it’s a very low dose, but it helps. Uhm - And - my thoughts are still pretty scattered. I’m trying to figure out how to: ah- - - you know how to control my thoughts. Cos that’s',\n",
       "  'really what it- what it’s all about. It’s controlling my /(? thoughts so that they don’t get racy and they - The thoughts that are going though my head are the ones that make me anxious. Because, they may not be true. But they certainly feel like it’s true. You know? Well I mean I - I start thinking about uhm - you know, that weekend I was start thinking - oh my God I’ll loose my job and this happens and this happens and this happens and this happens and it just kep- you know - it just keeps',\n",
       "  'escalating. And I can’t - It gets at the point where you know I’m so like stressed out over it. And anxious over it. It feels - very painful - - - So: ahm, you know, w- I was reading, you know, anxiety disorders, and general anxiety disorders, and: I read /(?some websites again, I had read on it but: you know it it- it- mentioned that it works well with psychotherapy, and - - so that was also kind of a - a deciding factor. That - you know, the two can- go well together - - - -',\n",
       "  'So - That’s where I’m at right now. yeah I mean um - I think it’s gotten harder for me to control these you know thoughts, I mean, my negative thoughts, you know? Like, ahm, I was sitting, ahm we had, ahm, you know, one of these events we always have in terms of - organization improvement, you know they celebrate: you know /(?a big break-through - - and I was sitting in- in the conference room, and I was feeling pretty good. And all of a sudden I see my boss walk in and - bum like - I',\n",
       "  'even wrote it down, you know, I I said, I gotta capture this - so I was trying to analyze that /(?like why? but- she’s- she’s a nice lady, it’s not like - I had bosses earlier, forget it, I should be going that way(??). And I was trying to figure out, is it the authority?, is it a - you know, is there some connection here with- my childhood, in terms of, ahm - you know, feeling - I guess demoralized, and- and - um what’s another word, patronized /? I guess, by the comments my father used to',\n",
       "  'make, maybe when I see some - and also the fact that I just hate to feel that people have like control over me, so, I- you know, it’s not really her, is, it’s, you know, what’s behind it. Those kind of things. I think it may have.I’m not sure, you know, I still felt the butterflies and all that stuff, but it might have helped to recognize that. (T: Ok). this- this time (?around) with the anxiety, it’s escalating, you know, where, I- I- I um doubt myself a lot about it - I have told you about this',\n",
       "  'simple stuff, you know? and, I mean, anybody who’s been (assignment??) - can I do this? You know, it’s like - stupid, but - it’s a thought, you know, and um - - So - I guess the medication just helps me deal with it a little bit a little better - - not letting myself to escalate to the point where you know I feel I am having an heart attack, my chest you know, it’s like chest pain, I’m breathing very shallow, and then my thoughts get really racy, you know, ahm - - so you know, I',\n",
       "  'mean, I think about - “am I gonna be mentally ill as I get older”?, you know, ahm, and it’s just like one thing after another, one thought after another, and you know, “what happens if I get mentally ill?” well it just continues to escalate to more anxiety. You know (T: /? fear - is that?) Fear you know, uncertainty, and - what am I gonna do, and - you know,-all kinds of - thoughts like that, you know and - what’s gonna happen to my family, and- how’s my wife gonna make out, (incomprehensible??) mortgage /(?gonna get paid',\n",
       "  'off, I don’t have insurance, I mean, it just continues, you know? And um - so, I’m trying to - stay focused on what’s going on now, cos /(? that also- helps me. Just, let me, think about right now. What I am going to do then /?. And - you know, I feel the thoughts trying to get through, and they do most of the time but maybe as I get better in terms of - you know, being more cognitive of the present, that will take me away from the past or from the future - - -',\n",
       "  'so, you know, I was trying to put together some goals for the future, and stuff like that and I just - put it off for now, Yeah, I think so. - - -yeah I mean,- I used to like to work in Power Point, -and I - used to enjoy create these () put the presentations together, little cartoons, I mean (?)you know I can get really creative about it - and: - I still like it, but I feel like my creative side is like dead,- you know like I can’t , I haven’t been able to stimulate',\n",
       "  'it - - and - you know, the work that I am - producing is- is okay, but it’s, I know, that for me is not the best that I can do, and part of it is y’know it’s probably better because the enthusiasm isn’t all there either What it’s like? (T: mmm). Ahm - I don’t know, you know? I don’t know, if making that connection miraculously - makes me - feel better or - - or you know. the root of all of this is I think, - I don’t even know if it’s the root, certainly the',\n",
       "  'symptoms, are depressions, the sadness, the anxiety you know, I look at those as the symptoms and manifests itself through - through those type of things, you know? and - you know, y’know it was like going back to what is the “it” (chuckles) you know. I’m trying to figure that out. Maybe when I do, /?maybe no I won’t ?) I don’t know. But - you know, certainly, I- I think the all thing with my boss, and the authority, and that feeling of - you know, incompetence or the feeling of - - - less ahm - -',\n",
       "  '- - you know, smarter brighter than others, it’s just there, you know, when I was in grammar school, ahm, they had a program for- for kids, for a couple of weeks or - it wasn’t even a couple of weeks it was a couple of months, it was like a whole semester or something like that, and - it was with ahm these - this guy, who was, he was a director of some drug program, and I was in a catholic school, I wasn’t even /(?on drugs yet but the problem was like a reach, an outreach program,',\n",
       "  'and: - um once a week you know they take a group of kids and that they had identified - they identified me (chuckles), I must have been problems back /(? I-, and you know I used to meet with this guy and talk about you know just, living you know, and pressures and peer pressures and that stuff, but while that was happening I was missing a very important class, that I was happy to miss by the way - which was math - and so I was always behind in the class, and- and you know - whenever',\n",
       "  'I had an opportunity to attend I was like - noticed. and I got very bad grades cos I missed the foundation cos if you don’t build that, in grammar school, you know, uh it just gets harder - So you know, that also made me feel pretty inadequate in terms of not knowing - - math - - particularly at that age, you know, - /? and I was being looked at by the other kids as being kind of a dummy or something like that (incomprehensible) so I always felt very inferior about /?that, when I was a',\n",
       "  'kid. /?that’s the last time I ever went back to school - formally - (incomprehensible) - - - So, I don’t know. all this has to have - some effect. I’m sure it does - - i’m sure it does, you know? I always had that struggle - - you know ? um It’s like I know a little bit of everything but not much about nothing (chuckles) - - - And - and I always feel that people initially get the impression of me that I know what I am doing, and then I feel like that they may',\n",
       "  'find out that I am not that sure about what I am doing, - - How do they- I think just- based on you know, experience that I have, - - some of the places where I worked some issues that I’ve had, yeah I think you know, what I am feeling /?now,/?low just my demeanor, but what when I think when I am in a positive /?end of things, you know I feel like I can just - take on the world there’s nothing that I could - and that’s how I felt for a long time, until I',\n",
       "  'tripped, y’know (incomprehensible) a bad fall, but I mean, I I’ve read so many like self-improvement books, you know, one of th- I have one of the lines in my philosophy, is you know, “know thyself”, you know, continuously improve yourself, ahm so you know I’m always reading on how to improve myself. Whether that be through you know some psycho- psychology book, or through - some skill that I need to improve on, like excel power point stuff like that self-help and other stuff like that you know. How to be a better speaker, I’ve taken a (Person’s name)',\n",
       "  '- have you heard of (person’s name)? / (T: mm-hm)I’ve taken his course so um - I’ve listened to dozens of tapes , cd’s, (person’s name/Anthony Robbins) - you name it I can be when I am in that - - I haven’t been there in a while. mm-hm, I mean, I always felt I had to try harder, cos I am just not - as - smart as everybody else that’s the way I feel. - - - -So you think that making these connections - - I’ll come to realize something, /(huh? mm - And I’m trying to',\n",
       "  'understand that, you know I’m trying to understand what’s happening now and how it relates to the past, and you know it makes- sometimes I make sometime I make the connection - but then I don’t know if it really - - makes a difference /??to make the connection you know we did talk about something else last time and that was, it could also be a chemical imbalance, and - is there a way to- to know that? medically, or? Yeah, I was looking at that on the internet also, /?they even have a little, like how a medication,',\n",
       "  'what happens you know, to the synapses and uhm, I forgot exactly but you know, I forgot exactly how it how they travels, how the medication slows that down, bet- between serotonin and… And dopamine. And so that imbalance is, that imbalance could cause you to feel like that and the medication kind of stabilize this, right?, you feel /?normal Well I’ m not happy about it, that’s for sure. - - - You know, I don’t want to - I don’t want to take this medication forever, they have really bad side effects - and um- you know I',\n",
       "  'am just taking it - a day at a time I guess, I thought about when I thought about taking the medication it’s like maybe I just need to feel better, and I’m going to therapy, and you know later on I can think about /??needing the medication again, - - I did stop my medication pretty abrupt, and my doctor wasn’t too happy about that, and you know, it caused a reaction, I was dizzy, it caused some you know some physical reaction, but I was determined like to, just stop the medication, you know, /??to live a new',\n",
       "  'life, (Incomprehensible) But after feeling the pain that I was feeling, I feel a relief, you know (T: sure), and, it’s like having your arm in fire, and you know just - taking it out for a little while gives you that relief, so that’s how I feel, although I’m not completely out of the woods, but I do feel relief, and coping, feels a little better. oh (?) the disappointing thing is that I would have to continue take medications. about the side effects of the medication. well um you mean if I blame myself for it? I feel',\n",
       "  'it’s out of my control it’s, if it’s actually a chemical imbalance I mean, I don’t have control over it, other than take medication, or periodically stop taking it, till I find a better way. I don’t know if you know...yoga, or something else help change that - - - if- if, let’s say there is a page that I have to read (T: mm-mm). And uh let’s says there are two employees and I’m one of these two employees, and my boss says - here, both of you read that page and tell me what you think. I shut',\n",
       "  'down. I mean all of the sudden I like I mean, it could be something simple it’s not even the words, it’s just like - I can’t - the fact that he or she told me to read it and give them my thought right now, and there’s someone else like next to me reading it, and: you know, I feel like they are gonna read a lot faster than I am, and then will understand it, and that shuts me down. like if you tell me read it and tell me tomorrow what you think, I have time to',\n",
       "  'go and digest it and think about it. But, if you tell me do it right now, you know like, I mean, something really simple as math, I could go blank, - - You know? um And I don’t understand why you know, I don’t understand why I shut down like that, yeah. Oh, it happens all the time (T: it happens all the time), I mean it happens all the time.I try to you know - I mean I’ve gotten good at playing it off, - I guess when you have these kind of things you learn to ahm',\n",
       "  'I guess you learn coping mechanisms, so, a situation like that I might glance at it- get a few words, and let this person kinda - start it - /??kind of get the gist of things - say a few comments, but I haven’t really read the whole thing, I haven’t really digested it or thought, you know, so - and it’s all part of y’know my feeling - inferior ??I don’t know if? that’s the right word or what? and not be able to read, I’m like, I’ll read so slow, you know, I’m so conscious of of -',\n",
       "  '- of - - maybe not getting it right, not understanding it right, you know, it’s too fast, I - and I wonder if that’s some kind of learning disability something, you know, that I am little slower than others, that I gotta deal with that - you know? Which means maybe that’s why I do a lot of reading in terms of self-improvement and I am very conscious about that, maybe that’s a way I cope with it you know. ahm, probably but I can’t figure out right now (chuckles). Yeah, I am sure that uh it doesn’t make',\n",
       "  'me feel that great. right you know um - you /?ever heard of Colombo? Sometimes I think - this is funny but - I think, maybe I am like this guy Colombo, you know, he always comes across in the beginning like, he’s stupid, he’s a nuisance people kind of brush him off, and then he really knows what’s going on. He’s on to something, and sometimes I got to test myself like you know, uhm, I’ll say, do I really understand in reality what’s going on? and I’ll say a few things to myself you know, like “this is',\n",
       "  'what’s happening, but I’m not sure”, and then I hear all the people talk about it and say “I was right about that”, so I say to myself maybe it’s just the way I am, I just, learn differently, yeah, but we are in a world, where you need to learn fast, you know, every () that I’ve taken - you had to start - what is it that they say um you gotta start um the ground running, gotta start running. We don’t really have time to train you or show you so you’re gonna have to - So:',\n",
       "  'you know it’s it’s it’s fast, yeah, it’s a lot of pressure, and and you know maybe I am thinking, maybe it’s not so much that I’m not as smart, it’s just that it takes a little longer for me to get there(chuckles), but maybe I get it right, doesn’t mean the other people always get it right - - /??just cuz they’re faster. well I am just thinking, you know it’s just coming I am just thinking in this way now, /?that’s right - - So - yeah. It’s interesting but it’s just: uh - - I mean I',\n",
       "  'mean you know, do I think- so do I think now that I’m slow? I just have to think about it - - how do I leave today thinking oh well you know I am just slower than other people, but - I /??get it No I don’t (chuckles). it makes me feel like (incomprehensible) you know? maybe that’s why I (incomprehensible) /??outta school I don’t know. I just felt like I couldn’t keep up with everything. Well maybe I could, I don’t know, I felt lot smaller before, maybe I could but I just: uh - I - I',\n",
       "  'absolutely. I guess it’s worst when I am challenged (T:mm). There’s no question about that, and the threshold for that has gotten a lot lower, in that you know, I used to feel like that when the the challenge was all the way up here, and now I feel like that when it’s not really - when a part of me says that this isn’t really that much of a challenge so hy are you feeling this way? - so you know it’s gotten, the anxiety is gotten as as to some extent overpowering me) not quite but - it’s',\n",
       "  'not the best to me right now. So simple tasks, seem like a challenge, ahm - where - if someone had told me what I would do it now, like, shit by - five years ago I would have loved this, and I do, cos a part of me is you know I like the workplace - and then there’s a part of me that’s like you know - why can’t I - - feel like I was feeling, the anxiety as you say is in the way, doesn’t allow me to, kinda express myself. - - - I think',\n",
       "  'you know the - this whole experience of trying /?to (incomprehensible) my business, it was, it was pretty hard, pretty hard, because, I was feeling like so confident, I was feeling like - you know this all thing with the anxiety was over, was in the past, something that happened, I learned from it and maybe I’m better /??now, and then it was like: uh - - deceiving you know? when I needed to be the most confident, like I think about what happened, not be able to put my business up, you know part is because I left this',\n",
       "  'fear to overcome. I:- I- I- didn’t’ feel the same, suddenly like you know, the drive that I had, I started doubting myself, and starting feeling anxious, it continued to escalate, it then it paralyzed me, and then you know I wasn’t taking any medication and all that, it just got worse, so it was about you know I blamed myself I’d say it’s me, yes, the economy: but you know people make money and open up businesses in - all kinds of economies, you know what I mean, (some business/?) came out of the 1929 Depression, so you know',\n",
       "  'it’s a drive that you have to make something happen. I’ve lost my drive - - oh - - - that’s why I feel this way - yeah it did well I left, I moved for (??) last May, in 2008, and I came back in January this year. six or seven months, yeah. yeah - well you know it’s it’s actually - you know - - let’s see - ahm, it’s actually like eight months later and - a 100000 less, or more than that actually, uh because I had to dip into my savings to pay the mortgage,',\n",
       "  'to pay things that you know that that money was part of the investment, like . it’s a /?huge economic loss for me it’s a lifetime of savings - it’s not something you recover like - I mean - for you know you hear about people making millions of dollars, that’;s great but, for someone like me a hundred thousand dollars, two hundred thousand dollars savings is a lifetime yeah, no, you’re right about that, if I analyze it too you are absolutely right, you know, there would be a natural reaction, ahm - but then you know the whole',\n",
       "  'anxiety piece is - is beyond natural reaction, you know the fear like I can’t do certain tasks at times - um the anxiety and chest pain and /?all that comes with it, I think it’s beyond what most people feel - I mean I guess people they have that kind of loss where people lose more money, feel the same way. yeah,. everything comes back like failure, I’m embarrassed to other people that I went down there to try and start my own business: - and I remember telling my cousin (name) he’s like well you know I didn’t',\n",
       "  'want to tell you this but that didn’t seem you know that you /?? really did that well with that - and it just angered me y’know - I wish I would’ve - those are the kind of things that motivate me? at other times? y’know um -and then you know as people ask me well um ‘what happened?” you know - so I just say well you know I moved down to Florida - tried to start a business and it didn’t work out (incomprehensible) - but I’m kind of embarrassed about it y’know so do you think we',\n",
       "  'were like - like I feel like a little scattered today (T: mm-hm?) well or is it just the way I feel? I dunno like I feel like um - my thinking was - or my talking today was like - um - not focused I dunno - I don’t know that it should have been focused but (incomprehensible) this all make sense did this make sense today ? I dunno you mean I should uh - - think about the um - talking about those like - deep experiences? like today right I kinda came off /?that way I',\n",
       "  'guess yeah you’re absolutely right and you can talk about it intellectually but not - getting really to the root of the problem - so you almost like - justify why you feel this way and not be dealing with the feeling itself ok'],\n",
       " ['I forgot my notebook. But I have another one ummm no good umm not really. I just on the weekends, like Sunday was really nice and I looked out the window and I wanted to go out bu t- I just slept in all day (T: okay) but – like last week no no, I’m off the weekends. Saturday? What did I do Saturday. - - um I didn’t do anything either. yea oh, and we have Monday off, right? and I slept all day just cuz from sleeping all day Saturday I just wanted to sleep all day Sunday.',\n",
       "  'cuz you get lazy mmhm- he’s visiting with me. actually I called him – they told me on my phone it has this thing so the calls can go straight to voicemail – so the phone doesn’t even ring. (T: oh that’s perfect, that’s excellent). Um – I was kinda happy that I could do it. It still shows on the call log if he did call – and I looked (chuckles) and he did cal but I just didn’t. ummm not really. No. cuz I only saw it once – yea yea it was Monday. So he probably knew',\n",
       "  'I was off. yea I told the doorman and the handyman but I couldn’t find the super. Soi just – let him in last time yea so I told him yeah he wa skinda nosy about it (chuckles) yeah he was like ‘oh what happened?’ but I didn’t yeah – but he said if he saw him he wouldn’t let him in I mean it felt kinda weird when he was like ‘oh so what happened’? cuz he wanted to know (chuckles) so (incomprehensible) (T: so it made you feel kinda uncomfortable) No – no n ot really negative. I',\n",
       "  'just told him I appreciate if you see him just don’t let him come upstairs. the only time he shows up is when he drinks. yea is when he drinks yea at some point. But on the weekends, I was gonna stay at my mom’s like last weekend? But I knew I wasn’t gonna be able to sleep over there? (chuckles) that’s why I went home. cuz my sister’s there with the baby. And I have a 12 year old brother so he’s running around the house all day and they have a dog. yea and my mom’s so nosy',\n",
       "  '– if she sees that I sleep too much she’s like “are you depressed?? Get up get up” (gestures like mom rousing her from sleep). So it’s like, y’know yeah I just wanted quiet at home. um like missing him er well the thing is since we lived in that apartment it’s kinda weird. That’s what it is well when I start thinking about him I just try and start thinking about something else. - - - um - - - I’m trynna think like. - - - - - - (crying but NOT audible – just tears**) sniffles. Um',\n",
       "  '- - so – like what makes me think about him. well the table I have I hate it (chuckles) cuz when we were buying it I really didn’t like it and that’s the one he wanted so we ended up getting that one – and every time I see it I’m like - - I jus twanna throw the table out. But I don’t have another one so yeah that and then I’m mad that it reminds me of him (voice wavers still crying lightly). /so it makes me like, not want it more. yea (crying, sniffling, quietly –',\n",
       "  'not audible) clears throat um - - - I guess I’m mad that - - - - mm – well for one I’m mad that he did what he did to me. And I think him thinking that I cheated on him and I didn’t - that makes me mad too. um - - - - he didn’ cuz that’s why – I mean cuz I tried to break up with him before that even happened, and he didn’t let me, so – mmhm. Yeah. I guess I’m just mad at the whole thing - - - I feel like',\n",
       "  'I wasted so many years. um – well I don’t really think about that. Like I said before like if I missed him I just thought about what happened so I wouldn’t – like kinda like to make me mad at him so I wouldn’t yea. So then when I think about that it makes me – like /?more mad?/ at him. um - - like - - like my home laying down in bed sitting down by myself or eating cz I’m by myself or laundry (voice is shaking) no because even if I think about it I just',\n",
       "  '– it scares me what he did - //?would he/? do it again. if he shows up I always let him in I don’t know why like – instead of saying y’know I don’t want you to come in or leave – I don’t know hwy I just let him in. mmhm - - um - - maybe cuz I do miss him. I dunno what else – I just think it’s that – cuz I miss him. mmhm – but then when I do let him in I end up either mad or scared cuz one of the times',\n",
       "  'he came in he sat on the table and I had – I don’t really have time to go through the mail so I just odn’t open the mail and it piles up on thet able – so he picks up all the mail and starts going through it. I don’t know what he was looking for, but y’know Um it was like – notthe last time but the time before that it was in the like no after cuz he didn’t move out ‘till after. so you know (incompre) that just got me mad, cuz he scared. yea, I',\n",
       "  'kinda feel like – he just does whatever he wants open the door I’m not opening it. You can’t come in. I think I would just – I mean I could just go in my room. Cuz I wouldn’t be able to hear the door from my room. and go to my room – and lock the door, he wouldn’t be able to get in. I could actually leave - - cuz there’s a side - - then I wouldn’t be. And I know he wouldn’t even see me cuz I know he always leaves through hthe back of the',\n",
       "  'building, and the side exit is through the front. um I think that’s it – either go into my room or leave no cuz if I would call it – it would be – the only thought that I have of calling 911 is if I let him in and I saw that Yea - - - - um. I don’t know why I wouldn’t. I mean that – when – that um when he was hitting me I couldn’t because he y’know (T: right of course) and I wanted to after y’know after but – then he just called',\n",
       "  'his sister and I was like oh I’ll just wait for her to call me. - well- his sister was there - - //?like I told you??/ the whole time . she came, and she took me to the hospital. You know it was kinda like “what are you gonan say”?? I don’t know why, I think I was still scared. yeah - - um. I dunno. Really. I’m pretty sure he told him. the super. I wanna say I’m not gonna open it - - but I think it’s 50. yea yeah he’s gonna start talking about the same',\n",
       "  'thing over again. yea and by talking about it he’s just gonna get mad. and it could lead Hitting me mmhm – cuz that’s that why he gets mad cuz he keeps talkin and talkin about it – and I don’t wanna talk about it so I just ignore him? So I think that’s what gets him more mad than he already is. yeah - or I could just act like I didn’t hear the door. But the thing is because he come sin the middle of the night – I wake up scared cuz I near the door or',\n",
       "  'the phone so I kind of jus t jump off the bed and open the door, like. I think if I think about it. Cuz when I hear the door I don’t even think I just get up – jump off the bed – open the door. (T: so it sounds like you’re just going with the emotions) sort of going – I know it’s him Yeah – that’s why I get scared, cuz like y’know what if it happens again, something does happen to me. so yea mm yeah well, talkin about it is hard. yeah , I appreciate',\n",
       "  'your willingness to do that. I can tell this is really difficult. Brings up a lot of emotions. And it sound slike there’s a little bit in of a way in which you’re constantly doing a lot of work almost with your thoughts as well to sort of keep these emotions in. does that sound like maybe something you’re? yeah (wiping tears- not audible) yeah cuz if I’m at home and I think about it. I don’t really cry, I just think about something else. ok umm I think just – the hardest part is just - - - -',\n",
       "  '(sniffles) thinking about what happened. Cuz of the way I remember feeling when it was going on. - - mmhm - - yeah (holding in tears) what do – like oh no the only time I think about it is like kind of make myself think about it. Yeah. But I don’t other than that I don’t. I don’t think about. Cuz – when I’m around people cuz nobody knows yes I don’t even. I try not to. I don’t think abot it. Yeah – I didn’t wanna come today. (sniffling) talking about Edwin. cuz my mom called me –',\n",
       "  'cuz I was thinking about it since the morning I was like I’m gonna call and I’m not gonna go. But my mom was y’know coming so I think I mentioned that I have an appointment – oh cuz she wanted me to go over to her house and I told her I couldn’t go right away cuz I had the appointment – and I told her ‘o h I just won’t go’ and she goes ‘ooh you better go’ and just come after. So'],\n",
       " ['I uh - forget where we uh - left off - - yeah I think uh - - I left - - it seems like - when I come in I talk a lot about uh - my relationship with [name of girlfriend]] and uh - - I guess that’s been kind of - y’know uh - bothering me lately or - - concerning - and what we were - I believe talking about - was - y’know my - wanting to - maybe - uh - y’know - tie the knot with her - and uh - get married',\n",
       "  'and have a family - which I think is uh stressful to uh - think about that at this point - and uh I wanted to - there’s a part of me - that wants to do it - and there’s a part of me that doesn’t - and - - the part of me is uh - - the part saying you know uh I guess I think - - part of my struggling with this is that I think your life changes when you get married - - um - you live with someone you uh you you',\n",
       "  'know you make a commitment for life you have kids i think you have to think different you’re whole - going from single to um married I think is eomthign that uh is a challenge that you know i want to dive into but i don’t want to make a wrong choice because that choice is life changing - and I’ve already been married once so - - so I think that a that is something I’m struggling with do I want to do it but uh i’m not sure if that’s what i’m doing because I’m supposed to or',\n",
       "  'because I want to - - I mean I’m 34 - and I don’t know if there’s an age that you’re supposed to get married but you know she’s 31 - and if she gets married she wants to have kids as someone as her early thirties rather than someone in her late 30’s - gets more challenging as the time clock is ticking - so that’s something on my mind I wanna do it i think um I really adore her and I thinks she’s very good - I think what we were speaking about last time now that',\n",
       "  'I start talking and thinking about it - my relationship with my father - and my uh - high school - when uh - I was in my final senior year of high school and we weren’t getting along and he brought me to this hospital called Tom’s hospital - and he said let’s go see y’know uh - a therapist - a doctor - and uh - he dropped me off and never came back - which - from that point on - our relationship - uh - I - when I came out of there - I lived',\n",
       "  'with my mom and my dad would - - go back and forth - my mom was uh kind of a single mom struggling and uh didn’t have a lot of money - so you know it was hard for me to live with her um - uh - what happened was uh - this guy on my golf team - his father - was very supportive - of me - and the community (T: incomprehensible) and he you know went to my dad and said you know - you better get [patient’s name] out of there - because he’s',\n",
       "  'right in the middle of school - uh - you know you’ve had a rocky relationship - or you’re gonna have problems - you know my dad was a - a cop with the sheriff’s department you know hes uh - fairly high level - uh - cop you know - and and and uh - he wasn’t paying child support 1 , 2 you know - when I was with my mom - and 2 - you know - so anyway I came out of there - and I lived with uh my friend and uh - his father',\n",
       "  'and you know they ahd a - big house and uh - - very wealthy and it wasn’t - - too much of a strain for me to - live there - and I got along with Tom - the son there and - he was a golfer - and from this point on my dad was kind of like - uh known I guess in my friends and in my family - just kind of a bad guy - he really didn’t care about me - and uh - - had is own agenda - and a new marriage',\n",
       "  'and was just - doing his own thing with his new wife and their kids - and really just kind of - not - really uh - showed any - compassion - for me - or - support - so - I think a lot of these uh - things uh uh affect me - - that uh - - I really didn’t have him to rely on - um - and uh - he never came to visit me at college he never came to visit me uh y’know - I went to [name of University] - even went',\n",
       "  'as far as - I had a golf scholarship he called my golf coach and my coach said - - y’know this cop is calling me he sounded a little bitter and he was telling me you know ‘why I recruited you and why you got the scholarship because I wasn’t any good - that you know - I was an awful person - yep - he did - I think I told you one time - I was driving through Florida and I got pulled over for running a stop sign and my license was suspended because I didn’t',\n",
       "  'pay a ticket and uh uh - the guy immediately recognized my last name and he worked with my dad and and uh - the house was fairly close to there so we went over there- and I was kind of back from college - and my dad said - - I don’t want to see him - do whatever you want to do with him - close the door - and uh - - it was just a very bad feeling - - even like the cop you know said well where you do you wanna go that’s really',\n",
       "  'bad that your father would do that - and uh he uh - - just stuff lke that I can never like - rely on him - if there was ever a problem like that - uh - you know I would think that my dad would like be on my side but because - him and I didn’t have a good relationship he always figured I was bad - and guilty - so uh - I just never could ever count on him and always knew that he was on the other side of the table - to justify',\n",
       "  'I guess - him - against me - - um - - going forward and that I think - affected my - psyche - a little bit about letting people close to me- cuz he was my dad - for chrissakes - I was very close with my mother and just figured that my dad just really changed and his wife that he remarried was just very possessive of his time effort and love and everything and he just would go up against that to stand up for uh - for maybe how he truly felt- or wanted to do',\n",
       "  '- which I thought was kind of a - weak position - selfish - -uh - - and I just have - I don’t think I could ever - or would want to ever forgive hi m - because uh - I think there - you could forgive someone - at a certain time - but it just goes too far where there’s - no turning back - and I don’t think I could ever- ever- forgive how he’s kind of a - treating me - in my life - and you know like I spoke to my grandparents and',\n",
       "  'they’re like y’know your dad loves you and you know - try and - and it just - it makes me mad - - when they would say that - because they just don’t understand that this guy has been a real selfish guy - to me - i’m his only son - and really hasn’t tried and blames everything on me for us not getting along well I just feel uh I don’t think about him y’know? hardly ever - you know I’m thinking about him now and all these feelings are coming back but uh - I think',\n",
       "  'that uh - I just - you know have no feelings towards him - um - I just uh don’t really I’m not that interested in all the effort - it would take to try to uh - try and have a relationship with him - it would be more uh - grief - the effort to put in - it would bring more grief - I could put a lot of effort into it and it could- - bring me down - - more than - help me - no no (T: there was nothing of that) I think',\n",
       "  'you’re right I think I’ve cut my feelings off - - from him - um - because i’ not mad at him i just you know i’m not bitter - I just - feel bad that I haven’t had a dad there - as a relationship - it would be nice - I feel you k now bad that my kids uh y’know won’t really have a good grandfather to go to you know I really look at my mom and stepdad and - that side of the family - as like the real uh - the real side of',\n",
       "  'the family - um - and I just - feel a little I guess a little disappointed that he wasn’t able to be - - a little more open minded - and a little bit more giving as far as - his relationship with me he’s just - so damn selfish - just you know - pisses me off - how selfish someone can be and not really understand like - for instance - I see um - [name of girlfriend]] - her parents are greek - greek immigrants they came over in a like - 29 years ago she',\n",
       "  'was born like a year after they came over here - and they give everything to their family -they babysit - they live for their kids - um they uh - would do anyting for their kids - and my dad is uh - the opposite of that - he hates kids - he would say that - he said kids and then like were like a big inconvenience he never really wanted to help me with college he’d rather go out and buy himself uh - uh a car or new motorcycle - and you know when I was',\n",
       "  'in college you know he would parade these things - in front of me and - and uh this and that - and just - it was a little bit um - - it was a little - like - disturbing that he like would want to invest in like material thigns rather than like me or our relationship or - you know never came to visit me in college - or school or you know um didn’t call me when this thing happened up here in 9/11 and knew I lived here in NY - just totally like -',\n",
       "  'not really um - - -tried - - - and has really cut that part of the family off from me - because it’s just a bad situation I feel uh - a little bit sad I feel kind of like I got the short end of the stick as far as uh you know - having a - fulfilled family - I feel uh like I didn’t get enough support you know or have a family that was um healthy and uh you know i just feel like uh a little bit empty as far as you know as',\n",
       "  'having that good family behind me - you know my mom and my grandmother I call her my noni - but you know - pop just died - and that side of the family is good I feel good about that but my dad’s side of the family just kind of really screwed up the whole kind of natural flowing thing of the family I mean he doesn’t talk to my mom and they hate each other and his wife doesn’t like me and its’ awkward between me and my stepbrothers and stepsister on that side because - so he’s',\n",
       "  'really like - - just been very selfish about the situation - and I think it’s - affected me - up to you know today - - with uh - - i guess me not really uh having a good family - life - maybe me being a little bit protective lke when I’m in a relationship to be protective of - - you know uh - - relationships - - so - - you know I thin it’s a problem and I think it’s definitely affected me you know I don’t think I have uh - uh - I',\n",
       "  'think i’ve turned out ok it’s just that I don’t feel that I have like a good solid family to offer someone like [name of girlfriend]] - - and I think part of - you know we were talking a little bit about me - uh - you know not bringing her down to Florida and not opening up - and I almost feel like a little insecure about my family life because it’s been a little bit shaky and I don’t awant to bring anybody into that - but I have to deal with - because I feel that',\n",
       "  'would - turn - someone off I feel like uh - I deal tiwth with enough that I just don’t want to subject anyone else to maybe the abuse that I feel - that I got - as far as- not having a good family - you know she’s the opposite - she has you know an overprotective mother anda father who - would do anything - for her and a great sister and a great greek family that just - comes together - and uh really values the whole family thing - um - and she can’t understand how',\n",
       "  'I can go like - um - we’ve been dating for almost two years and why I haven’t gone down to flordia - and you know I used to go down to florida every 3 months just to go see family down there - and I haven’t and it’s been um i’ve been a little bit nervous about bringing her down there and just kind of - opening up - that side I’m talking too much, right? no irt feels I guess good to - talk about these things - - um - te deep breath is a long -',\n",
       "  'it’s been a long haul - with dealing with some of these things - and one of the things that attracts me to [name of girlfriend]] is uh she has a good family - and shes’ got good family values and uh she uh appreciates kids and uh I guess it’s like everything I’ve really kind of looked for in a person -- as far as you know a family and everything else and uh - she wants to meet my family but I don’t want her to be freaked out - by you know - everything I guess uh',\n",
       "  '- there’s nothing really for me to be freaked out what is it is - and I should just let her yo know - - in No I feel uh - - you know as I talk - maybe I - uh trying to figure out myself - which I think uh - I have to do - I’ve bottled up a lot of these feelings and uh - they don’t go away - my dad is just a a situation that uh i don’t know what to do about it - i don’t wanna have him come in and',\n",
       "  'uh - into my life right now - I just feel like he’s - will try to hurt me yeah I mean - - it’s a place that I don’t really wanna go - um - I think I had bottled them up maybe uh it comes out of my sometimes because there - I don’t’ feel relaxed I don’t feel about secure about everything- and you know uh - when [name of girlfriend]] and I - fight - which we really haven’t lately - and um she like goes into a sort of thing like ‘I feel almost alone’',\n",
       "  'I feel a lot like I need to - I don’t have that family background - and I almost feel like - alone like I did then - so you know I don’t really have this you know - strong family life - um I have a business right now that’s sometimes up sometimes down - um - which uh I can take but then again when you don’t have a strong family and your relationship - someone you really care about a lot - is shaky - - you know I feel alone in the world - and alittle',\n",
       "  'scared- and not knowing who to go to and uh disoriented as far as you know uh the direction I wanna go - yeah - yeah - I think that - on - the um =-alone situation - - I think if I was maybe a little more certain of myself i would know if [name of girlfriend]] is for me or not - I know that like if I go into a relationship with her I want it to be a good relationship - I think I’m maybe a little scared that all these things that affected me when',\n",
       "  'I was a kid will affect my adult life with [name of girlfriend]] and my kids - and I don’t want that to roll over into like the next generation i want to like fix it before you know I get married to [name of girlfriend]] or - not - um - I do think I wanna get married to [name of girlfriend]] i do want to have lots of friends and good balance in my life - but I find it very hard to find that balance right now I find myself - not knowing who I am right',\n",
       "  'now - not knowing - who my friends are - or - um which direction I’m going in - I feel like I definitely know which direction I’m going in with my business life - but in really who I am as far as a good relationship and you know kind of maturing into myself i’m - a bit lost - and uh - i just uh - feel - not real confident about my family life - i mean i know it’s there - but - it’s been shaky I mean my whole life and I’ve really - engaged',\n",
       "  '[name of girlfriend]]’s family the past two years as - she’s my family - and her contacts and friends are my friends - and I work - so I’ve got these like two separate things where i don’t’ know maybe who I am - and uh maybe I feel uh - um a little bit y’know lost on - which direction to go - and I’m not sure - how to really find - where I’m going - it feels frustrating - it feels um a bit um you know scary and uh it also feels exhausting ve because uh',\n",
       "  'i’m always wondering maybe what’s gonna happen next - I don’t feel like there’s continuity = I feel like I’m all over the place sometimes - rather than focused- I try to be very focused at work - but just life in general - i don’t want my whole life to revolve around work - I want a life outside work - I want to have a good family - I want to - have a good family you know how I feel is like if I’m gonna have a good family I need to create one with the right',\n",
       "  'person and with the right friends - I feel like - my family is there - but my mom’s side is there - my dad’s side isn’t - so it’s a bit scary - i feel like if i didn’t tie the knot with [name of girlfriend]] i’d almost be starting all over with someone - and I don’t really wanna be in the wrong relationship i feel like I’m in the right relationship - but there’s a piece of me that really feels like - am I just clamping on to her because she’s there - or does she',\n",
       "  'really make me happy - and I think she really makes me happy - but there’s a part of me that says I’m doing this out of habit - am I just used to her - am I - do I like the security because she’s there for me - um - I think I really love her and I think she really like does it for me as far as there - but you know there’s doubts because we went through a period of time where we fought a lot and she wasn’t into the relationship as much as',\n",
       "  'I was I voiced them (T: even more in the (???) yeah - I voiced them y’know for instance - and I don’t mean to jump around here - but like tonight I’m meeting her here aftwards and you know she’s meeting with her group of people and this is part of the group that you know has Waldo the gay guy she used to date and some of the other people that /?she’s been meeting at the tribeca grand hotel and uh I mean dean asaid do you wanna meet after work we’re meeting for happy hour - and',\n",
       "  'michelle is staying at the hotel there and it’s her last night there because she’s down - her apartment was down by the world trade center - michelle is her friend who works with uh - waldo - so i said you know i’ll come by for a drink and why don’t you and i go out for dinner or something uh which is fine - but you know I almost feel like - i’m impeding on her relationships - with some of these guys- but it just drives me a little crazy when I see these flamboyant gay guys',\n",
       "  'hanging all over her in front of me i just think it’s a little bit disrespectful - even though they are gay - um - which shouldn’t be a threat - but you know a guy’s a guy and a girl’s a girl and yo know uh - it’s just y’know - a bit of - it bothers me - um - so um i’m trying to kind of handle that situation where I’m flexible - but it bothers me a little bit - and she’s really trying to be friends but say you know there’s a line - like',\n",
       "  '‘I’m now in a relationship and i’m not like the i’m not you cant just do anything youw want because [patient’s name] is - pretty close to my fiancé and if it bothers him I would really want to change something to accommodate my relationship - um - but you know I made an example to her like you know what if your sister - - went out with these gay guys all the time - and they were very affectionate in front of harry her husband- like harry would have a very - uh a conniption fit about that',\n",
       "  'and I - try to be open minded but you know if it bothers me - I’ll try and be open minded but - - I think you know I have a lot of issues- and I think the main issue I think stems from not having a good family and having problems with my dad - which affects my makes me a little insecure now - because - you know for instance if I had a problem - I’d like to be able to call my dad - and have that relationship with my father - but I’ve never',\n",
       "  'had a father - I’ve had a lot of relationships with women who I’ve befriended - and my mom who i’ve befriended - I don’t really have a relationship with my mom’s step - her new husband stepfather - there’s just - a mistrust there - and I think I just need to get over it yeah yeah - I don’t - um - you know I really don’t have that you know i’ve really been kind of on my own - since then - and uh - i don’t mind that because I know I can always just rely',\n",
       "  'on myself - and I know I can rely that - on myself and i’ve gotten used to relying on myself so - a relationship is a little scary - to me - because - i’ve relied on myself and i’ve never let mself down - as far as being true to myself - i think - but yeah i don’t have i’ve never had the direction of - you know my mom ‘s different - I think - she’s a woman - I’ve never really had that good relationship - with a father - where I could call and',\n",
       "  'say you know what do you think of this what do you think of this decision i just relied on my instincts to do this and uh most of the time they’re right but it’s always good to have an outside fresh opinion on that - i mean ive met some people - my partner elliot gayer - is a guy who’s just uh beyond smart and um - trust worthy and i think i’ve kind of relied on him for the best eight or nine years as my like guy I can always bounce things off of - I',\n",
       "  'feel like I can trust him - he’s more or less my partner and we’ve looked out fr each other but it’s hard for me to ask him about y’know i’ve asked - he’s not my dad- he’s my partner and there’s a certain competitive relationship there but there’s also a friendship there you know so - - um - i haven’t had that - and uh - - i’ve found friendship in women that i’ve dated - uh - Elaine uh and I think I just need a good core of friends that like some of the same things',\n",
       "  'i like - like I love golf this is one of my passions - and i think if i started to play more golf - but that could kind of become my - circle - I uh well I - don’t mind it I - I actually like talking - it’s not the most pleasant thing - to dig into these - these past dealings - that i’ve had - I enjoy talking about it i think it’s helpful to me - to uh really kind of a work some of these things out - they’re a little foggy in',\n",
       "  'my head I believe they’re bottled up - and I think um - as I talk about them i learn and i feel - de-stressed - - so - - it’s good yeah its um uh a bit of a resistance I find myself going into this - but i also tell myself that I wanan do it - but there’s part of me that uh - um is resisting to come- y’know - to do it- so i have found that the last two times i’m trying to wait till the last minute to go - subconsciously it seems',\n",
       "  'and uh - i came late today i came late last time and i find it just very difficult to really dig in and talk about these things /but so - - I’m committed to going you know the full length and um doing it i just uh it’s not easy like i feel good now - i think it’s like - working out to go meet your trainer or something at 6:30 in the morning you’re not really excited until you get there and once you do it you feel good you gotta push yourself and i feel like',\n",
       "  'i have to push myself to work some of these things out and i’m committed to doing it i’ll do it it’s just a little hard to just open up and look at the past it’s - it’s effort -']]"
      ]
     },
     "execution_count": 9,
     "metadata": {},
     "output_type": "execute_result"
    }
   ],
   "source": [
    "split_turns = split_into_chunks(test_turns)\n",
    "split_turns"
   ]
  },
  {
   "cell_type": "code",
   "execution_count": 10,
   "metadata": {},
   "outputs": [
    {
     "data": {
      "text/plain": [
       "4"
      ]
     },
     "execution_count": 10,
     "metadata": {},
     "output_type": "execute_result"
    }
   ],
   "source": [
    "len(split_turns)"
   ]
  },
  {
   "cell_type": "code",
   "execution_count": 11,
   "metadata": {},
   "outputs": [
    {
     "data": {
      "text/plain": [
       "41"
      ]
     },
     "execution_count": 11,
     "metadata": {},
     "output_type": "execute_result"
    }
   ],
   "source": [
    "len(split_turns[0])"
   ]
  },
  {
   "cell_type": "code",
   "execution_count": 12,
   "metadata": {},
   "outputs": [
    {
     "data": {
      "text/plain": [
       "['I’m ok. I’m feeling a little, ah, stressed because of everything coming up, um, but/ um, yeah, I, uh, my personal statement is like second draft form, and then I’m working on it, and it’s, it’s almost done. my friend Zach read it, and I think he made it more difficult for me to write it. just by giving me constructive criticism and being like, be more specific, y’know, as if the specificity is important, like they want to know exactly what’s going to set you apart from the other people, or highlight this, or make this, and I’m like,',\n",
       " 'ok, alright/ (kind of laughing) yeah, but not that one, cause we already did that um, but then there’s preparing all those monologues for my audition. I know which ones I’m doing and I’ve started working on them, um, and then I have an audition tomorrow, which I’m looking at, and then my class starts on Tuesday, for improv, and I sent an e-mail to those Shakespeare people that I thought I might audition with, and they’ve already cast everything but they’re, Chris is still considering me potentially for an understudy role, so I don’t know at all if and',\n",
       " 'when I’ll hear back from them yeah, yeah, yeah, yeah, so, we’ll see. I told them that I had a class starting. I didn’t tell them I had another audition, but/ yeah, because I didn’t get the sides, so yeah, so whatever, but it’s just like stuff’s, I mean like stuff’s happening, which it’s good, but it’s like piling up and I’m trying to find time to like get everything done and worry that I’m focusing on my essay too much when I should be focusing on my audition because that’s like (T: right) I, I don’t know yeah the',\n",
       " 'ball is in motion yeah, well how much, I mean, I know I can handle it all, but it’s how much, when, what hour can, well, it’s only if like there were like three more hours in the day I think I’d be, I’d be happier. oh, yeah, yeah, I’m, I’m in a good place, yeah/ yeah, yeah (- -) I found out, I don’t think I’m supposed to know, but my, a friend of, a friend of a friend, who has kind of become my friend, is actually at NYU right now, in the MFA program (T: uh-huh) um,',\n",
       " 'which I’m applying for, and, ah, she asked me when my audition was, and then she asked my friend Jubin what my last name was, and I was like, what is Julie doing, what does she want to know, and he told me, he’s like, I probably am not supposed to tell you this but I think, I think she’s giving you a recommendation, and so, that like, on top of everything, I’m like, oh my God, all right, ok, that could be, that could be good, that could be, I don’t know what that means, but, the, last night',\n",
       " 'with Rory I was like, what if I do get in, not that I don’t, I mean, I don’t know what I think, it’s not really a solid, I mean yeah it’s been a possibility, but it hasn’t been something that I’ve been like, oh, yeah, I’m definitely getting in and I’d probably go broke it would be a very big change I mean it would be being a student, it would be that focused performance all the time, that constantly working on something else, um, yeah, the money issue would be whatever yeah, I don’t, I don’t even want',\n",
       " 'to think about how much money it would be to finish my, I mean on top of everything else I have to finish my FAFSA like application, and try to get loans (sigh) it’s all good stuff (T: yeah) y’know, it’s not, it’s not bad things yeah, yeah, it is all for me. and I found out that Jessica is, she started taking an anti-depressant (T: oh) yeah, my sister, Jennifer, she didn’t tell me, Jennifer told me. she said that Jessica had been like having a conversation with like, oh, like maybe I should start taking medica-the anti-depressant, and',\n",
       " 'Jennifer was like, yeah, I mean like why not, see if it helps. and then Jessica was like, well, I started taking it like three weeks ago, and I don’t know if it’s like started affecting me yet, so/ I don’t, actually, I haven’t asked her about it. I should just like call her and be like, what’s up, what are you doing? Jennifer said, I mean we talked about you behind your back, and Jennifer said that you’re taking medication, so... but she does seem to be like, a little, like, a little better, a little more even, um,',\n",
       " 'not as depressed, I mean it’s an anti-depressant, so I hope it helps, um, but she’s like organizing what we’re going to buy my parents for my 40th, for their 40th wedding anniversary, and stuff she hasn’t really done before, which is good, so that makes me kind of go, ok, my sister’s trying to figure out her life, I don’t have to do it, not that I have to do it, but blah, blah, blah, blah, blah, blah, blah (laughs), sorry that, cause that’s what I feel like I’m doing yeah to what? you? (T: yeah) nothing, to talk,',\n",
       " 'to tell you, I don’t know that’s what I’m supposed to do I guess I go on little (twirling finger), when I/ I don’t know what I should talk about, um, well, I told my boss this morning, well here, wait, I can do it, I told my boss this morning that I was applying to grad school, and she was like, ah, oh yeah, you gotta do it, no rock should be left unturned, and I was just like, absolutely, um, - - - well - - (laughs) when I’m forced to, not forced, you’re not forcing me, but',\n",
       " 'when it’s (waving hand) I stop - - - - - - I’m thinking about the last time we did the silence thing, and it’s making me laugh again, - - - cause it’s silly, I don’t like silence - - - (sighs) you’re not going to talk, are you? (laughs) - - - - - my boyfriend called, and bought me a sandwich from this, ah, from this store, this mozzarella, like, bakery place, and I was like mm that’s amazing mozzarella, and we’ve heard like rumors about these sandwiches that they make, and you can only get them',\n",
       " 'on certain days of the week, in between like certain hours, and if they run out of beef and mozzarella, or if they just don’t make them, and he called me, and he’s like, I bought you a sandwich, you don’t, you’ve got dinner and lunch tomorrow cause they’re huge, so, that’s good no, he’s here (T: oh) he’s in Hoboken, um, he was gonna, he doesn’t have a job, so he’s gonna temp, and he was gonna come into the office, my office, tomorrow and Monday to do some filing for us, and every time he’s almost come into',\n",
       " 'the office, he gets another job with like one of those temp agencies, so he’s, he was worried that my boss hates him because of that, but both, both Michelle and I just laughed about it. we were like, come on Rory, you’re a comedian, you’ve got to have thicker skin. why would she hate you? it doesn’t matter. yeah - - yes. that’s why I love him, because he’s sensitive (laughs) it’s good, I think, um, I’m speaking up for things. why? you don’t think it is? I do think that I’m, I’m good. I feel good, I feel,',\n",
       " 'I feel confident and, like, - - - not defensive um, and not offensive, um, I don’t know I just feel good, I feel, I feel stronger. I don’t know, what do you? - - - - - - no, I don’t, I, I think, I was going, going, going, and then I was like, ok, this, this, I don’t know, is this all right, and then I think when I do I project the question of whether or not like oh I want is Oren okay with this I mean I guess are we, um, I mean, was this',\n",
       " 'ok, was this supposed to happen, um, was I supposed to keep, y’know, does that make sense? yeah, - - yes. what do I think? which is the more accurate answer than the rational answer sometimes we are yeah, - - I do - - absolutely will be, yeah, hanging out, going to a bar, going to see a show, hanging out before a show, whatever, I do, I, when there’s silence I’m like - - - - - who’s supposed to say the next thing? all of the above. I mean sometimes, yeah, it’s nice to have silence, and',\n",
       " 'I don’t, but if you were to give it like a, which is more often than the other, I think, more of the time I do go, I don’t, is this ok, rather than, oh I’ll just relax and hang out. (T: mm) and I’m trying to figure out how to be more of the silence is ok, through y’know my, my yoga, through my trying to figure out my balancing of my own like personal anxieties, like from that filler? yeah, yeah, yeah, yeah, yeah. what am I trying to gain? I don’t know, maybe I have the expectation',\n",
       " 'of myself that I am supposed to fill the 45 minutes? well, ah, then, saying, like, actually saying that out loud, and thinking about it and hearing it, it makes me feel as if then, what’s the point, like, I’m just talking to somebody rather than actually like doing therapy, cause that should be a back and forth thing, right? well, it’s almost like otherwise why am I, you know, what’s the point? I don’t know (clears throat) not consciously it would (clears throat) obviously it would depend on the tone but saying it sounds like judgment it would be,',\n",
       " 'I think I would be like, oh, hm, maybe this isn’t, is it ok, like I would be worried as you, if there was more, what, had I done something wrong, had I, you know? I don’t know. ok is like, on a positive-negative scale, ok is like more on the positive. yeah, yeah. am I doing well or, yes, is this worth my therapist’s time, so I mean I guess yeah going back to last week, I do hope that there’s some sort of like investment on your part or on my therapist’s part, in me (nodding) well, yes,',\n",
       " 'and I, that, that goes back to part of the reason why I signed up, was, I had this moment where I was with, I had just seen a show, and I was with some of my friends, and all of a sudden, like, I was putting my judgment of myself through someone else’s eyes. like it was like this, this realization that I was doing it, that I was looking at my friend Tim, and I was like, oh my God, Tim thinks I’m not, y’know, I didn’t say something the right way, or I wasn’t smart enough. I',\n",
       " 'don’t remember who it was, y’know, who exactly it was but it was me saying, oh, Tim thinks this, I see him looking at me that way, and that was, I, I realized in that moment that that was me putting my personal judgment of myself onto somebody else, like shifting the responsibility yeah, but that was the moment that I realized that that’s what I was doing. um-hm, yeah, that yeah, I don’t know, I mean everyone says you are your own worst critic, in that/ no, people say, I mean, I think people say it in general, I',\n",
       " 'mean, I’ve said it, I’ve heard my friends say it, about themselves, and y’know about the world, um, and I, I think I am, I, I do have expectations for myself, I do y’know think I should and shouldn’t, whatever, um, I don’t know why I can’t just give myself a break, but I don’t, so I do project, y’know. it drags, it drags me down, it doesn’t help me at all no, yeah, yeah, yeah, yeah no, I mean it, it makes sense, it’s um, I think that your next question is going to be, why do you do',\n",
       " 'that? why do you think that happens? um yeah, yeah, yeah - - - I think it’s a fairly accurate depiction of what I do. why? or, how to not? I guess that’s why I’m here. yes, I notice. well, I think it goes back to when you asked me, that we were talking about how I avoid the emotional aspect of things, that I, y’know, just play ping pong, and I keep my goal and make you, y’know, go away from that space. that it’s, y’know, coming into that space that makes me kind of settle in and go,',\n",
       " 'oh (sigh), take a breath into it and go like, here’s where we are, but what does that to me, how does that affect me? I don’t feel uncomfortable right now, so, um/ could it, wait, rewind, could it/ yeah. and they didn’t laugh at it (T: um) I think, I think in like my current state I’m, I would, I would just be like, all right (smirks) better luck next time - - - - - - or, the opposite, I mean I don’t know, it could, it could parlay into my incessant chatter trying to, I don’t know,',\n",
       " 'I could pick up, if I felt that, something hadn’t gone right or if, you know, I didn’t get the response that I wanted, someone laughs, I could pick it up and go, oh, well change the subject, make it different, create something else, so that- - - yeah no, I think it’s more nervous but I think it also becomes that, ah, that, that, that, ah, self-deprecation type, ah, nervousness, when it’s like oh, well, there I go, I didn’t say something funny, so, Jordan’s not the funny one, y’know, I don’t know, does that make sense? right, because',\n",
       " 'I’m not necessarily comfortable in the other space (T: right) so it’s, it, I don’t know I mean comfortable in the, in the, y’know, y’know, either or, I think it’s more frequently am I the, dd-tt-dididi-ta-da, y’know, just the, more often I’m diffused than (T: centered) centered yeah, yeah right, and um it’s a matter of, I think, I want to be more comfortable in that, that kind of space, where I don’t care, I let it roll off my, y’know. I, I just finished that book, the (incomprensible- name of the book), that I was reading last week, and,',\n",
       " 'like, he talks about all this, just letting go, and y’know the sense of Buddhism and meditation and how you just, you just let, separate yourself from that, like, it’s almost a material thing, but not you, does that make sense, like you just kind of separate yourself from that idea of having to do, or what’s expected, or whatever, you kinda give youself this space to just kinda do whatever you do, however it plans, however it, y’know, does itself, that’s what happens, and you move forward, and then release it. No, I can’t remember off the top of',\n",
       " 'my head. (T: right) but it’s a good book and it talks about teaching meditation and how this guy changed his life through meditation. I have, um, I do find it very difficult because I find it very difficult to quiet my mind, so in - - - focusing my breath, which is what your basic meditation is, focusing on your breath, I always find myself having to say, get back to the breath, ok, you know. exactly, allowing, like, yeah, you went away from your breath, so what, come back. yeah, not judging myself for having stepped away from',\n",
       " 'the breath, yeah, cause when I’m done I’m like uuuh, that’s not what you’re supposed to do, so yeah. I don’t know, I don’t know, what you’re supposed to feel but I’m like ok I can’t do this anymore, so that’s when I end, or if I do find myself relaxed enough, or just kind of really breathing, I’m like, ok, good, all right, I’m done. you just, kind of, I think know. um - - - - no specific, sometimes I’ll meditate/ sometimes I’ll do it when I go to bed. sometimes I’ll be in a situation, uh, like,',\n",
       " 'anywhere, sometimes I’ll be at work and I’ll be doing so many things and I’m like, I just (sigh) take a deep breath or y’know just focus on it and I’m walking down the street, listening to everything that’s going on, I’m like ok, let’s center, see what that does right now, so. yeah, which I don’t use frequently enough (T: mm-hm) or I haven’t mastered. it’s like a training kit tool, or a training wheels tool. - - - - - - ahh, I don’t know. - - - - mm - - - - - - - -',\n",
       " 'ah, I don’t know, sometimes I think that my focus and drive on what I want to accomplish can help me, y’know, create a thing that I go towards so that feels like I’m centering, does that make sense? I don’t know that I sit down and pay attention to, I don’t go, ok, now is my time to sit down and think about what I want. it’ll be - - - - I just did it. - - I just, I, I submitted for more auditions, I sent my, I sent e-mails out, I ah y’know sent my resume,',\n",
       " 'and I just looked for more. I made more of an effort to make the change. so that is that you focus on the change and go towards it. I did do that. and I just got lucky, I don’t really believe that/ yeah, I did have some control over it, - - - - a lot of it, so. - - - - um, - - - - I think it would start to, ah, be centered around, like if I got cast in a show, this show that I auditioned for, I think that, ah, like tomorrow, I',\n",
       " 'think it would, there would be moment of me, my struggle in the development of what my character is in the show, so it would be like, oh I don’t know, I’m having a real hard time at rehearsal, in this scene, or, um, with school, I think the only thing I’ve ever heard from those who have gone through really intensive programs is that like you’re sharing so much of yourself with people who are poten-like a the time, strangers, and like because you’re trying to be really vulnerable in front of one another, it would be, I think',\n",
       " 'that there would be that idea of, oh my God, I can’t believe that I’m telling these people this, or that I was able to even talk about it, or you know, I don’t, it is so hard, to say x, y, and z, and, y’know, just be open, and how to be open. exactly, it’s, y’know, I mean, I talk about, I tell people, when, that I think that you have to be vulnerable in order to, to act, and to improvise, and to be someone who really touches, like, an audience, and so, it’s a matter of actually,',\n",
       " 'really, doing what I say, and what I think needs to happen - - - as an actor. um, - - I think it’s a, a separate idea, um I think that, I think that you can be vulnerable, I think that I can be vulnerable if I’m being in a moment and being honest about whatever it is that we’re talking about, but I think that in a sense memory, like I think which is what you’re talking about when you’re like this idea of what do you pull to be vulnerable or mm - - I think about',\n",
       " 'in those instances like I’ve, I think about my grandfather, who died when I was at camp in 2002 and, um, moments of, I mean I think it depends on what. what the need of the vulnerability is, if that’s the right word for what I’m thinking about, the, I feel like there are two different ideas, does that make sense? I think there’s the difference of being vulnerable as the character and vulnerable as the student in the classroom with the other students, like, me being me. yeah, yeah, I think that the, the, tapping into the vulnerability of',\n",
       " 'the character, pulling back on my own personal experiences is separate from, because you tap into different resources. - - - I mean, they’re not, but something appears, like oh there’s this separate, like you have little pockets for everything, and you don’t, I mean you can, but you don’t, you don’t need to. it’s all right why are they different? I think that that’s, that’s the idea, is that in that situation is, it is accepted, everyone else is doing the same thing, everyone else is allowing themselves to be vulnerable with you, so that’s why it’s almost easier',\n",
       " 'to do it in that, that space, and then in your social and whatever, like, ah, you said interpersonal, is that like it’s not everybody else does it in a social situation, not everybody else is vulnerable, everybody else has these walls put up, so. . . yeah, so it’s a, it’s a gage. I think that I, I gage how open or comfortable, I mean I think that happens with relationships, y’know you’re more comfortable with one person because you both are more willing to be open with one another, y’know, and then Dave, Dave doesn’t like to share',\n",
       " 'those kind of things so you don’t share those kind of things. I think that it does kind of, just/ yeah, yeah, emo- I’m too emotional, or you’re so dramatic, no, I’m just - - ok, well, ok, if that’s not supposed to happen here, fine. yes, yeah, yeah my boyfriend. oh he tells me both, yeah. social, or even when we’re just together like it, sometimes when, when we’re arguing about something or I get upset about something he says, ah, you get, you get so overdramatic Jordan, and I’m like, no, I’m, I’m not, I’m responding the way',\n",
       " 'that I’m responding, why is that overdramatic? - - - - because it’s not allowing me to be me. it’s, it’s, it’s saying that, well what you’re doing is wrong, that there’s no, there’s no space for that right now, or in this place, and it’s like, why not? no, my walls should be non-existent. yeah, I think so we have this intimate relationship in which there shouldn’t be walls and - - - - we’re two different people, so - - yeah, and, y’know, I’m not going to not do what I do, and keep getting the resp- it’s',\n",
       " 'fine, y’know and I, I don’t challenge, I don’t think challenge is the right word. I want for him to not have walls with me, y’know, ah, and I think, I think they’re significantly lower than they are when he’s with other people (T: they’re not going up) when he’s with me. right, yeah. what is next week, um? can I look at my calendar to figure out if, I mean what is direct, of your schedule like during the week? I mean if we can’t it’s fine, too, but I’m not coming back the week of the, my audition',\n",
       " '(incomprehensible) I’m sorry that I responded to you all that I did I know, but, I, I feel bad',\n",
       " 'And: how was your vacation? That’s always good. (T: (laugh /? I guess that’s the point right?) That’s the point. Did you go away? Out of the States? Good. Very good. Ahm - challenging - (T: yeah?) yeah. I had to - uhm - take some medication (T: You did?) yeah. It was just ahm - unbearable (T:mm-mm). It was agonzing actually. (mm-mm). And uh so I’m taking 10 milligrams of - (?Selexia). (T: okay) And its calmed me down. Because it was just - freaking me out. Well I mean - I was in a lot of pain. And',\n",
       " '- I kept - struggling not to take it. Ahm - but - not this past Sunday the Sunday before - it was when I started to take it. I was just - - because the last time that I saw you, it was- days after I saw you I mean it just got - anxiety - just got worse and worse - ahm and you know I felt - - I guess emotional pain and - the struggled within myself to - just try to - calm myself. And - I was - you know I just - my',\n",
       " 'wife I called her up and she is like “no,why are you suffering like this /?if?” nd - so I - I just start to taking it and - you know it’s- it’s helped me so far. Yeah. I got about four months with/?worth the medication. - - - - Well I mean you know it’s it’s it’s not a complete relief because it’s a very low dose, but it helps. Uhm - And - my thoughts are still pretty scattered. I’m trying to figure out how to: ah- - - you know how to control my thoughts. Cos that’s',\n",
       " 'really what it- what it’s all about. It’s controlling my /(? thoughts so that they don’t get racy and they - The thoughts that are going though my head are the ones that make me anxious. Because, they may not be true. But they certainly feel like it’s true. You know? Well I mean I - I start thinking about uhm - you know, that weekend I was start thinking - oh my God I’ll loose my job and this happens and this happens and this happens and this happens and it just kep- you know - it just keeps',\n",
       " 'escalating. And I can’t - It gets at the point where you know I’m so like stressed out over it. And anxious over it. It feels - very painful - - - So: ahm, you know, w- I was reading, you know, anxiety disorders, and general anxiety disorders, and: I read /(?some websites again, I had read on it but: you know it it- it- mentioned that it works well with psychotherapy, and - - so that was also kind of a - a deciding factor. That - you know, the two can- go well together - - - -',\n",
       " 'So - That’s where I’m at right now. yeah I mean um - I think it’s gotten harder for me to control these you know thoughts, I mean, my negative thoughts, you know? Like, ahm, I was sitting, ahm we had, ahm, you know, one of these events we always have in terms of - organization improvement, you know they celebrate: you know /(?a big break-through - - and I was sitting in- in the conference room, and I was feeling pretty good. And all of a sudden I see my boss walk in and - bum like - I',\n",
       " 'even wrote it down, you know, I I said, I gotta capture this - so I was trying to analyze that /(?like why? but- she’s- she’s a nice lady, it’s not like - I had bosses earlier, forget it, I should be going that way(??). And I was trying to figure out, is it the authority?, is it a - you know, is there some connection here with- my childhood, in terms of, ahm - you know, feeling - I guess demoralized, and- and - um what’s another word, patronized /? I guess, by the comments my father used to',\n",
       " 'make, maybe when I see some - and also the fact that I just hate to feel that people have like control over me, so, I- you know, it’s not really her, is, it’s, you know, what’s behind it. Those kind of things. I think it may have.I’m not sure, you know, I still felt the butterflies and all that stuff, but it might have helped to recognize that. (T: Ok). this- this time (?around) with the anxiety, it’s escalating, you know, where, I- I- I um doubt myself a lot about it - I have told you about this',\n",
       " 'simple stuff, you know? and, I mean, anybody who’s been (assignment??) - can I do this? You know, it’s like - stupid, but - it’s a thought, you know, and um - - So - I guess the medication just helps me deal with it a little bit a little better - - not letting myself to escalate to the point where you know I feel I am having an heart attack, my chest you know, it’s like chest pain, I’m breathing very shallow, and then my thoughts get really racy, you know, ahm - - so you know, I',\n",
       " 'mean, I think about - “am I gonna be mentally ill as I get older”?, you know, ahm, and it’s just like one thing after another, one thought after another, and you know, “what happens if I get mentally ill?” well it just continues to escalate to more anxiety. You know (T: /? fear - is that?) Fear you know, uncertainty, and - what am I gonna do, and - you know,-all kinds of - thoughts like that, you know and - what’s gonna happen to my family, and- how’s my wife gonna make out, (incomprehensible??) mortgage /(?gonna get paid',\n",
       " 'off, I don’t have insurance, I mean, it just continues, you know? And um - so, I’m trying to - stay focused on what’s going on now, cos /(? that also- helps me. Just, let me, think about right now. What I am going to do then /?. And - you know, I feel the thoughts trying to get through, and they do most of the time but maybe as I get better in terms of - you know, being more cognitive of the present, that will take me away from the past or from the future - - -',\n",
       " 'so, you know, I was trying to put together some goals for the future, and stuff like that and I just - put it off for now, Yeah, I think so. - - -yeah I mean,- I used to like to work in Power Point, -and I - used to enjoy create these () put the presentations together, little cartoons, I mean (?)you know I can get really creative about it - and: - I still like it, but I feel like my creative side is like dead,- you know like I can’t , I haven’t been able to stimulate',\n",
       " 'it - - and - you know, the work that I am - producing is- is okay, but it’s, I know, that for me is not the best that I can do, and part of it is y’know it’s probably better because the enthusiasm isn’t all there either What it’s like? (T: mmm). Ahm - I don’t know, you know? I don’t know, if making that connection miraculously - makes me - feel better or - - or you know. the root of all of this is I think, - I don’t even know if it’s the root, certainly the',\n",
       " 'symptoms, are depressions, the sadness, the anxiety you know, I look at those as the symptoms and manifests itself through - through those type of things, you know? and - you know, y’know it was like going back to what is the “it” (chuckles) you know. I’m trying to figure that out. Maybe when I do, /?maybe no I won’t ?) I don’t know. But - you know, certainly, I- I think the all thing with my boss, and the authority, and that feeling of - you know, incompetence or the feeling of - - - less ahm - -',\n",
       " '- - you know, smarter brighter than others, it’s just there, you know, when I was in grammar school, ahm, they had a program for- for kids, for a couple of weeks or - it wasn’t even a couple of weeks it was a couple of months, it was like a whole semester or something like that, and - it was with ahm these - this guy, who was, he was a director of some drug program, and I was in a catholic school, I wasn’t even /(?on drugs yet but the problem was like a reach, an outreach program,',\n",
       " 'and: - um once a week you know they take a group of kids and that they had identified - they identified me (chuckles), I must have been problems back /(? I-, and you know I used to meet with this guy and talk about you know just, living you know, and pressures and peer pressures and that stuff, but while that was happening I was missing a very important class, that I was happy to miss by the way - which was math - and so I was always behind in the class, and- and you know - whenever',\n",
       " 'I had an opportunity to attend I was like - noticed. and I got very bad grades cos I missed the foundation cos if you don’t build that, in grammar school, you know, uh it just gets harder - So you know, that also made me feel pretty inadequate in terms of not knowing - - math - - particularly at that age, you know, - /? and I was being looked at by the other kids as being kind of a dummy or something like that (incomprehensible) so I always felt very inferior about /?that, when I was a',\n",
       " 'kid. /?that’s the last time I ever went back to school - formally - (incomprehensible) - - - So, I don’t know. all this has to have - some effect. I’m sure it does - - i’m sure it does, you know? I always had that struggle - - you know ? um It’s like I know a little bit of everything but not much about nothing (chuckles) - - - And - and I always feel that people initially get the impression of me that I know what I am doing, and then I feel like that they may',\n",
       " 'find out that I am not that sure about what I am doing, - - How do they- I think just- based on you know, experience that I have, - - some of the places where I worked some issues that I’ve had, yeah I think you know, what I am feeling /?now,/?low just my demeanor, but what when I think when I am in a positive /?end of things, you know I feel like I can just - take on the world there’s nothing that I could - and that’s how I felt for a long time, until I',\n",
       " 'tripped, y’know (incomprehensible) a bad fall, but I mean, I I’ve read so many like self-improvement books, you know, one of th- I have one of the lines in my philosophy, is you know, “know thyself”, you know, continuously improve yourself, ahm so you know I’m always reading on how to improve myself. Whether that be through you know some psycho- psychology book, or through - some skill that I need to improve on, like excel power point stuff like that self-help and other stuff like that you know. How to be a better speaker, I’ve taken a (Person’s name)',\n",
       " '- have you heard of (person’s name)? / (T: mm-hm)I’ve taken his course so um - I’ve listened to dozens of tapes , cd’s, (person’s name/Anthony Robbins) - you name it I can be when I am in that - - I haven’t been there in a while. mm-hm, I mean, I always felt I had to try harder, cos I am just not - as - smart as everybody else that’s the way I feel. - - - -So you think that making these connections - - I’ll come to realize something, /(huh? mm - And I’m trying to',\n",
       " 'understand that, you know I’m trying to understand what’s happening now and how it relates to the past, and you know it makes- sometimes I make sometime I make the connection - but then I don’t know if it really - - makes a difference /??to make the connection you know we did talk about something else last time and that was, it could also be a chemical imbalance, and - is there a way to- to know that? medically, or? Yeah, I was looking at that on the internet also, /?they even have a little, like how a medication,',\n",
       " 'what happens you know, to the synapses and uhm, I forgot exactly but you know, I forgot exactly how it how they travels, how the medication slows that down, bet- between serotonin and… And dopamine. And so that imbalance is, that imbalance could cause you to feel like that and the medication kind of stabilize this, right?, you feel /?normal Well I’ m not happy about it, that’s for sure. - - - You know, I don’t want to - I don’t want to take this medication forever, they have really bad side effects - and um- you know I',\n",
       " 'am just taking it - a day at a time I guess, I thought about when I thought about taking the medication it’s like maybe I just need to feel better, and I’m going to therapy, and you know later on I can think about /??needing the medication again, - - I did stop my medication pretty abrupt, and my doctor wasn’t too happy about that, and you know, it caused a reaction, I was dizzy, it caused some you know some physical reaction, but I was determined like to, just stop the medication, you know, /??to live a new',\n",
       " 'life, (Incomprehensible) But after feeling the pain that I was feeling, I feel a relief, you know (T: sure), and, it’s like having your arm in fire, and you know just - taking it out for a little while gives you that relief, so that’s how I feel, although I’m not completely out of the woods, but I do feel relief, and coping, feels a little better. oh (?) the disappointing thing is that I would have to continue take medications. about the side effects of the medication. well um you mean if I blame myself for it? I feel',\n",
       " 'it’s out of my control it’s, if it’s actually a chemical imbalance I mean, I don’t have control over it, other than take medication, or periodically stop taking it, till I find a better way. I don’t know if you know...yoga, or something else help change that - - - if- if, let’s say there is a page that I have to read (T: mm-mm). And uh let’s says there are two employees and I’m one of these two employees, and my boss says - here, both of you read that page and tell me what you think. I shut',\n",
       " 'down. I mean all of the sudden I like I mean, it could be something simple it’s not even the words, it’s just like - I can’t - the fact that he or she told me to read it and give them my thought right now, and there’s someone else like next to me reading it, and: you know, I feel like they are gonna read a lot faster than I am, and then will understand it, and that shuts me down. like if you tell me read it and tell me tomorrow what you think, I have time to',\n",
       " 'go and digest it and think about it. But, if you tell me do it right now, you know like, I mean, something really simple as math, I could go blank, - - You know? um And I don’t understand why you know, I don’t understand why I shut down like that, yeah. Oh, it happens all the time (T: it happens all the time), I mean it happens all the time.I try to you know - I mean I’ve gotten good at playing it off, - I guess when you have these kind of things you learn to ahm',\n",
       " 'I guess you learn coping mechanisms, so, a situation like that I might glance at it- get a few words, and let this person kinda - start it - /??kind of get the gist of things - say a few comments, but I haven’t really read the whole thing, I haven’t really digested it or thought, you know, so - and it’s all part of y’know my feeling - inferior ??I don’t know if? that’s the right word or what? and not be able to read, I’m like, I’ll read so slow, you know, I’m so conscious of of -',\n",
       " '- of - - maybe not getting it right, not understanding it right, you know, it’s too fast, I - and I wonder if that’s some kind of learning disability something, you know, that I am little slower than others, that I gotta deal with that - you know? Which means maybe that’s why I do a lot of reading in terms of self-improvement and I am very conscious about that, maybe that’s a way I cope with it you know. ahm, probably but I can’t figure out right now (chuckles). Yeah, I am sure that uh it doesn’t make',\n",
       " 'me feel that great. right you know um - you /?ever heard of Colombo? Sometimes I think - this is funny but - I think, maybe I am like this guy Colombo, you know, he always comes across in the beginning like, he’s stupid, he’s a nuisance people kind of brush him off, and then he really knows what’s going on. He’s on to something, and sometimes I got to test myself like you know, uhm, I’ll say, do I really understand in reality what’s going on? and I’ll say a few things to myself you know, like “this is',\n",
       " 'what’s happening, but I’m not sure”, and then I hear all the people talk about it and say “I was right about that”, so I say to myself maybe it’s just the way I am, I just, learn differently, yeah, but we are in a world, where you need to learn fast, you know, every () that I’ve taken - you had to start - what is it that they say um you gotta start um the ground running, gotta start running. We don’t really have time to train you or show you so you’re gonna have to - So:',\n",
       " 'you know it’s it’s it’s fast, yeah, it’s a lot of pressure, and and you know maybe I am thinking, maybe it’s not so much that I’m not as smart, it’s just that it takes a little longer for me to get there(chuckles), but maybe I get it right, doesn’t mean the other people always get it right - - /??just cuz they’re faster. well I am just thinking, you know it’s just coming I am just thinking in this way now, /?that’s right - - So - yeah. It’s interesting but it’s just: uh - - I mean I',\n",
       " 'mean you know, do I think- so do I think now that I’m slow? I just have to think about it - - how do I leave today thinking oh well you know I am just slower than other people, but - I /??get it No I don’t (chuckles). it makes me feel like (incomprehensible) you know? maybe that’s why I (incomprehensible) /??outta school I don’t know. I just felt like I couldn’t keep up with everything. Well maybe I could, I don’t know, I felt lot smaller before, maybe I could but I just: uh - I - I',\n",
       " 'absolutely. I guess it’s worst when I am challenged (T:mm). There’s no question about that, and the threshold for that has gotten a lot lower, in that you know, I used to feel like that when the the challenge was all the way up here, and now I feel like that when it’s not really - when a part of me says that this isn’t really that much of a challenge so hy are you feeling this way? - so you know it’s gotten, the anxiety is gotten as as to some extent overpowering me) not quite but - it’s',\n",
       " 'not the best to me right now. So simple tasks, seem like a challenge, ahm - where - if someone had told me what I would do it now, like, shit by - five years ago I would have loved this, and I do, cos a part of me is you know I like the workplace - and then there’s a part of me that’s like you know - why can’t I - - feel like I was feeling, the anxiety as you say is in the way, doesn’t allow me to, kinda express myself. - - - I think',\n",
       " 'you know the - this whole experience of trying /?to (incomprehensible) my business, it was, it was pretty hard, pretty hard, because, I was feeling like so confident, I was feeling like - you know this all thing with the anxiety was over, was in the past, something that happened, I learned from it and maybe I’m better /??now, and then it was like: uh - - deceiving you know? when I needed to be the most confident, like I think about what happened, not be able to put my business up, you know part is because I left this',\n",
       " 'fear to overcome. I:- I- I- didn’t’ feel the same, suddenly like you know, the drive that I had, I started doubting myself, and starting feeling anxious, it continued to escalate, it then it paralyzed me, and then you know I wasn’t taking any medication and all that, it just got worse, so it was about you know I blamed myself I’d say it’s me, yes, the economy: but you know people make money and open up businesses in - all kinds of economies, you know what I mean, (some business/?) came out of the 1929 Depression, so you know',\n",
       " 'it’s a drive that you have to make something happen. I’ve lost my drive - - oh - - - that’s why I feel this way - yeah it did well I left, I moved for (??) last May, in 2008, and I came back in January this year. six or seven months, yeah. yeah - well you know it’s it’s actually - you know - - let’s see - ahm, it’s actually like eight months later and - a 100000 less, or more than that actually, uh because I had to dip into my savings to pay the mortgage,',\n",
       " 'to pay things that you know that that money was part of the investment, like . it’s a /?huge economic loss for me it’s a lifetime of savings - it’s not something you recover like - I mean - for you know you hear about people making millions of dollars, that’;s great but, for someone like me a hundred thousand dollars, two hundred thousand dollars savings is a lifetime yeah, no, you’re right about that, if I analyze it too you are absolutely right, you know, there would be a natural reaction, ahm - but then you know the whole',\n",
       " 'anxiety piece is - is beyond natural reaction, you know the fear like I can’t do certain tasks at times - um the anxiety and chest pain and /?all that comes with it, I think it’s beyond what most people feel - I mean I guess people they have that kind of loss where people lose more money, feel the same way. yeah,. everything comes back like failure, I’m embarrassed to other people that I went down there to try and start my own business: - and I remember telling my cousin (name) he’s like well you know I didn’t',\n",
       " 'want to tell you this but that didn’t seem you know that you /?? really did that well with that - and it just angered me y’know - I wish I would’ve - those are the kind of things that motivate me? at other times? y’know um -and then you know as people ask me well um ‘what happened?” you know - so I just say well you know I moved down to Florida - tried to start a business and it didn’t work out (incomprehensible) - but I’m kind of embarrassed about it y’know so do you think we',\n",
       " 'were like - like I feel like a little scattered today (T: mm-hm?) well or is it just the way I feel? I dunno like I feel like um - my thinking was - or my talking today was like - um - not focused I dunno - I don’t know that it should have been focused but (incomprehensible) this all make sense did this make sense today ? I dunno you mean I should uh - - think about the um - talking about those like - deep experiences? like today right I kinda came off /?that way I',\n",
       " 'guess yeah you’re absolutely right and you can talk about it intellectually but not - getting really to the root of the problem - so you almost like - justify why you feel this way and not be dealing with the feeling itself ok',\n",
       " 'I forgot my notebook. But I have another one ummm no good umm not really. I just on the weekends, like Sunday was really nice and I looked out the window and I wanted to go out bu t- I just slept in all day (T: okay) but – like last week no no, I’m off the weekends. Saturday? What did I do Saturday. - - um I didn’t do anything either. yea oh, and we have Monday off, right? and I slept all day just cuz from sleeping all day Saturday I just wanted to sleep all day Sunday.',\n",
       " 'cuz you get lazy mmhm- he’s visiting with me. actually I called him – they told me on my phone it has this thing so the calls can go straight to voicemail – so the phone doesn’t even ring. (T: oh that’s perfect, that’s excellent). Um – I was kinda happy that I could do it. It still shows on the call log if he did call – and I looked (chuckles) and he did cal but I just didn’t. ummm not really. No. cuz I only saw it once – yea yea it was Monday. So he probably knew',\n",
       " 'I was off. yea I told the doorman and the handyman but I couldn’t find the super. Soi just – let him in last time yea so I told him yeah he wa skinda nosy about it (chuckles) yeah he was like ‘oh what happened?’ but I didn’t yeah – but he said if he saw him he wouldn’t let him in I mean it felt kinda weird when he was like ‘oh so what happened’? cuz he wanted to know (chuckles) so (incomprehensible) (T: so it made you feel kinda uncomfortable) No – no n ot really negative. I',\n",
       " 'just told him I appreciate if you see him just don’t let him come upstairs. the only time he shows up is when he drinks. yea is when he drinks yea at some point. But on the weekends, I was gonna stay at my mom’s like last weekend? But I knew I wasn’t gonna be able to sleep over there? (chuckles) that’s why I went home. cuz my sister’s there with the baby. And I have a 12 year old brother so he’s running around the house all day and they have a dog. yea and my mom’s so nosy',\n",
       " '– if she sees that I sleep too much she’s like “are you depressed?? Get up get up” (gestures like mom rousing her from sleep). So it’s like, y’know yeah I just wanted quiet at home. um like missing him er well the thing is since we lived in that apartment it’s kinda weird. That’s what it is well when I start thinking about him I just try and start thinking about something else. - - - um - - - I’m trynna think like. - - - - - - (crying but NOT audible – just tears**) sniffles. Um',\n",
       " '- - so – like what makes me think about him. well the table I have I hate it (chuckles) cuz when we were buying it I really didn’t like it and that’s the one he wanted so we ended up getting that one – and every time I see it I’m like - - I jus twanna throw the table out. But I don’t have another one so yeah that and then I’m mad that it reminds me of him (voice wavers still crying lightly). /so it makes me like, not want it more. yea (crying, sniffling, quietly –',\n",
       " 'not audible) clears throat um - - - I guess I’m mad that - - - - mm – well for one I’m mad that he did what he did to me. And I think him thinking that I cheated on him and I didn’t - that makes me mad too. um - - - - he didn’ cuz that’s why – I mean cuz I tried to break up with him before that even happened, and he didn’t let me, so – mmhm. Yeah. I guess I’m just mad at the whole thing - - - I feel like',\n",
       " 'I wasted so many years. um – well I don’t really think about that. Like I said before like if I missed him I just thought about what happened so I wouldn’t – like kinda like to make me mad at him so I wouldn’t yea. So then when I think about that it makes me – like /?more mad?/ at him. um - - like - - like my home laying down in bed sitting down by myself or eating cz I’m by myself or laundry (voice is shaking) no because even if I think about it I just',\n",
       " '– it scares me what he did - //?would he/? do it again. if he shows up I always let him in I don’t know why like – instead of saying y’know I don’t want you to come in or leave – I don’t know hwy I just let him in. mmhm - - um - - maybe cuz I do miss him. I dunno what else – I just think it’s that – cuz I miss him. mmhm – but then when I do let him in I end up either mad or scared cuz one of the times',\n",
       " 'he came in he sat on the table and I had – I don’t really have time to go through the mail so I just odn’t open the mail and it piles up on thet able – so he picks up all the mail and starts going through it. I don’t know what he was looking for, but y’know Um it was like – notthe last time but the time before that it was in the like no after cuz he didn’t move out ‘till after. so you know (incompre) that just got me mad, cuz he scared. yea, I',\n",
       " 'kinda feel like – he just does whatever he wants open the door I’m not opening it. You can’t come in. I think I would just – I mean I could just go in my room. Cuz I wouldn’t be able to hear the door from my room. and go to my room – and lock the door, he wouldn’t be able to get in. I could actually leave - - cuz there’s a side - - then I wouldn’t be. And I know he wouldn’t even see me cuz I know he always leaves through hthe back of the',\n",
       " 'building, and the side exit is through the front. um I think that’s it – either go into my room or leave no cuz if I would call it – it would be – the only thought that I have of calling 911 is if I let him in and I saw that Yea - - - - um. I don’t know why I wouldn’t. I mean that – when – that um when he was hitting me I couldn’t because he y’know (T: right of course) and I wanted to after y’know after but – then he just called',\n",
       " 'his sister and I was like oh I’ll just wait for her to call me. - well- his sister was there - - //?like I told you??/ the whole time . she came, and she took me to the hospital. You know it was kinda like “what are you gonan say”?? I don’t know why, I think I was still scared. yeah - - um. I dunno. Really. I’m pretty sure he told him. the super. I wanna say I’m not gonna open it - - but I think it’s 50. yea yeah he’s gonna start talking about the same',\n",
       " 'thing over again. yea and by talking about it he’s just gonna get mad. and it could lead Hitting me mmhm – cuz that’s that why he gets mad cuz he keeps talkin and talkin about it – and I don’t wanna talk about it so I just ignore him? So I think that’s what gets him more mad than he already is. yeah - or I could just act like I didn’t hear the door. But the thing is because he come sin the middle of the night – I wake up scared cuz I near the door or',\n",
       " 'the phone so I kind of jus t jump off the bed and open the door, like. I think if I think about it. Cuz when I hear the door I don’t even think I just get up – jump off the bed – open the door. (T: so it sounds like you’re just going with the emotions) sort of going – I know it’s him Yeah – that’s why I get scared, cuz like y’know what if it happens again, something does happen to me. so yea mm yeah well, talkin about it is hard. yeah , I appreciate',\n",
       " 'your willingness to do that. I can tell this is really difficult. Brings up a lot of emotions. And it sound slike there’s a little bit in of a way in which you’re constantly doing a lot of work almost with your thoughts as well to sort of keep these emotions in. does that sound like maybe something you’re? yeah (wiping tears- not audible) yeah cuz if I’m at home and I think about it. I don’t really cry, I just think about something else. ok umm I think just – the hardest part is just - - - -',\n",
       " '(sniffles) thinking about what happened. Cuz of the way I remember feeling when it was going on. - - mmhm - - yeah (holding in tears) what do – like oh no the only time I think about it is like kind of make myself think about it. Yeah. But I don’t other than that I don’t. I don’t think about. Cuz – when I’m around people cuz nobody knows yes I don’t even. I try not to. I don’t think abot it. Yeah – I didn’t wanna come today. (sniffling) talking about Edwin. cuz my mom called me –',\n",
       " 'cuz I was thinking about it since the morning I was like I’m gonna call and I’m not gonna go. But my mom was y’know coming so I think I mentioned that I have an appointment – oh cuz she wanted me to go over to her house and I told her I couldn’t go right away cuz I had the appointment – and I told her ‘o h I just won’t go’ and she goes ‘ooh you better go’ and just come after. So',\n",
       " 'I uh - forget where we uh - left off - - yeah I think uh - - I left - - it seems like - when I come in I talk a lot about uh - my relationship with [name of girlfriend]] and uh - - I guess that’s been kind of - y’know uh - bothering me lately or - - concerning - and what we were - I believe talking about - was - y’know my - wanting to - maybe - uh - y’know - tie the knot with her - and uh - get married',\n",
       " 'and have a family - which I think is uh stressful to uh - think about that at this point - and uh I wanted to - there’s a part of me - that wants to do it - and there’s a part of me that doesn’t - and - - the part of me is uh - - the part saying you know uh I guess I think - - part of my struggling with this is that I think your life changes when you get married - - um - you live with someone you uh you you',\n",
       " 'know you make a commitment for life you have kids i think you have to think different you’re whole - going from single to um married I think is eomthign that uh is a challenge that you know i want to dive into but i don’t want to make a wrong choice because that choice is life changing - and I’ve already been married once so - - so I think that a that is something I’m struggling with do I want to do it but uh i’m not sure if that’s what i’m doing because I’m supposed to or',\n",
       " 'because I want to - - I mean I’m 34 - and I don’t know if there’s an age that you’re supposed to get married but you know she’s 31 - and if she gets married she wants to have kids as someone as her early thirties rather than someone in her late 30’s - gets more challenging as the time clock is ticking - so that’s something on my mind I wanna do it i think um I really adore her and I thinks she’s very good - I think what we were speaking about last time now that',\n",
       " 'I start talking and thinking about it - my relationship with my father - and my uh - high school - when uh - I was in my final senior year of high school and we weren’t getting along and he brought me to this hospital called Tom’s hospital - and he said let’s go see y’know uh - a therapist - a doctor - and uh - he dropped me off and never came back - which - from that point on - our relationship - uh - I - when I came out of there - I lived',\n",
       " 'with my mom and my dad would - - go back and forth - my mom was uh kind of a single mom struggling and uh didn’t have a lot of money - so you know it was hard for me to live with her um - uh - what happened was uh - this guy on my golf team - his father - was very supportive - of me - and the community (T: incomprehensible) and he you know went to my dad and said you know - you better get [patient’s name] out of there - because he’s',\n",
       " 'right in the middle of school - uh - you know you’ve had a rocky relationship - or you’re gonna have problems - you know my dad was a - a cop with the sheriff’s department you know hes uh - fairly high level - uh - cop you know - and and and uh - he wasn’t paying child support 1 , 2 you know - when I was with my mom - and 2 - you know - so anyway I came out of there - and I lived with uh my friend and uh - his father',\n",
       " 'and you know they ahd a - big house and uh - - very wealthy and it wasn’t - - too much of a strain for me to - live there - and I got along with Tom - the son there and - he was a golfer - and from this point on my dad was kind of like - uh known I guess in my friends and in my family - just kind of a bad guy - he really didn’t care about me - and uh - - had is own agenda - and a new marriage',\n",
       " 'and was just - doing his own thing with his new wife and their kids - and really just kind of - not - really uh - showed any - compassion - for me - or - support - so - I think a lot of these uh - things uh uh affect me - - that uh - - I really didn’t have him to rely on - um - and uh - he never came to visit me at college he never came to visit me uh y’know - I went to [name of University] - even went',\n",
       " 'as far as - I had a golf scholarship he called my golf coach and my coach said - - y’know this cop is calling me he sounded a little bitter and he was telling me you know ‘why I recruited you and why you got the scholarship because I wasn’t any good - that you know - I was an awful person - yep - he did - I think I told you one time - I was driving through Florida and I got pulled over for running a stop sign and my license was suspended because I didn’t',\n",
       " 'pay a ticket and uh uh - the guy immediately recognized my last name and he worked with my dad and and uh - the house was fairly close to there so we went over there- and I was kind of back from college - and my dad said - - I don’t want to see him - do whatever you want to do with him - close the door - and uh - - it was just a very bad feeling - - even like the cop you know said well where you do you wanna go that’s really',\n",
       " 'bad that your father would do that - and uh he uh - - just stuff lke that I can never like - rely on him - if there was ever a problem like that - uh - you know I would think that my dad would like be on my side but because - him and I didn’t have a good relationship he always figured I was bad - and guilty - so uh - I just never could ever count on him and always knew that he was on the other side of the table - to justify',\n",
       " 'I guess - him - against me - - um - - going forward and that I think - affected my - psyche - a little bit about letting people close to me- cuz he was my dad - for chrissakes - I was very close with my mother and just figured that my dad just really changed and his wife that he remarried was just very possessive of his time effort and love and everything and he just would go up against that to stand up for uh - for maybe how he truly felt- or wanted to do',\n",
       " '- which I thought was kind of a - weak position - selfish - -uh - - and I just have - I don’t think I could ever - or would want to ever forgive hi m - because uh - I think there - you could forgive someone - at a certain time - but it just goes too far where there’s - no turning back - and I don’t think I could ever- ever- forgive how he’s kind of a - treating me - in my life - and you know like I spoke to my grandparents and',\n",
       " 'they’re like y’know your dad loves you and you know - try and - and it just - it makes me mad - - when they would say that - because they just don’t understand that this guy has been a real selfish guy - to me - i’m his only son - and really hasn’t tried and blames everything on me for us not getting along well I just feel uh I don’t think about him y’know? hardly ever - you know I’m thinking about him now and all these feelings are coming back but uh - I think',\n",
       " 'that uh - I just - you know have no feelings towards him - um - I just uh don’t really I’m not that interested in all the effort - it would take to try to uh - try and have a relationship with him - it would be more uh - grief - the effort to put in - it would bring more grief - I could put a lot of effort into it and it could- - bring me down - - more than - help me - no no (T: there was nothing of that) I think',\n",
       " 'you’re right I think I’ve cut my feelings off - - from him - um - because i’ not mad at him i just you know i’m not bitter - I just - feel bad that I haven’t had a dad there - as a relationship - it would be nice - I feel you k now bad that my kids uh y’know won’t really have a good grandfather to go to you know I really look at my mom and stepdad and - that side of the family - as like the real uh - the real side of',\n",
       " 'the family - um - and I just - feel a little I guess a little disappointed that he wasn’t able to be - - a little more open minded - and a little bit more giving as far as - his relationship with me he’s just - so damn selfish - just you know - pisses me off - how selfish someone can be and not really understand like - for instance - I see um - [name of girlfriend]] - her parents are greek - greek immigrants they came over in a like - 29 years ago she',\n",
       " 'was born like a year after they came over here - and they give everything to their family -they babysit - they live for their kids - um they uh - would do anyting for their kids - and my dad is uh - the opposite of that - he hates kids - he would say that - he said kids and then like were like a big inconvenience he never really wanted to help me with college he’d rather go out and buy himself uh - uh a car or new motorcycle - and you know when I was',\n",
       " 'in college you know he would parade these things - in front of me and - and uh this and that - and just - it was a little bit um - - it was a little - like - disturbing that he like would want to invest in like material thigns rather than like me or our relationship or - you know never came to visit me in college - or school or you know um didn’t call me when this thing happened up here in 9/11 and knew I lived here in NY - just totally like -',\n",
       " 'not really um - - -tried - - - and has really cut that part of the family off from me - because it’s just a bad situation I feel uh - a little bit sad I feel kind of like I got the short end of the stick as far as uh you know - having a - fulfilled family - I feel uh like I didn’t get enough support you know or have a family that was um healthy and uh you know i just feel like uh a little bit empty as far as you know as',\n",
       " 'having that good family behind me - you know my mom and my grandmother I call her my noni - but you know - pop just died - and that side of the family is good I feel good about that but my dad’s side of the family just kind of really screwed up the whole kind of natural flowing thing of the family I mean he doesn’t talk to my mom and they hate each other and his wife doesn’t like me and its’ awkward between me and my stepbrothers and stepsister on that side because - so he’s',\n",
       " 'really like - - just been very selfish about the situation - and I think it’s - affected me - up to you know today - - with uh - - i guess me not really uh having a good family - life - maybe me being a little bit protective lke when I’m in a relationship to be protective of - - you know uh - - relationships - - so - - you know I thin it’s a problem and I think it’s definitely affected me you know I don’t think I have uh - uh - I',\n",
       " 'think i’ve turned out ok it’s just that I don’t feel that I have like a good solid family to offer someone like [name of girlfriend]] - - and I think part of - you know we were talking a little bit about me - uh - you know not bringing her down to Florida and not opening up - and I almost feel like a little insecure about my family life because it’s been a little bit shaky and I don’t awant to bring anybody into that - but I have to deal with - because I feel that',\n",
       " 'would - turn - someone off I feel like uh - I deal tiwth with enough that I just don’t want to subject anyone else to maybe the abuse that I feel - that I got - as far as- not having a good family - you know she’s the opposite - she has you know an overprotective mother anda father who - would do anything - for her and a great sister and a great greek family that just - comes together - and uh really values the whole family thing - um - and she can’t understand how',\n",
       " 'I can go like - um - we’ve been dating for almost two years and why I haven’t gone down to flordia - and you know I used to go down to florida every 3 months just to go see family down there - and I haven’t and it’s been um i’ve been a little bit nervous about bringing her down there and just kind of - opening up - that side I’m talking too much, right? no irt feels I guess good to - talk about these things - - um - te deep breath is a long -',\n",
       " 'it’s been a long haul - with dealing with some of these things - and one of the things that attracts me to [name of girlfriend]] is uh she has a good family - and shes’ got good family values and uh she uh appreciates kids and uh I guess it’s like everything I’ve really kind of looked for in a person -- as far as you know a family and everything else and uh - she wants to meet my family but I don’t want her to be freaked out - by you know - everything I guess uh',\n",
       " '- there’s nothing really for me to be freaked out what is it is - and I should just let her yo know - - in No I feel uh - - you know as I talk - maybe I - uh trying to figure out myself - which I think uh - I have to do - I’ve bottled up a lot of these feelings and uh - they don’t go away - my dad is just a a situation that uh i don’t know what to do about it - i don’t wanna have him come in and',\n",
       " 'uh - into my life right now - I just feel like he’s - will try to hurt me yeah I mean - - it’s a place that I don’t really wanna go - um - I think I had bottled them up maybe uh it comes out of my sometimes because there - I don’t’ feel relaxed I don’t feel about secure about everything- and you know uh - when [name of girlfriend]] and I - fight - which we really haven’t lately - and um she like goes into a sort of thing like ‘I feel almost alone’',\n",
       " 'I feel a lot like I need to - I don’t have that family background - and I almost feel like - alone like I did then - so you know I don’t really have this you know - strong family life - um I have a business right now that’s sometimes up sometimes down - um - which uh I can take but then again when you don’t have a strong family and your relationship - someone you really care about a lot - is shaky - - you know I feel alone in the world - and alittle',\n",
       " 'scared- and not knowing who to go to and uh disoriented as far as you know uh the direction I wanna go - yeah - yeah - I think that - on - the um =-alone situation - - I think if I was maybe a little more certain of myself i would know if [name of girlfriend]] is for me or not - I know that like if I go into a relationship with her I want it to be a good relationship - I think I’m maybe a little scared that all these things that affected me when',\n",
       " 'I was a kid will affect my adult life with [name of girlfriend]] and my kids - and I don’t want that to roll over into like the next generation i want to like fix it before you know I get married to [name of girlfriend]] or - not - um - I do think I wanna get married to [name of girlfriend]] i do want to have lots of friends and good balance in my life - but I find it very hard to find that balance right now I find myself - not knowing who I am right',\n",
       " 'now - not knowing - who my friends are - or - um which direction I’m going in - I feel like I definitely know which direction I’m going in with my business life - but in really who I am as far as a good relationship and you know kind of maturing into myself i’m - a bit lost - and uh - i just uh - feel - not real confident about my family life - i mean i know it’s there - but - it’s been shaky I mean my whole life and I’ve really - engaged',\n",
       " '[name of girlfriend]]’s family the past two years as - she’s my family - and her contacts and friends are my friends - and I work - so I’ve got these like two separate things where i don’t’ know maybe who I am - and uh maybe I feel uh - um a little bit y’know lost on - which direction to go - and I’m not sure - how to really find - where I’m going - it feels frustrating - it feels um a bit um you know scary and uh it also feels exhausting ve because uh',\n",
       " 'i’m always wondering maybe what’s gonna happen next - I don’t feel like there’s continuity = I feel like I’m all over the place sometimes - rather than focused- I try to be very focused at work - but just life in general - i don’t want my whole life to revolve around work - I want a life outside work - I want to have a good family - I want to - have a good family you know how I feel is like if I’m gonna have a good family I need to create one with the right',\n",
       " 'person and with the right friends - I feel like - my family is there - but my mom’s side is there - my dad’s side isn’t - so it’s a bit scary - i feel like if i didn’t tie the knot with [name of girlfriend]] i’d almost be starting all over with someone - and I don’t really wanna be in the wrong relationship i feel like I’m in the right relationship - but there’s a piece of me that really feels like - am I just clamping on to her because she’s there - or does she',\n",
       " 'really make me happy - and I think she really makes me happy - but there’s a part of me that says I’m doing this out of habit - am I just used to her - am I - do I like the security because she’s there for me - um - I think I really love her and I think she really like does it for me as far as there - but you know there’s doubts because we went through a period of time where we fought a lot and she wasn’t into the relationship as much as',\n",
       " 'I was I voiced them (T: even more in the (???) yeah - I voiced them y’know for instance - and I don’t mean to jump around here - but like tonight I’m meeting her here aftwards and you know she’s meeting with her group of people and this is part of the group that you know has Waldo the gay guy she used to date and some of the other people that /?she’s been meeting at the tribeca grand hotel and uh I mean dean asaid do you wanna meet after work we’re meeting for happy hour - and',\n",
       " 'michelle is staying at the hotel there and it’s her last night there because she’s down - her apartment was down by the world trade center - michelle is her friend who works with uh - waldo - so i said you know i’ll come by for a drink and why don’t you and i go out for dinner or something uh which is fine - but you know I almost feel like - i’m impeding on her relationships - with some of these guys- but it just drives me a little crazy when I see these flamboyant gay guys',\n",
       " 'hanging all over her in front of me i just think it’s a little bit disrespectful - even though they are gay - um - which shouldn’t be a threat - but you know a guy’s a guy and a girl’s a girl and yo know uh - it’s just y’know - a bit of - it bothers me - um - so um i’m trying to kind of handle that situation where I’m flexible - but it bothers me a little bit - and she’s really trying to be friends but say you know there’s a line - like',\n",
       " '‘I’m now in a relationship and i’m not like the i’m not you cant just do anything youw want because [patient’s name] is - pretty close to my fiancé and if it bothers him I would really want to change something to accommodate my relationship - um - but you know I made an example to her like you know what if your sister - - went out with these gay guys all the time - and they were very affectionate in front of harry her husband- like harry would have a very - uh a conniption fit about that',\n",
       " 'and I - try to be open minded but you know if it bothers me - I’ll try and be open minded but - - I think you know I have a lot of issues- and I think the main issue I think stems from not having a good family and having problems with my dad - which affects my makes me a little insecure now - because - you know for instance if I had a problem - I’d like to be able to call my dad - and have that relationship with my father - but I’ve never',\n",
       " 'had a father - I’ve had a lot of relationships with women who I’ve befriended - and my mom who i’ve befriended - I don’t really have a relationship with my mom’s step - her new husband stepfather - there’s just - a mistrust there - and I think I just need to get over it yeah yeah - I don’t - um - you know I really don’t have that you know i’ve really been kind of on my own - since then - and uh - i don’t mind that because I know I can always just rely',\n",
       " 'on myself - and I know I can rely that - on myself and i’ve gotten used to relying on myself so - a relationship is a little scary - to me - because - i’ve relied on myself and i’ve never let mself down - as far as being true to myself - i think - but yeah i don’t have i’ve never had the direction of - you know my mom ‘s different - I think - she’s a woman - I’ve never really had that good relationship - with a father - where I could call and',\n",
       " 'say you know what do you think of this what do you think of this decision i just relied on my instincts to do this and uh most of the time they’re right but it’s always good to have an outside fresh opinion on that - i mean ive met some people - my partner elliot gayer - is a guy who’s just uh beyond smart and um - trust worthy and i think i’ve kind of relied on him for the best eight or nine years as my like guy I can always bounce things off of - I',\n",
       " 'feel like I can trust him - he’s more or less my partner and we’ve looked out fr each other but it’s hard for me to ask him about y’know i’ve asked - he’s not my dad- he’s my partner and there’s a certain competitive relationship there but there’s also a friendship there you know so - - um - i haven’t had that - and uh - - i’ve found friendship in women that i’ve dated - uh - Elaine uh and I think I just need a good core of friends that like some of the same things',\n",
       " 'i like - like I love golf this is one of my passions - and i think if i started to play more golf - but that could kind of become my - circle - I uh well I - don’t mind it I - I actually like talking - it’s not the most pleasant thing - to dig into these - these past dealings - that i’ve had - I enjoy talking about it i think it’s helpful to me - to uh really kind of a work some of these things out - they’re a little foggy in',\n",
       " 'my head I believe they’re bottled up - and I think um - as I talk about them i learn and i feel - de-stressed - - so - - it’s good yeah its um uh a bit of a resistance I find myself going into this - but i also tell myself that I wanan do it - but there’s part of me that uh - um is resisting to come- y’know - to do it- so i have found that the last two times i’m trying to wait till the last minute to go - subconsciously it seems',\n",
       " 'and uh - i came late today i came late last time and i find it just very difficult to really dig in and talk about these things /but so - - I’m committed to going you know the full length and um doing it i just uh it’s not easy like i feel good now - i think it’s like - working out to go meet your trainer or something at 6:30 in the morning you’re not really excited until you get there and once you do it you feel good you gotta push yourself and i feel like',\n",
       " 'i have to push myself to work some of these things out and i’m committed to doing it i’ll do it it’s just a little hard to just open up and look at the past it’s - it’s effort -']"
      ]
     },
     "execution_count": 12,
     "metadata": {},
     "output_type": "execute_result"
    }
   ],
   "source": [
    "all_turns = [item for sublist in split_turns for item in sublist]\n",
    "all_turns"
   ]
  },
  {
   "cell_type": "code",
   "execution_count": 13,
   "metadata": {},
   "outputs": [
    {
     "data": {
      "text/plain": [
       "153"
      ]
     },
     "execution_count": 13,
     "metadata": {},
     "output_type": "execute_result"
    }
   ],
   "source": [
    "len(all_turns)"
   ]
  },
  {
   "cell_type": "code",
   "execution_count": 14,
   "metadata": {},
   "outputs": [],
   "source": [
    "# Generate fake labels array\n",
    "length = len(all_turns)\n",
    "\n",
    "# Generate a fake labels array\n",
    "fake_labels = np.eye(6)[np.random.choice(6, length)]"
   ]
  },
  {
   "cell_type": "code",
   "execution_count": 15,
   "metadata": {},
   "outputs": [
    {
     "data": {
      "text/plain": [
       "(153, 6)"
      ]
     },
     "execution_count": 15,
     "metadata": {},
     "output_type": "execute_result"
    }
   ],
   "source": [
    "fake_labels.shape"
   ]
  },
  {
   "cell_type": "markdown",
   "metadata": {},
   "source": [
    "## Tokenizer"
   ]
  },
  {
   "cell_type": "code",
   "execution_count": 16,
   "metadata": {},
   "outputs": [],
   "source": [
    "max_length = 512"
   ]
  },
  {
   "cell_type": "code",
   "execution_count": 17,
   "metadata": {},
   "outputs": [],
   "source": [
    "# Tokenizer\n",
    "tokenizer = BertTokenizer.from_pretrained('bert-base-multilingual-cased', max_length=max_length, padding=True, truncation=True)"
   ]
  },
  {
   "cell_type": "code",
   "execution_count": 18,
   "metadata": {},
   "outputs": [
    {
     "name": "stdout",
     "output_type": "stream",
     "text": [
      "Original:  I’m ok. I’m feeling a little, ah, stressed because of everything coming up, um, but/ um, yeah, I, uh, my personal statement is like second draft form, and then I’m working on it, and it’s, it’s almost done. my friend Zach read it, and I think he made it more difficult for me to write it. just by giving me constructive criticism and being like, be more specific, y’know, as if the specificity is important, like they want to know exactly what’s going to set you apart from the other people, or highlight this, or make this, and I’m like,\n",
      "Token IDs: [101, 146, 100, 181, 14302, 119, 146, 100, 181, 61362, 169, 16745, 117, 69863, 117, 39608, 10336, 12373, 10108, 42536, 23959, 10741, 117, 10293, 117, 10473, 120, 10293, 117, 11023, 12257, 117, 146, 117, 189, 10237, 117, 15127, 14927, 33311, 10124, 11850, 11132, 28447, 12188, 117, 10111, 11059, 146, 100, 181, 14616, 10135, 10271, 117, 10111, 10271, 100, 187, 117, 10271, 100, 187, 17122, 20378, 119, 15127, 20104, 81345, 24944, 10271, 117, 10111, 146, 27874, 10261, 11019, 10271, 10798, 25232, 10142, 10911, 10114, 28685, 10271, 119, 12820, 10155, 24426, 10911, 80392, 11942, 43291, 10111, 11223, 11850, 117, 10347, 10798, 19182, 117, 193, 100, 21852, 117, 10146, 12277, 10105, 19182, 11949, 10124, 12452, 117, 11850, 10689, 21528, 10114, 21852, 62136, 12976, 100, 187, 19090, 10114, 11847, 13028, 43084, 10188, 10105, 10684, 11426, 117, 10345, 11846, 24310, 10531, 117, 10345, 13086, 10531, 117, 10111, 146, 100, 181, 11850, 117, 102]\n"
     ]
    }
   ],
   "source": [
    "# Tokenize texts and map the tokens to their word IDs.\n",
    "input_ids = []\n",
    "\n",
    "for sent in all_turns:\n",
    "    encoded_text = tokenizer.encode(\n",
    "                        sent,                      # Sentence to encode.\n",
    "                        add_special_tokens = True, # Add '[CLS]' and '[SEP]'\n",
    "                   )\n",
    "    input_ids.append(encoded_text)\n",
    "\n",
    "# Print sentence 0, now as a list of IDs.\n",
    "print('Original: ', all_turns[0])\n",
    "print('Token IDs:', input_ids[0])"
   ]
  },
  {
   "cell_type": "code",
   "execution_count": 19,
   "metadata": {},
   "outputs": [
    {
     "name": "stdout",
     "output_type": "stream",
     "text": [
      "Max sentence length:  180\n"
     ]
    }
   ],
   "source": [
    "# Check max sentence length\n",
    "print('Max sentence length: ', max([len(sen) for sen in input_ids]))"
   ]
  },
  {
   "cell_type": "code",
   "execution_count": 20,
   "metadata": {},
   "outputs": [],
   "source": [
    "# # Pad our input tokens\n",
    "input_ids = keras.preprocessing.sequence.pad_sequences(input_ids, maxlen=max_length, dtype=\"long\", truncating=\"post\", padding=\"post\", value=0)\n",
    "\n",
    "# Create attention masks\n",
    "attention_masks = []\n",
    "\n",
    "for sent in input_ids:\n",
    "    \n",
    "    # Create the attention mask.\n",
    "    #   - If a token ID is 0, then it's padding, set the mask to 0.\n",
    "    #   - If a token ID is > 0, then it's a real token, set the mask to 1.\n",
    "    att_mask = [int(token_id > 0) for token_id in sent]\n",
    "    \n",
    "    # Store the attention mask for this sentence.\n",
    "    attention_masks.append(att_mask)"
   ]
  },
  {
   "cell_type": "code",
   "execution_count": 21,
   "metadata": {},
   "outputs": [],
   "source": [
    "# Make train/val split\n",
    "train_inputs, validation_inputs, train_labels, validation_labels = train_test_split(input_ids, fake_labels, \n",
    "                                                            random_state=2018, test_size=0.1)\n",
    "# Performing same steps on the attention masks\n",
    "train_masks, validation_masks, _, _ = train_test_split(attention_masks, fake_labels,\n",
    "                                             random_state=2018, test_size=0.1)\n",
    "\n"
   ]
  },
  {
   "cell_type": "code",
   "execution_count": 22,
   "metadata": {},
   "outputs": [],
   "source": [
    "# Convert to tensors\n",
    "train_inputs = torch.tensor(train_inputs)\n",
    "validation_inputs = torch.tensor(validation_inputs)\n",
    "\n",
    "train_labels = torch.tensor(train_labels)\n",
    "validation_labels = torch.tensor(validation_labels)\n",
    "\n",
    "train_masks = torch.tensor(train_masks)\n",
    "validation_masks = torch.tensor(validation_masks)\n",
    "\n",
    "# Create dataloaders\n",
    "batch_size = 32\n",
    "\n",
    "# Create the DataLoader for our training set.\n",
    "train_data = TensorDataset(train_inputs, train_masks, train_labels)\n",
    "train_sampler = RandomSampler(train_data)\n",
    "train_dataloader = DataLoader(train_data, sampler=train_sampler, batch_size=batch_size)\n",
    "\n",
    "# Create the DataLoader for our validation set.\n",
    "validation_data = TensorDataset(validation_inputs, validation_masks, validation_labels)\n",
    "validation_sampler = SequentialSampler(validation_data)\n",
    "validation_dataloader = DataLoader(validation_data, sampler=validation_sampler, batch_size=batch_size)"
   ]
  },
  {
   "cell_type": "markdown",
   "metadata": {},
   "source": [
    "## Keras model"
   ]
  },
  {
   "cell_type": "code",
   "execution_count": 23,
   "metadata": {},
   "outputs": [
    {
     "name": "stderr",
     "output_type": "stream",
     "text": [
      "Some weights of BertForSequenceClassification were not initialized from the model checkpoint at bert-base-multilingual-cased and are newly initialized: ['classifier.bias', 'classifier.weight']\n",
      "You should probably TRAIN this model on a down-stream task to be able to use it for predictions and inference.\n"
     ]
    },
    {
     "ename": "AttributeError",
     "evalue": "'BertForSequenceClassification' object has no attribute 'layers'",
     "output_type": "error",
     "traceback": [
      "\u001b[1;31m---------------------------------------------------------------------------\u001b[0m",
      "\u001b[1;31mAttributeError\u001b[0m                            Traceback (most recent call last)",
      "Cell \u001b[1;32mIn[23], line 2\u001b[0m\n\u001b[0;32m      1\u001b[0m \u001b[38;5;66;03m# Keras BERT model\u001b[39;00m\n\u001b[1;32m----> 2\u001b[0m keras_model \u001b[38;5;241m=\u001b[39m \u001b[43mmodel\u001b[49m\u001b[38;5;241;43m.\u001b[39;49m\u001b[43mBERTKeras\u001b[49m\u001b[43m(\u001b[49m\u001b[43mnum_classes\u001b[49m\u001b[38;5;241;43m=\u001b[39;49m\u001b[38;5;241;43m6\u001b[39;49m\u001b[43m,\u001b[49m\u001b[43m \u001b[49m\u001b[43mhidden_size\u001b[49m\u001b[38;5;241;43m=\u001b[39;49m\u001b[38;5;241;43m768\u001b[39;49m\u001b[43m,\u001b[49m\u001b[43m \u001b[49m\u001b[43mdropout_prob\u001b[49m\u001b[38;5;241;43m=\u001b[39;49m\u001b[38;5;241;43m0.25\u001b[39;49m\u001b[43m)\u001b[49m\n",
      "File \u001b[1;32mc:\\Users\\frbre\\OneDrive\\01 Dokumenter\\01 Uni\\SDS Thesis\\src\\utils\\model.py:28\u001b[0m, in \u001b[0;36mBERTKeras.__init__\u001b[1;34m(self, num_classes, hidden_size, dropout_prob, train_bert, **kwargs)\u001b[0m\n\u001b[0;32m     21\u001b[0m bert \u001b[38;5;241m=\u001b[39m BertForSequenceClassification\u001b[38;5;241m.\u001b[39mfrom_pretrained(\n\u001b[0;32m     22\u001b[0m     \u001b[38;5;124m'\u001b[39m\u001b[38;5;124mbert-base-multilingual-cased\u001b[39m\u001b[38;5;124m'\u001b[39m,\n\u001b[0;32m     23\u001b[0m     num_labels\u001b[38;5;241m=\u001b[39m\u001b[38;5;241m1\u001b[39m,\n\u001b[0;32m     24\u001b[0m     output_attentions\u001b[38;5;241m=\u001b[39m\u001b[38;5;28;01mFalse\u001b[39;00m,\n\u001b[0;32m     25\u001b[0m     output_hidden_states\u001b[38;5;241m=\u001b[39m\u001b[38;5;28;01mFalse\u001b[39;00m,)\n\u001b[0;32m     27\u001b[0m \u001b[38;5;66;03m# Remove last layer and store in self.bert\u001b[39;00m\n\u001b[1;32m---> 28\u001b[0m \u001b[38;5;28mself\u001b[39m\u001b[38;5;241m.\u001b[39mbert \u001b[38;5;241m=\u001b[39m keras\u001b[38;5;241m.\u001b[39mSequential(\u001b[43mbert\u001b[49m\u001b[38;5;241;43m.\u001b[39;49m\u001b[43mlayers\u001b[49m[:\u001b[38;5;241m-\u001b[39m\u001b[38;5;241m1\u001b[39m])\n\u001b[0;32m     30\u001b[0m \u001b[38;5;66;03m# Build bert model\u001b[39;00m\n\u001b[0;32m     31\u001b[0m \u001b[38;5;28mself\u001b[39m\u001b[38;5;241m.\u001b[39mbert\u001b[38;5;241m.\u001b[39mbuild(input_shape\u001b[38;5;241m=\u001b[39m(\u001b[38;5;28;01mNone\u001b[39;00m, \u001b[38;5;241m512\u001b[39m))\n",
      "File \u001b[1;32mc:\\Users\\frbre\\OneDrive\\01 Dokumenter\\01 Uni\\SDS Thesis\\venv\\Lib\\site-packages\\torch\\nn\\modules\\module.py:1695\u001b[0m, in \u001b[0;36mModule.__getattr__\u001b[1;34m(self, name)\u001b[0m\n\u001b[0;32m   1693\u001b[0m     \u001b[38;5;28;01mif\u001b[39;00m name \u001b[38;5;129;01min\u001b[39;00m modules:\n\u001b[0;32m   1694\u001b[0m         \u001b[38;5;28;01mreturn\u001b[39;00m modules[name]\n\u001b[1;32m-> 1695\u001b[0m \u001b[38;5;28;01mraise\u001b[39;00m \u001b[38;5;167;01mAttributeError\u001b[39;00m(\u001b[38;5;124mf\u001b[39m\u001b[38;5;124m\"\u001b[39m\u001b[38;5;124m'\u001b[39m\u001b[38;5;132;01m{\u001b[39;00m\u001b[38;5;28mtype\u001b[39m(\u001b[38;5;28mself\u001b[39m)\u001b[38;5;241m.\u001b[39m\u001b[38;5;18m__name__\u001b[39m\u001b[38;5;132;01m}\u001b[39;00m\u001b[38;5;124m'\u001b[39m\u001b[38;5;124m object has no attribute \u001b[39m\u001b[38;5;124m'\u001b[39m\u001b[38;5;132;01m{\u001b[39;00mname\u001b[38;5;132;01m}\u001b[39;00m\u001b[38;5;124m'\u001b[39m\u001b[38;5;124m\"\u001b[39m)\n",
      "\u001b[1;31mAttributeError\u001b[0m: 'BertForSequenceClassification' object has no attribute 'layers'"
     ]
    }
   ],
   "source": [
    "# Keras BERT model\n",
    "keras_model = model.BERTKeras(num_classes=6, hidden_size=768, dropout_prob=0.25)"
   ]
  },
  {
   "cell_type": "code",
   "execution_count": 78,
   "metadata": {},
   "outputs": [
    {
     "data": {
      "text/html": [
       "<pre style=\"white-space:pre;overflow-x:auto;line-height:normal;font-family:Menlo,'DejaVu Sans Mono',consolas,'Courier New',monospace\"><span style=\"font-weight: bold\">Model: \"bert_keras\"</span>\n",
       "</pre>\n"
      ],
      "text/plain": [
       "\u001b[1mModel: \"bert_keras\"\u001b[0m\n"
      ]
     },
     "metadata": {},
     "output_type": "display_data"
    },
    {
     "data": {
      "text/html": [
       "<pre style=\"white-space:pre;overflow-x:auto;line-height:normal;font-family:Menlo,'DejaVu Sans Mono',consolas,'Courier New',monospace\">┏━━━━━━━━━━━━━━━━━━━━━━━━━━━━━━━━━┳━━━━━━━━━━━━━━━━━━━━━━━━━━━┳━━━━━━━━━━━━┓\n",
       "┃<span style=\"font-weight: bold\"> Layer (type)                    </span>┃<span style=\"font-weight: bold\"> Output Shape              </span>┃<span style=\"font-weight: bold\">    Param # </span>┃\n",
       "┡━━━━━━━━━━━━━━━━━━━━━━━━━━━━━━━━━╇━━━━━━━━━━━━━━━━━━━━━━━━━━━╇━━━━━━━━━━━━┩\n",
       "│ torch_module_wrapper            │ ?                         │ <span style=\"color: #00af00; text-decoration-color: #00af00\">177,853,4…</span> │\n",
       "│ (<span style=\"color: #0087ff; text-decoration-color: #0087ff\">TorchModuleWrapper</span>)            │                           │            │\n",
       "├─────────────────────────────────┼───────────────────────────┼────────────┤\n",
       "│ dense (<span style=\"color: #0087ff; text-decoration-color: #0087ff\">Dense</span>)                   │ ?                         │          <span style=\"color: #00af00; text-decoration-color: #00af00\">0</span> │\n",
       "│                                 │                           │  (unbuilt) │\n",
       "├─────────────────────────────────┼───────────────────────────┼────────────┤\n",
       "│ dense_1 (<span style=\"color: #0087ff; text-decoration-color: #0087ff\">Dense</span>)                 │ ?                         │          <span style=\"color: #00af00; text-decoration-color: #00af00\">0</span> │\n",
       "│                                 │                           │  (unbuilt) │\n",
       "├─────────────────────────────────┼───────────────────────────┼────────────┤\n",
       "│ dense_2 (<span style=\"color: #0087ff; text-decoration-color: #0087ff\">Dense</span>)                 │ ?                         │          <span style=\"color: #00af00; text-decoration-color: #00af00\">0</span> │\n",
       "│                                 │                           │  (unbuilt) │\n",
       "├─────────────────────────────────┼───────────────────────────┼────────────┤\n",
       "│ dropout (<span style=\"color: #0087ff; text-decoration-color: #0087ff\">Dropout</span>)               │ ?                         │          <span style=\"color: #00af00; text-decoration-color: #00af00\">0</span> │\n",
       "├─────────────────────────────────┼───────────────────────────┼────────────┤\n",
       "│ dense_3 (<span style=\"color: #0087ff; text-decoration-color: #0087ff\">Dense</span>)                 │ ?                         │          <span style=\"color: #00af00; text-decoration-color: #00af00\">0</span> │\n",
       "│                                 │                           │  (unbuilt) │\n",
       "└─────────────────────────────────┴───────────────────────────┴────────────┘\n",
       "</pre>\n"
      ],
      "text/plain": [
       "┏━━━━━━━━━━━━━━━━━━━━━━━━━━━━━━━━━┳━━━━━━━━━━━━━━━━━━━━━━━━━━━┳━━━━━━━━━━━━┓\n",
       "┃\u001b[1m \u001b[0m\u001b[1mLayer (type)                   \u001b[0m\u001b[1m \u001b[0m┃\u001b[1m \u001b[0m\u001b[1mOutput Shape             \u001b[0m\u001b[1m \u001b[0m┃\u001b[1m \u001b[0m\u001b[1m   Param #\u001b[0m\u001b[1m \u001b[0m┃\n",
       "┡━━━━━━━━━━━━━━━━━━━━━━━━━━━━━━━━━╇━━━━━━━━━━━━━━━━━━━━━━━━━━━╇━━━━━━━━━━━━┩\n",
       "│ torch_module_wrapper            │ ?                         │ \u001b[38;5;34m177,853,4…\u001b[0m │\n",
       "│ (\u001b[38;5;33mTorchModuleWrapper\u001b[0m)            │                           │            │\n",
       "├─────────────────────────────────┼───────────────────────────┼────────────┤\n",
       "│ dense (\u001b[38;5;33mDense\u001b[0m)                   │ ?                         │          \u001b[38;5;34m0\u001b[0m │\n",
       "│                                 │                           │  (unbuilt) │\n",
       "├─────────────────────────────────┼───────────────────────────┼────────────┤\n",
       "│ dense_1 (\u001b[38;5;33mDense\u001b[0m)                 │ ?                         │          \u001b[38;5;34m0\u001b[0m │\n",
       "│                                 │                           │  (unbuilt) │\n",
       "├─────────────────────────────────┼───────────────────────────┼────────────┤\n",
       "│ dense_2 (\u001b[38;5;33mDense\u001b[0m)                 │ ?                         │          \u001b[38;5;34m0\u001b[0m │\n",
       "│                                 │                           │  (unbuilt) │\n",
       "├─────────────────────────────────┼───────────────────────────┼────────────┤\n",
       "│ dropout (\u001b[38;5;33mDropout\u001b[0m)               │ ?                         │          \u001b[38;5;34m0\u001b[0m │\n",
       "├─────────────────────────────────┼───────────────────────────┼────────────┤\n",
       "│ dense_3 (\u001b[38;5;33mDense\u001b[0m)                 │ ?                         │          \u001b[38;5;34m0\u001b[0m │\n",
       "│                                 │                           │  (unbuilt) │\n",
       "└─────────────────────────────────┴───────────────────────────┴────────────┘\n"
      ]
     },
     "metadata": {},
     "output_type": "display_data"
    },
    {
     "data": {
      "text/html": [
       "<pre style=\"white-space:pre;overflow-x:auto;line-height:normal;font-family:Menlo,'DejaVu Sans Mono',consolas,'Courier New',monospace\"><span style=\"font-weight: bold\"> Total params: </span><span style=\"color: #00af00; text-decoration-color: #00af00\">177,853,440</span> (678.46 MB)\n",
       "</pre>\n"
      ],
      "text/plain": [
       "\u001b[1m Total params: \u001b[0m\u001b[38;5;34m177,853,440\u001b[0m (678.46 MB)\n"
      ]
     },
     "metadata": {},
     "output_type": "display_data"
    },
    {
     "data": {
      "text/html": [
       "<pre style=\"white-space:pre;overflow-x:auto;line-height:normal;font-family:Menlo,'DejaVu Sans Mono',consolas,'Courier New',monospace\"><span style=\"font-weight: bold\"> Trainable params: </span><span style=\"color: #00af00; text-decoration-color: #00af00\">0</span> (0.00 B)\n",
       "</pre>\n"
      ],
      "text/plain": [
       "\u001b[1m Trainable params: \u001b[0m\u001b[38;5;34m0\u001b[0m (0.00 B)\n"
      ]
     },
     "metadata": {},
     "output_type": "display_data"
    },
    {
     "data": {
      "text/html": [
       "<pre style=\"white-space:pre;overflow-x:auto;line-height:normal;font-family:Menlo,'DejaVu Sans Mono',consolas,'Courier New',monospace\"><span style=\"font-weight: bold\"> Non-trainable params: </span><span style=\"color: #00af00; text-decoration-color: #00af00\">177,853,440</span> (678.46 MB)\n",
       "</pre>\n"
      ],
      "text/plain": [
       "\u001b[1m Non-trainable params: \u001b[0m\u001b[38;5;34m177,853,440\u001b[0m (678.46 MB)\n"
      ]
     },
     "metadata": {},
     "output_type": "display_data"
    }
   ],
   "source": [
    "keras_model.summary()"
   ]
  },
  {
   "cell_type": "code",
   "execution_count": 79,
   "metadata": {},
   "outputs": [
    {
     "name": "stdout",
     "output_type": "stream",
     "text": [
      "<BERTKeras name=bert_keras, built=False>\n"
     ]
    }
   ],
   "source": [
    "print(keras_model)"
   ]
  },
  {
   "cell_type": "code",
   "execution_count": 83,
   "metadata": {},
   "outputs": [
    {
     "ename": "TypeError",
     "evalue": "Exception encountered when calling TorchModuleWrapper.call().\n\n\u001b[1mBertModel.forward() got an unexpected keyword argument 'attention_masks'\u001b[0m\n\nArguments received by TorchModuleWrapper.call():\n  • args=('torch.Tensor(shape=torch.Size([137, 512]), dtype=int32)',)\n  • kwargs={'attention_masks': 'None'}",
     "output_type": "error",
     "traceback": [
      "\u001b[1;31m---------------------------------------------------------------------------\u001b[0m",
      "\u001b[1;31mTypeError\u001b[0m                                 Traceback (most recent call last)",
      "Cell \u001b[1;32mIn[83], line 2\u001b[0m\n\u001b[0;32m      1\u001b[0m \u001b[38;5;66;03m# Test run\u001b[39;00m\n\u001b[1;32m----> 2\u001b[0m result \u001b[38;5;241m=\u001b[39m \u001b[43mkeras_model\u001b[49m\u001b[43m(\u001b[49m\u001b[43mtrain_inputs\u001b[49m\u001b[43m)\u001b[49m\n",
      "File \u001b[1;32mc:\\Users\\frbre\\OneDrive\\01 Dokumenter\\01 Uni\\SDS Thesis\\venv\\Lib\\site-packages\\keras\\src\\utils\\traceback_utils.py:123\u001b[0m, in \u001b[0;36mfilter_traceback.<locals>.error_handler\u001b[1;34m(*args, **kwargs)\u001b[0m\n\u001b[0;32m    120\u001b[0m     filtered_tb \u001b[38;5;241m=\u001b[39m _process_traceback_frames(e\u001b[38;5;241m.\u001b[39m__traceback__)\n\u001b[0;32m    121\u001b[0m     \u001b[38;5;66;03m# To get the full stack trace, call:\u001b[39;00m\n\u001b[0;32m    122\u001b[0m     \u001b[38;5;66;03m# `keras.config.disable_traceback_filtering()`\u001b[39;00m\n\u001b[1;32m--> 123\u001b[0m     \u001b[38;5;28;01mraise\u001b[39;00m e\u001b[38;5;241m.\u001b[39mwith_traceback(filtered_tb) \u001b[38;5;28;01mfrom\u001b[39;00m \u001b[38;5;28;01mNone\u001b[39;00m\n\u001b[0;32m    124\u001b[0m \u001b[38;5;28;01mfinally\u001b[39;00m:\n\u001b[0;32m    125\u001b[0m     \u001b[38;5;28;01mdel\u001b[39;00m filtered_tb\n",
      "File \u001b[1;32mc:\\Users\\frbre\\OneDrive\\01 Dokumenter\\01 Uni\\SDS Thesis\\venv\\Lib\\site-packages\\torch\\nn\\modules\\module.py:1518\u001b[0m, in \u001b[0;36mModule._wrapped_call_impl\u001b[1;34m(self, *args, **kwargs)\u001b[0m\n\u001b[0;32m   1516\u001b[0m     \u001b[38;5;28;01mreturn\u001b[39;00m \u001b[38;5;28mself\u001b[39m\u001b[38;5;241m.\u001b[39m_compiled_call_impl(\u001b[38;5;241m*\u001b[39margs, \u001b[38;5;241m*\u001b[39m\u001b[38;5;241m*\u001b[39mkwargs)  \u001b[38;5;66;03m# type: ignore[misc]\u001b[39;00m\n\u001b[0;32m   1517\u001b[0m \u001b[38;5;28;01melse\u001b[39;00m:\n\u001b[1;32m-> 1518\u001b[0m     \u001b[38;5;28;01mreturn\u001b[39;00m \u001b[38;5;28;43mself\u001b[39;49m\u001b[38;5;241;43m.\u001b[39;49m\u001b[43m_call_impl\u001b[49m\u001b[43m(\u001b[49m\u001b[38;5;241;43m*\u001b[39;49m\u001b[43margs\u001b[49m\u001b[43m,\u001b[49m\u001b[43m \u001b[49m\u001b[38;5;241;43m*\u001b[39;49m\u001b[38;5;241;43m*\u001b[39;49m\u001b[43mkwargs\u001b[49m\u001b[43m)\u001b[49m\n",
      "File \u001b[1;32mc:\\Users\\frbre\\OneDrive\\01 Dokumenter\\01 Uni\\SDS Thesis\\venv\\Lib\\site-packages\\torch\\nn\\modules\\module.py:1527\u001b[0m, in \u001b[0;36mModule._call_impl\u001b[1;34m(self, *args, **kwargs)\u001b[0m\n\u001b[0;32m   1522\u001b[0m \u001b[38;5;66;03m# If we don't have any hooks, we want to skip the rest of the logic in\u001b[39;00m\n\u001b[0;32m   1523\u001b[0m \u001b[38;5;66;03m# this function, and just call forward.\u001b[39;00m\n\u001b[0;32m   1524\u001b[0m \u001b[38;5;28;01mif\u001b[39;00m \u001b[38;5;129;01mnot\u001b[39;00m (\u001b[38;5;28mself\u001b[39m\u001b[38;5;241m.\u001b[39m_backward_hooks \u001b[38;5;129;01mor\u001b[39;00m \u001b[38;5;28mself\u001b[39m\u001b[38;5;241m.\u001b[39m_backward_pre_hooks \u001b[38;5;129;01mor\u001b[39;00m \u001b[38;5;28mself\u001b[39m\u001b[38;5;241m.\u001b[39m_forward_hooks \u001b[38;5;129;01mor\u001b[39;00m \u001b[38;5;28mself\u001b[39m\u001b[38;5;241m.\u001b[39m_forward_pre_hooks\n\u001b[0;32m   1525\u001b[0m         \u001b[38;5;129;01mor\u001b[39;00m _global_backward_pre_hooks \u001b[38;5;129;01mor\u001b[39;00m _global_backward_hooks\n\u001b[0;32m   1526\u001b[0m         \u001b[38;5;129;01mor\u001b[39;00m _global_forward_hooks \u001b[38;5;129;01mor\u001b[39;00m _global_forward_pre_hooks):\n\u001b[1;32m-> 1527\u001b[0m     \u001b[38;5;28;01mreturn\u001b[39;00m \u001b[43mforward_call\u001b[49m\u001b[43m(\u001b[49m\u001b[38;5;241;43m*\u001b[39;49m\u001b[43margs\u001b[49m\u001b[43m,\u001b[49m\u001b[43m \u001b[49m\u001b[38;5;241;43m*\u001b[39;49m\u001b[38;5;241;43m*\u001b[39;49m\u001b[43mkwargs\u001b[49m\u001b[43m)\u001b[49m\n\u001b[0;32m   1529\u001b[0m \u001b[38;5;28;01mtry\u001b[39;00m:\n\u001b[0;32m   1530\u001b[0m     result \u001b[38;5;241m=\u001b[39m \u001b[38;5;28;01mNone\u001b[39;00m\n",
      "File \u001b[1;32mc:\\Users\\frbre\\OneDrive\\01 Dokumenter\\01 Uni\\SDS Thesis\\src\\utils\\model.py:39\u001b[0m, in \u001b[0;36mBERTKeras.call\u001b[1;34m(self, inputs, attention_masks)\u001b[0m\n\u001b[0;32m     37\u001b[0m \u001b[38;5;28;01mdef\u001b[39;00m \u001b[38;5;21mcall\u001b[39m(\u001b[38;5;28mself\u001b[39m, inputs, attention_mask\u001b[38;5;241m=\u001b[39m\u001b[38;5;28;01mNone\u001b[39;00m):\n\u001b[0;32m     38\u001b[0m     \u001b[38;5;66;03m# BERT model\u001b[39;00m\n\u001b[1;32m---> 39\u001b[0m     bert_output \u001b[38;5;241m=\u001b[39m \u001b[38;5;28mself\u001b[39m\u001b[38;5;241m.\u001b[39mbert(inputs, attention_mask\u001b[38;5;241m=\u001b[39mattention_mask)[\u001b[38;5;241m0\u001b[39m]\n\u001b[0;32m     41\u001b[0m     \u001b[38;5;66;03m# Intermediate layers\u001b[39;00m\n\u001b[0;32m     42\u001b[0m     fc1_output \u001b[38;5;241m=\u001b[39m \u001b[38;5;28mself\u001b[39m\u001b[38;5;241m.\u001b[39mfc1(bert_output)\n",
      "File \u001b[1;32mc:\\Users\\frbre\\OneDrive\\01 Dokumenter\\01 Uni\\SDS Thesis\\venv\\Lib\\site-packages\\torch\\nn\\modules\\module.py:1518\u001b[0m, in \u001b[0;36mModule._wrapped_call_impl\u001b[1;34m(self, *args, **kwargs)\u001b[0m\n\u001b[0;32m   1516\u001b[0m     \u001b[38;5;28;01mreturn\u001b[39;00m \u001b[38;5;28mself\u001b[39m\u001b[38;5;241m.\u001b[39m_compiled_call_impl(\u001b[38;5;241m*\u001b[39margs, \u001b[38;5;241m*\u001b[39m\u001b[38;5;241m*\u001b[39mkwargs)  \u001b[38;5;66;03m# type: ignore[misc]\u001b[39;00m\n\u001b[0;32m   1517\u001b[0m \u001b[38;5;28;01melse\u001b[39;00m:\n\u001b[1;32m-> 1518\u001b[0m     \u001b[38;5;28;01mreturn\u001b[39;00m \u001b[38;5;28;43mself\u001b[39;49m\u001b[38;5;241;43m.\u001b[39;49m\u001b[43m_call_impl\u001b[49m\u001b[43m(\u001b[49m\u001b[38;5;241;43m*\u001b[39;49m\u001b[43margs\u001b[49m\u001b[43m,\u001b[49m\u001b[43m \u001b[49m\u001b[38;5;241;43m*\u001b[39;49m\u001b[38;5;241;43m*\u001b[39;49m\u001b[43mkwargs\u001b[49m\u001b[43m)\u001b[49m\n",
      "File \u001b[1;32mc:\\Users\\frbre\\OneDrive\\01 Dokumenter\\01 Uni\\SDS Thesis\\venv\\Lib\\site-packages\\torch\\nn\\modules\\module.py:1527\u001b[0m, in \u001b[0;36mModule._call_impl\u001b[1;34m(self, *args, **kwargs)\u001b[0m\n\u001b[0;32m   1522\u001b[0m \u001b[38;5;66;03m# If we don't have any hooks, we want to skip the rest of the logic in\u001b[39;00m\n\u001b[0;32m   1523\u001b[0m \u001b[38;5;66;03m# this function, and just call forward.\u001b[39;00m\n\u001b[0;32m   1524\u001b[0m \u001b[38;5;28;01mif\u001b[39;00m \u001b[38;5;129;01mnot\u001b[39;00m (\u001b[38;5;28mself\u001b[39m\u001b[38;5;241m.\u001b[39m_backward_hooks \u001b[38;5;129;01mor\u001b[39;00m \u001b[38;5;28mself\u001b[39m\u001b[38;5;241m.\u001b[39m_backward_pre_hooks \u001b[38;5;129;01mor\u001b[39;00m \u001b[38;5;28mself\u001b[39m\u001b[38;5;241m.\u001b[39m_forward_hooks \u001b[38;5;129;01mor\u001b[39;00m \u001b[38;5;28mself\u001b[39m\u001b[38;5;241m.\u001b[39m_forward_pre_hooks\n\u001b[0;32m   1525\u001b[0m         \u001b[38;5;129;01mor\u001b[39;00m _global_backward_pre_hooks \u001b[38;5;129;01mor\u001b[39;00m _global_backward_hooks\n\u001b[0;32m   1526\u001b[0m         \u001b[38;5;129;01mor\u001b[39;00m _global_forward_hooks \u001b[38;5;129;01mor\u001b[39;00m _global_forward_pre_hooks):\n\u001b[1;32m-> 1527\u001b[0m     \u001b[38;5;28;01mreturn\u001b[39;00m \u001b[43mforward_call\u001b[49m\u001b[43m(\u001b[49m\u001b[38;5;241;43m*\u001b[39;49m\u001b[43margs\u001b[49m\u001b[43m,\u001b[49m\u001b[43m \u001b[49m\u001b[38;5;241;43m*\u001b[39;49m\u001b[38;5;241;43m*\u001b[39;49m\u001b[43mkwargs\u001b[49m\u001b[43m)\u001b[49m\n\u001b[0;32m   1529\u001b[0m \u001b[38;5;28;01mtry\u001b[39;00m:\n\u001b[0;32m   1530\u001b[0m     result \u001b[38;5;241m=\u001b[39m \u001b[38;5;28;01mNone\u001b[39;00m\n",
      "\u001b[1;31mTypeError\u001b[0m: Exception encountered when calling TorchModuleWrapper.call().\n\n\u001b[1mBertModel.forward() got an unexpected keyword argument 'attention_masks'\u001b[0m\n\nArguments received by TorchModuleWrapper.call():\n  • args=('torch.Tensor(shape=torch.Size([137, 512]), dtype=int32)',)\n  • kwargs={'attention_masks': 'None'}"
     ]
    }
   ],
   "source": [
    "# Test run\n",
    "result = keras_model(train_inputs)"
   ]
  },
  {
   "cell_type": "code",
   "execution_count": 27,
   "metadata": {},
   "outputs": [
    {
     "data": {
      "text/plain": [
       "torch.Size([36, 256, 6])"
      ]
     },
     "execution_count": 27,
     "metadata": {},
     "output_type": "execute_result"
    }
   ],
   "source": [
    "result.shape"
   ]
  },
  {
   "cell_type": "code",
   "execution_count": 28,
   "metadata": {},
   "outputs": [
    {
     "data": {
      "text/html": [
       "<pre style=\"white-space:pre;overflow-x:auto;line-height:normal;font-family:Menlo,'DejaVu Sans Mono',consolas,'Courier New',monospace\"><span style=\"font-weight: bold\">Model: \"bert_keras\"</span>\n",
       "</pre>\n"
      ],
      "text/plain": [
       "\u001b[1mModel: \"bert_keras\"\u001b[0m\n"
      ]
     },
     "metadata": {},
     "output_type": "display_data"
    },
    {
     "data": {
      "text/html": [
       "<pre style=\"white-space:pre;overflow-x:auto;line-height:normal;font-family:Menlo,'DejaVu Sans Mono',consolas,'Courier New',monospace\">┏━━━━━━━━━━━━━━━━━━━━━━━━━━━━━━━━━┳━━━━━━━━━━━━━━━━━━━━━━━━━━━┳━━━━━━━━━━━━┓\n",
       "┃<span style=\"font-weight: bold\"> Layer (type)                    </span>┃<span style=\"font-weight: bold\"> Output Shape              </span>┃<span style=\"font-weight: bold\">    Param # </span>┃\n",
       "┡━━━━━━━━━━━━━━━━━━━━━━━━━━━━━━━━━╇━━━━━━━━━━━━━━━━━━━━━━━━━━━╇━━━━━━━━━━━━┩\n",
       "│ torch_module_wrapper            │ ?                         │ <span style=\"color: #00af00; text-decoration-color: #00af00\">177,853,4…</span> │\n",
       "│ (<span style=\"color: #0087ff; text-decoration-color: #0087ff\">TorchModuleWrapper</span>)            │                           │            │\n",
       "├─────────────────────────────────┼───────────────────────────┼────────────┤\n",
       "│ dense (<span style=\"color: #0087ff; text-decoration-color: #0087ff\">Dense</span>)                   │ ?                         │    <span style=\"color: #00af00; text-decoration-color: #00af00\">590,592</span> │\n",
       "├─────────────────────────────────┼───────────────────────────┼────────────┤\n",
       "│ dense_1 (<span style=\"color: #0087ff; text-decoration-color: #0087ff\">Dense</span>)                 │ ?                         │    <span style=\"color: #00af00; text-decoration-color: #00af00\">590,592</span> │\n",
       "├─────────────────────────────────┼───────────────────────────┼────────────┤\n",
       "│ dense_2 (<span style=\"color: #0087ff; text-decoration-color: #0087ff\">Dense</span>)                 │ ?                         │    <span style=\"color: #00af00; text-decoration-color: #00af00\">590,592</span> │\n",
       "├─────────────────────────────────┼───────────────────────────┼────────────┤\n",
       "│ dropout (<span style=\"color: #0087ff; text-decoration-color: #0087ff\">Dropout</span>)               │ ?                         │          <span style=\"color: #00af00; text-decoration-color: #00af00\">0</span> │\n",
       "├─────────────────────────────────┼───────────────────────────┼────────────┤\n",
       "│ dense_3 (<span style=\"color: #0087ff; text-decoration-color: #0087ff\">Dense</span>)                 │ ?                         │      <span style=\"color: #00af00; text-decoration-color: #00af00\">4,614</span> │\n",
       "└─────────────────────────────────┴───────────────────────────┴────────────┘\n",
       "</pre>\n"
      ],
      "text/plain": [
       "┏━━━━━━━━━━━━━━━━━━━━━━━━━━━━━━━━━┳━━━━━━━━━━━━━━━━━━━━━━━━━━━┳━━━━━━━━━━━━┓\n",
       "┃\u001b[1m \u001b[0m\u001b[1mLayer (type)                   \u001b[0m\u001b[1m \u001b[0m┃\u001b[1m \u001b[0m\u001b[1mOutput Shape             \u001b[0m\u001b[1m \u001b[0m┃\u001b[1m \u001b[0m\u001b[1m   Param #\u001b[0m\u001b[1m \u001b[0m┃\n",
       "┡━━━━━━━━━━━━━━━━━━━━━━━━━━━━━━━━━╇━━━━━━━━━━━━━━━━━━━━━━━━━━━╇━━━━━━━━━━━━┩\n",
       "│ torch_module_wrapper            │ ?                         │ \u001b[38;5;34m177,853,4…\u001b[0m │\n",
       "│ (\u001b[38;5;33mTorchModuleWrapper\u001b[0m)            │                           │            │\n",
       "├─────────────────────────────────┼───────────────────────────┼────────────┤\n",
       "│ dense (\u001b[38;5;33mDense\u001b[0m)                   │ ?                         │    \u001b[38;5;34m590,592\u001b[0m │\n",
       "├─────────────────────────────────┼───────────────────────────┼────────────┤\n",
       "│ dense_1 (\u001b[38;5;33mDense\u001b[0m)                 │ ?                         │    \u001b[38;5;34m590,592\u001b[0m │\n",
       "├─────────────────────────────────┼───────────────────────────┼────────────┤\n",
       "│ dense_2 (\u001b[38;5;33mDense\u001b[0m)                 │ ?                         │    \u001b[38;5;34m590,592\u001b[0m │\n",
       "├─────────────────────────────────┼───────────────────────────┼────────────┤\n",
       "│ dropout (\u001b[38;5;33mDropout\u001b[0m)               │ ?                         │          \u001b[38;5;34m0\u001b[0m │\n",
       "├─────────────────────────────────┼───────────────────────────┼────────────┤\n",
       "│ dense_3 (\u001b[38;5;33mDense\u001b[0m)                 │ ?                         │      \u001b[38;5;34m4,614\u001b[0m │\n",
       "└─────────────────────────────────┴───────────────────────────┴────────────┘\n"
      ]
     },
     "metadata": {},
     "output_type": "display_data"
    },
    {
     "data": {
      "text/html": [
       "<pre style=\"white-space:pre;overflow-x:auto;line-height:normal;font-family:Menlo,'DejaVu Sans Mono',consolas,'Courier New',monospace\"><span style=\"font-weight: bold\"> Total params: </span><span style=\"color: #00af00; text-decoration-color: #00af00\">179,629,830</span> (685.23 MB)\n",
       "</pre>\n"
      ],
      "text/plain": [
       "\u001b[1m Total params: \u001b[0m\u001b[38;5;34m179,629,830\u001b[0m (685.23 MB)\n"
      ]
     },
     "metadata": {},
     "output_type": "display_data"
    },
    {
     "data": {
      "text/html": [
       "<pre style=\"white-space:pre;overflow-x:auto;line-height:normal;font-family:Menlo,'DejaVu Sans Mono',consolas,'Courier New',monospace\"><span style=\"font-weight: bold\"> Trainable params: </span><span style=\"color: #00af00; text-decoration-color: #00af00\">1,776,390</span> (6.78 MB)\n",
       "</pre>\n"
      ],
      "text/plain": [
       "\u001b[1m Trainable params: \u001b[0m\u001b[38;5;34m1,776,390\u001b[0m (6.78 MB)\n"
      ]
     },
     "metadata": {},
     "output_type": "display_data"
    },
    {
     "data": {
      "text/html": [
       "<pre style=\"white-space:pre;overflow-x:auto;line-height:normal;font-family:Menlo,'DejaVu Sans Mono',consolas,'Courier New',monospace\"><span style=\"font-weight: bold\"> Non-trainable params: </span><span style=\"color: #00af00; text-decoration-color: #00af00\">177,853,440</span> (678.46 MB)\n",
       "</pre>\n"
      ],
      "text/plain": [
       "\u001b[1m Non-trainable params: \u001b[0m\u001b[38;5;34m177,853,440\u001b[0m (678.46 MB)\n"
      ]
     },
     "metadata": {},
     "output_type": "display_data"
    }
   ],
   "source": [
    "# Layers are 'unbuilt' until they are called\n",
    "# After calling the model, it looks like this\n",
    "keras_model.summary()"
   ]
  },
  {
   "cell_type": "markdown",
   "metadata": {},
   "source": [
    "## BERT direct model (torch)"
   ]
  },
  {
   "cell_type": "code",
   "execution_count": 23,
   "metadata": {},
   "outputs": [
    {
     "name": "stderr",
     "output_type": "stream",
     "text": [
      "Some weights of BertForSequenceClassification were not initialized from the model checkpoint at bert-base-uncased and are newly initialized: ['classifier.bias', 'classifier.weight']\n",
      "You should probably TRAIN this model on a down-stream task to be able to use it for predictions and inference.\n"
     ]
    }
   ],
   "source": [
    "# BERT model\n",
    "bert_direct = BertForSequenceClassification.from_pretrained(\n",
    "    \"bert-base-uncased\", \n",
    "    num_labels = 6,   \n",
    "    output_attentions = False, \n",
    "    output_hidden_states = False, )"
   ]
  },
  {
   "cell_type": "code",
   "execution_count": 24,
   "metadata": {},
   "outputs": [
    {
     "name": "stdout",
     "output_type": "stream",
     "text": [
      "BertForSequenceClassification(\n",
      "  (bert): BertModel(\n",
      "    (embeddings): BertEmbeddings(\n",
      "      (word_embeddings): Embedding(30522, 768, padding_idx=0)\n",
      "      (position_embeddings): Embedding(512, 768)\n",
      "      (token_type_embeddings): Embedding(2, 768)\n",
      "      (LayerNorm): LayerNorm((768,), eps=1e-12, elementwise_affine=True)\n",
      "      (dropout): Dropout(p=0.1, inplace=False)\n",
      "    )\n",
      "    (encoder): BertEncoder(\n",
      "      (layer): ModuleList(\n",
      "        (0-11): 12 x BertLayer(\n",
      "          (attention): BertAttention(\n",
      "            (self): BertSelfAttention(\n",
      "              (query): Linear(in_features=768, out_features=768, bias=True)\n",
      "              (key): Linear(in_features=768, out_features=768, bias=True)\n",
      "              (value): Linear(in_features=768, out_features=768, bias=True)\n",
      "              (dropout): Dropout(p=0.1, inplace=False)\n",
      "            )\n",
      "            (output): BertSelfOutput(\n",
      "              (dense): Linear(in_features=768, out_features=768, bias=True)\n",
      "              (LayerNorm): LayerNorm((768,), eps=1e-12, elementwise_affine=True)\n",
      "              (dropout): Dropout(p=0.1, inplace=False)\n",
      "            )\n",
      "          )\n",
      "          (intermediate): BertIntermediate(\n",
      "            (dense): Linear(in_features=768, out_features=3072, bias=True)\n",
      "            (intermediate_act_fn): GELUActivation()\n",
      "          )\n",
      "          (output): BertOutput(\n",
      "            (dense): Linear(in_features=3072, out_features=768, bias=True)\n",
      "            (LayerNorm): LayerNorm((768,), eps=1e-12, elementwise_affine=True)\n",
      "            (dropout): Dropout(p=0.1, inplace=False)\n",
      "          )\n",
      "        )\n",
      "      )\n",
      "    )\n",
      "    (pooler): BertPooler(\n",
      "      (dense): Linear(in_features=768, out_features=768, bias=True)\n",
      "      (activation): Tanh()\n",
      "    )\n",
      "  )\n",
      "  (dropout): Dropout(p=0.1, inplace=False)\n",
      "  (classifier): Linear(in_features=768, out_features=6, bias=True)\n",
      ")\n"
     ]
    }
   ],
   "source": [
    "print(bert_direct)"
   ]
  },
  {
   "cell_type": "code",
   "execution_count": 69,
   "metadata": {},
   "outputs": [
    {
     "data": {
      "text/plain": [
       "torch.Size([512])"
      ]
     },
     "execution_count": 69,
     "metadata": {},
     "output_type": "execute_result"
    }
   ],
   "source": [
    "train_inputs[0].shape"
   ]
  },
  {
   "cell_type": "code",
   "execution_count": 70,
   "metadata": {},
   "outputs": [
    {
     "data": {
      "text/plain": [
       "tensor([   101,  10392,  12820,  18084,  10271,    118,    169,  11940,  10160,\n",
       "           169,  10635,    146,  75980,  22094,    117,    146,  18957,  10978,\n",
       "         10841,    146,  18957,  10978,  18084,  10105,  10172,  49183,  10271,\n",
       "           100,    187,  11850,  11387,  11044,    146,  12820,  17367,  10114,\n",
       "         38008,  18322,    117,  10111,    146,    100,    181,  19090,  10114,\n",
       "         49619,    117,  10111,  13028,  21852,  10873,  10135,    146,  10944,\n",
       "         27874,  10978,    120,    136,    136,  17367,  10230,  10105,  10172,\n",
       "         49183,  13123,    117,    118,    118,    146,  12172,  20517,  15127,\n",
       "         10172,  49183, 108361,  11357,  46791,    117,  10111,  15127,  26937,\n",
       "         65390,    100,    188,  16683,  54214,  10978,  10189,    117,  10111,\n",
       "         13028,  21852,    117,  10271,  19513,    169,  35723,    117,    146,\n",
       "         10134,  36897,  12547,    117,  10271,  19513,  11152,  13028,  21852,\n",
       "         11152,  22899,  35723,    117,  10473,    146,  10134,  30706,  11850,\n",
       "         10114,    117,  12820,  20517,  10105,  10172,  49183,    117,  13028,\n",
       "         21852,    117,    120,    136,    136,  10114,  12962,    169,  10751,\n",
       "           102,      0,      0,      0,      0,      0,      0,      0,      0,\n",
       "             0,      0,      0,      0,      0,      0,      0,      0,      0,\n",
       "             0,      0,      0,      0,      0,      0,      0,      0,      0,\n",
       "             0,      0,      0,      0,      0,      0,      0,      0,      0,\n",
       "             0,      0,      0,      0,      0,      0,      0,      0,      0,\n",
       "             0,      0,      0,      0,      0,      0,      0,      0,      0,\n",
       "             0,      0,      0,      0,      0,      0,      0,      0,      0,\n",
       "             0,      0,      0,      0,      0,      0,      0,      0,      0,\n",
       "             0,      0,      0,      0,      0,      0,      0,      0,      0,\n",
       "             0,      0,      0,      0,      0,      0,      0,      0,      0,\n",
       "             0,      0,      0,      0,      0,      0,      0,      0,      0,\n",
       "             0,      0,      0,      0,      0,      0,      0,      0,      0,\n",
       "             0,      0,      0,      0,      0,      0,      0,      0,      0,\n",
       "             0,      0,      0,      0,      0,      0,      0,      0,      0,\n",
       "             0,      0,      0,      0,      0,      0,      0,      0,      0,\n",
       "             0,      0,      0,      0,      0,      0,      0,      0,      0,\n",
       "             0,      0,      0,      0,      0,      0,      0,      0,      0,\n",
       "             0,      0,      0,      0,      0,      0,      0,      0,      0,\n",
       "             0,      0,      0,      0,      0,      0,      0,      0,      0,\n",
       "             0,      0,      0,      0,      0,      0,      0,      0,      0,\n",
       "             0,      0,      0,      0,      0,      0,      0,      0,      0,\n",
       "             0,      0,      0,      0,      0,      0,      0,      0,      0,\n",
       "             0,      0,      0,      0,      0,      0,      0,      0,      0,\n",
       "             0,      0,      0,      0,      0,      0,      0,      0,      0,\n",
       "             0,      0,      0,      0,      0,      0,      0,      0,      0,\n",
       "             0,      0,      0,      0,      0,      0,      0,      0,      0,\n",
       "             0,      0,      0,      0,      0,      0,      0,      0,      0,\n",
       "             0,      0,      0,      0,      0,      0,      0,      0,      0,\n",
       "             0,      0,      0,      0,      0,      0,      0,      0,      0,\n",
       "             0,      0,      0,      0,      0,      0,      0,      0,      0,\n",
       "             0,      0,      0,      0,      0,      0,      0,      0,      0,\n",
       "             0,      0,      0,      0,      0,      0,      0,      0,      0,\n",
       "             0,      0,      0,      0,      0,      0,      0,      0,      0,\n",
       "             0,      0,      0,      0,      0,      0,      0,      0,      0,\n",
       "             0,      0,      0,      0,      0,      0,      0,      0,      0,\n",
       "             0,      0,      0,      0,      0,      0,      0,      0,      0,\n",
       "             0,      0,      0,      0,      0,      0,      0,      0,      0,\n",
       "             0,      0,      0,      0,      0,      0,      0,      0,      0,\n",
       "             0,      0,      0,      0,      0,      0,      0,      0,      0,\n",
       "             0,      0,      0,      0,      0,      0,      0,      0,      0,\n",
       "             0,      0,      0,      0,      0,      0,      0,      0,      0,\n",
       "             0,      0,      0,      0,      0,      0,      0,      0],\n",
       "       dtype=torch.int32)"
      ]
     },
     "execution_count": 70,
     "metadata": {},
     "output_type": "execute_result"
    }
   ],
   "source": [
    "train_inputs[0]"
   ]
  },
  {
   "cell_type": "code",
   "execution_count": 71,
   "metadata": {},
   "outputs": [
    {
     "name": "stderr",
     "output_type": "stream",
     "text": [
      "We strongly recommend passing in an `attention_mask` since your input_ids may be padded. See https://huggingface.co/docs/transformers/troubleshooting#incorrect-output-when-padding-tokens-arent-masked.\n"
     ]
    },
    {
     "ename": "IndexError",
     "evalue": "index out of range in self",
     "output_type": "error",
     "traceback": [
      "\u001b[1;31m---------------------------------------------------------------------------\u001b[0m",
      "\u001b[1;31mIndexError\u001b[0m                                Traceback (most recent call last)",
      "Cell \u001b[1;32mIn[71], line 1\u001b[0m\n\u001b[1;32m----> 1\u001b[0m bert_result \u001b[38;5;241m=\u001b[39m \u001b[43mmodel\u001b[49m\u001b[43m(\u001b[49m\u001b[43mtrain_inputs\u001b[49m\u001b[43m)\u001b[49m\n",
      "File \u001b[1;32mc:\\Users\\frbre\\OneDrive\\01 Dokumenter\\01 Uni\\SDS Thesis\\venv\\Lib\\site-packages\\torch\\nn\\modules\\module.py:1518\u001b[0m, in \u001b[0;36mModule._wrapped_call_impl\u001b[1;34m(self, *args, **kwargs)\u001b[0m\n\u001b[0;32m   1516\u001b[0m     \u001b[38;5;28;01mreturn\u001b[39;00m \u001b[38;5;28mself\u001b[39m\u001b[38;5;241m.\u001b[39m_compiled_call_impl(\u001b[38;5;241m*\u001b[39margs, \u001b[38;5;241m*\u001b[39m\u001b[38;5;241m*\u001b[39mkwargs)  \u001b[38;5;66;03m# type: ignore[misc]\u001b[39;00m\n\u001b[0;32m   1517\u001b[0m \u001b[38;5;28;01melse\u001b[39;00m:\n\u001b[1;32m-> 1518\u001b[0m     \u001b[38;5;28;01mreturn\u001b[39;00m \u001b[38;5;28;43mself\u001b[39;49m\u001b[38;5;241;43m.\u001b[39;49m\u001b[43m_call_impl\u001b[49m\u001b[43m(\u001b[49m\u001b[38;5;241;43m*\u001b[39;49m\u001b[43margs\u001b[49m\u001b[43m,\u001b[49m\u001b[43m \u001b[49m\u001b[38;5;241;43m*\u001b[39;49m\u001b[38;5;241;43m*\u001b[39;49m\u001b[43mkwargs\u001b[49m\u001b[43m)\u001b[49m\n",
      "File \u001b[1;32mc:\\Users\\frbre\\OneDrive\\01 Dokumenter\\01 Uni\\SDS Thesis\\venv\\Lib\\site-packages\\torch\\nn\\modules\\module.py:1527\u001b[0m, in \u001b[0;36mModule._call_impl\u001b[1;34m(self, *args, **kwargs)\u001b[0m\n\u001b[0;32m   1522\u001b[0m \u001b[38;5;66;03m# If we don't have any hooks, we want to skip the rest of the logic in\u001b[39;00m\n\u001b[0;32m   1523\u001b[0m \u001b[38;5;66;03m# this function, and just call forward.\u001b[39;00m\n\u001b[0;32m   1524\u001b[0m \u001b[38;5;28;01mif\u001b[39;00m \u001b[38;5;129;01mnot\u001b[39;00m (\u001b[38;5;28mself\u001b[39m\u001b[38;5;241m.\u001b[39m_backward_hooks \u001b[38;5;129;01mor\u001b[39;00m \u001b[38;5;28mself\u001b[39m\u001b[38;5;241m.\u001b[39m_backward_pre_hooks \u001b[38;5;129;01mor\u001b[39;00m \u001b[38;5;28mself\u001b[39m\u001b[38;5;241m.\u001b[39m_forward_hooks \u001b[38;5;129;01mor\u001b[39;00m \u001b[38;5;28mself\u001b[39m\u001b[38;5;241m.\u001b[39m_forward_pre_hooks\n\u001b[0;32m   1525\u001b[0m         \u001b[38;5;129;01mor\u001b[39;00m _global_backward_pre_hooks \u001b[38;5;129;01mor\u001b[39;00m _global_backward_hooks\n\u001b[0;32m   1526\u001b[0m         \u001b[38;5;129;01mor\u001b[39;00m _global_forward_hooks \u001b[38;5;129;01mor\u001b[39;00m _global_forward_pre_hooks):\n\u001b[1;32m-> 1527\u001b[0m     \u001b[38;5;28;01mreturn\u001b[39;00m \u001b[43mforward_call\u001b[49m\u001b[43m(\u001b[49m\u001b[38;5;241;43m*\u001b[39;49m\u001b[43margs\u001b[49m\u001b[43m,\u001b[49m\u001b[43m \u001b[49m\u001b[38;5;241;43m*\u001b[39;49m\u001b[38;5;241;43m*\u001b[39;49m\u001b[43mkwargs\u001b[49m\u001b[43m)\u001b[49m\n\u001b[0;32m   1529\u001b[0m \u001b[38;5;28;01mtry\u001b[39;00m:\n\u001b[0;32m   1530\u001b[0m     result \u001b[38;5;241m=\u001b[39m \u001b[38;5;28;01mNone\u001b[39;00m\n",
      "File \u001b[1;32mc:\\Users\\frbre\\OneDrive\\01 Dokumenter\\01 Uni\\SDS Thesis\\venv\\Lib\\site-packages\\transformers\\models\\bert\\modeling_bert.py:1564\u001b[0m, in \u001b[0;36mBertForSequenceClassification.forward\u001b[1;34m(self, input_ids, attention_mask, token_type_ids, position_ids, head_mask, inputs_embeds, labels, output_attentions, output_hidden_states, return_dict)\u001b[0m\n\u001b[0;32m   1556\u001b[0m \u001b[38;5;250m\u001b[39m\u001b[38;5;124mr\u001b[39m\u001b[38;5;124;03m\"\"\"\u001b[39;00m\n\u001b[0;32m   1557\u001b[0m \u001b[38;5;124;03mlabels (`torch.LongTensor` of shape `(batch_size,)`, *optional*):\u001b[39;00m\n\u001b[0;32m   1558\u001b[0m \u001b[38;5;124;03m    Labels for computing the sequence classification/regression loss. Indices should be in `[0, ...,\u001b[39;00m\n\u001b[0;32m   1559\u001b[0m \u001b[38;5;124;03m    config.num_labels - 1]`. If `config.num_labels == 1` a regression loss is computed (Mean-Square loss), If\u001b[39;00m\n\u001b[0;32m   1560\u001b[0m \u001b[38;5;124;03m    `config.num_labels > 1` a classification loss is computed (Cross-Entropy).\u001b[39;00m\n\u001b[0;32m   1561\u001b[0m \u001b[38;5;124;03m\"\"\"\u001b[39;00m\n\u001b[0;32m   1562\u001b[0m return_dict \u001b[38;5;241m=\u001b[39m return_dict \u001b[38;5;28;01mif\u001b[39;00m return_dict \u001b[38;5;129;01mis\u001b[39;00m \u001b[38;5;129;01mnot\u001b[39;00m \u001b[38;5;28;01mNone\u001b[39;00m \u001b[38;5;28;01melse\u001b[39;00m \u001b[38;5;28mself\u001b[39m\u001b[38;5;241m.\u001b[39mconfig\u001b[38;5;241m.\u001b[39muse_return_dict\n\u001b[1;32m-> 1564\u001b[0m outputs \u001b[38;5;241m=\u001b[39m \u001b[38;5;28;43mself\u001b[39;49m\u001b[38;5;241;43m.\u001b[39;49m\u001b[43mbert\u001b[49m\u001b[43m(\u001b[49m\n\u001b[0;32m   1565\u001b[0m \u001b[43m    \u001b[49m\u001b[43minput_ids\u001b[49m\u001b[43m,\u001b[49m\n\u001b[0;32m   1566\u001b[0m \u001b[43m    \u001b[49m\u001b[43mattention_mask\u001b[49m\u001b[38;5;241;43m=\u001b[39;49m\u001b[43mattention_mask\u001b[49m\u001b[43m,\u001b[49m\n\u001b[0;32m   1567\u001b[0m \u001b[43m    \u001b[49m\u001b[43mtoken_type_ids\u001b[49m\u001b[38;5;241;43m=\u001b[39;49m\u001b[43mtoken_type_ids\u001b[49m\u001b[43m,\u001b[49m\n\u001b[0;32m   1568\u001b[0m \u001b[43m    \u001b[49m\u001b[43mposition_ids\u001b[49m\u001b[38;5;241;43m=\u001b[39;49m\u001b[43mposition_ids\u001b[49m\u001b[43m,\u001b[49m\n\u001b[0;32m   1569\u001b[0m \u001b[43m    \u001b[49m\u001b[43mhead_mask\u001b[49m\u001b[38;5;241;43m=\u001b[39;49m\u001b[43mhead_mask\u001b[49m\u001b[43m,\u001b[49m\n\u001b[0;32m   1570\u001b[0m \u001b[43m    \u001b[49m\u001b[43minputs_embeds\u001b[49m\u001b[38;5;241;43m=\u001b[39;49m\u001b[43minputs_embeds\u001b[49m\u001b[43m,\u001b[49m\n\u001b[0;32m   1571\u001b[0m \u001b[43m    \u001b[49m\u001b[43moutput_attentions\u001b[49m\u001b[38;5;241;43m=\u001b[39;49m\u001b[43moutput_attentions\u001b[49m\u001b[43m,\u001b[49m\n\u001b[0;32m   1572\u001b[0m \u001b[43m    \u001b[49m\u001b[43moutput_hidden_states\u001b[49m\u001b[38;5;241;43m=\u001b[39;49m\u001b[43moutput_hidden_states\u001b[49m\u001b[43m,\u001b[49m\n\u001b[0;32m   1573\u001b[0m \u001b[43m    \u001b[49m\u001b[43mreturn_dict\u001b[49m\u001b[38;5;241;43m=\u001b[39;49m\u001b[43mreturn_dict\u001b[49m\u001b[43m,\u001b[49m\n\u001b[0;32m   1574\u001b[0m \u001b[43m\u001b[49m\u001b[43m)\u001b[49m\n\u001b[0;32m   1576\u001b[0m pooled_output \u001b[38;5;241m=\u001b[39m outputs[\u001b[38;5;241m1\u001b[39m]\n\u001b[0;32m   1578\u001b[0m pooled_output \u001b[38;5;241m=\u001b[39m \u001b[38;5;28mself\u001b[39m\u001b[38;5;241m.\u001b[39mdropout(pooled_output)\n",
      "File \u001b[1;32mc:\\Users\\frbre\\OneDrive\\01 Dokumenter\\01 Uni\\SDS Thesis\\venv\\Lib\\site-packages\\torch\\nn\\modules\\module.py:1518\u001b[0m, in \u001b[0;36mModule._wrapped_call_impl\u001b[1;34m(self, *args, **kwargs)\u001b[0m\n\u001b[0;32m   1516\u001b[0m     \u001b[38;5;28;01mreturn\u001b[39;00m \u001b[38;5;28mself\u001b[39m\u001b[38;5;241m.\u001b[39m_compiled_call_impl(\u001b[38;5;241m*\u001b[39margs, \u001b[38;5;241m*\u001b[39m\u001b[38;5;241m*\u001b[39mkwargs)  \u001b[38;5;66;03m# type: ignore[misc]\u001b[39;00m\n\u001b[0;32m   1517\u001b[0m \u001b[38;5;28;01melse\u001b[39;00m:\n\u001b[1;32m-> 1518\u001b[0m     \u001b[38;5;28;01mreturn\u001b[39;00m \u001b[38;5;28;43mself\u001b[39;49m\u001b[38;5;241;43m.\u001b[39;49m\u001b[43m_call_impl\u001b[49m\u001b[43m(\u001b[49m\u001b[38;5;241;43m*\u001b[39;49m\u001b[43margs\u001b[49m\u001b[43m,\u001b[49m\u001b[43m \u001b[49m\u001b[38;5;241;43m*\u001b[39;49m\u001b[38;5;241;43m*\u001b[39;49m\u001b[43mkwargs\u001b[49m\u001b[43m)\u001b[49m\n",
      "File \u001b[1;32mc:\\Users\\frbre\\OneDrive\\01 Dokumenter\\01 Uni\\SDS Thesis\\venv\\Lib\\site-packages\\torch\\nn\\modules\\module.py:1527\u001b[0m, in \u001b[0;36mModule._call_impl\u001b[1;34m(self, *args, **kwargs)\u001b[0m\n\u001b[0;32m   1522\u001b[0m \u001b[38;5;66;03m# If we don't have any hooks, we want to skip the rest of the logic in\u001b[39;00m\n\u001b[0;32m   1523\u001b[0m \u001b[38;5;66;03m# this function, and just call forward.\u001b[39;00m\n\u001b[0;32m   1524\u001b[0m \u001b[38;5;28;01mif\u001b[39;00m \u001b[38;5;129;01mnot\u001b[39;00m (\u001b[38;5;28mself\u001b[39m\u001b[38;5;241m.\u001b[39m_backward_hooks \u001b[38;5;129;01mor\u001b[39;00m \u001b[38;5;28mself\u001b[39m\u001b[38;5;241m.\u001b[39m_backward_pre_hooks \u001b[38;5;129;01mor\u001b[39;00m \u001b[38;5;28mself\u001b[39m\u001b[38;5;241m.\u001b[39m_forward_hooks \u001b[38;5;129;01mor\u001b[39;00m \u001b[38;5;28mself\u001b[39m\u001b[38;5;241m.\u001b[39m_forward_pre_hooks\n\u001b[0;32m   1525\u001b[0m         \u001b[38;5;129;01mor\u001b[39;00m _global_backward_pre_hooks \u001b[38;5;129;01mor\u001b[39;00m _global_backward_hooks\n\u001b[0;32m   1526\u001b[0m         \u001b[38;5;129;01mor\u001b[39;00m _global_forward_hooks \u001b[38;5;129;01mor\u001b[39;00m _global_forward_pre_hooks):\n\u001b[1;32m-> 1527\u001b[0m     \u001b[38;5;28;01mreturn\u001b[39;00m \u001b[43mforward_call\u001b[49m\u001b[43m(\u001b[49m\u001b[38;5;241;43m*\u001b[39;49m\u001b[43margs\u001b[49m\u001b[43m,\u001b[49m\u001b[43m \u001b[49m\u001b[38;5;241;43m*\u001b[39;49m\u001b[38;5;241;43m*\u001b[39;49m\u001b[43mkwargs\u001b[49m\u001b[43m)\u001b[49m\n\u001b[0;32m   1529\u001b[0m \u001b[38;5;28;01mtry\u001b[39;00m:\n\u001b[0;32m   1530\u001b[0m     result \u001b[38;5;241m=\u001b[39m \u001b[38;5;28;01mNone\u001b[39;00m\n",
      "File \u001b[1;32mc:\\Users\\frbre\\OneDrive\\01 Dokumenter\\01 Uni\\SDS Thesis\\venv\\Lib\\site-packages\\transformers\\models\\bert\\modeling_bert.py:1006\u001b[0m, in \u001b[0;36mBertModel.forward\u001b[1;34m(self, input_ids, attention_mask, token_type_ids, position_ids, head_mask, inputs_embeds, encoder_hidden_states, encoder_attention_mask, past_key_values, use_cache, output_attentions, output_hidden_states, return_dict)\u001b[0m\n\u001b[0;32m    999\u001b[0m \u001b[38;5;66;03m# Prepare head mask if needed\u001b[39;00m\n\u001b[0;32m   1000\u001b[0m \u001b[38;5;66;03m# 1.0 in head_mask indicate we keep the head\u001b[39;00m\n\u001b[0;32m   1001\u001b[0m \u001b[38;5;66;03m# attention_probs has shape bsz x n_heads x N x N\u001b[39;00m\n\u001b[0;32m   1002\u001b[0m \u001b[38;5;66;03m# input head_mask has shape [num_heads] or [num_hidden_layers x num_heads]\u001b[39;00m\n\u001b[0;32m   1003\u001b[0m \u001b[38;5;66;03m# and head_mask is converted to shape [num_hidden_layers x batch x num_heads x seq_length x seq_length]\u001b[39;00m\n\u001b[0;32m   1004\u001b[0m head_mask \u001b[38;5;241m=\u001b[39m \u001b[38;5;28mself\u001b[39m\u001b[38;5;241m.\u001b[39mget_head_mask(head_mask, \u001b[38;5;28mself\u001b[39m\u001b[38;5;241m.\u001b[39mconfig\u001b[38;5;241m.\u001b[39mnum_hidden_layers)\n\u001b[1;32m-> 1006\u001b[0m embedding_output \u001b[38;5;241m=\u001b[39m \u001b[38;5;28;43mself\u001b[39;49m\u001b[38;5;241;43m.\u001b[39;49m\u001b[43membeddings\u001b[49m\u001b[43m(\u001b[49m\n\u001b[0;32m   1007\u001b[0m \u001b[43m    \u001b[49m\u001b[43minput_ids\u001b[49m\u001b[38;5;241;43m=\u001b[39;49m\u001b[43minput_ids\u001b[49m\u001b[43m,\u001b[49m\n\u001b[0;32m   1008\u001b[0m \u001b[43m    \u001b[49m\u001b[43mposition_ids\u001b[49m\u001b[38;5;241;43m=\u001b[39;49m\u001b[43mposition_ids\u001b[49m\u001b[43m,\u001b[49m\n\u001b[0;32m   1009\u001b[0m \u001b[43m    \u001b[49m\u001b[43mtoken_type_ids\u001b[49m\u001b[38;5;241;43m=\u001b[39;49m\u001b[43mtoken_type_ids\u001b[49m\u001b[43m,\u001b[49m\n\u001b[0;32m   1010\u001b[0m \u001b[43m    \u001b[49m\u001b[43minputs_embeds\u001b[49m\u001b[38;5;241;43m=\u001b[39;49m\u001b[43minputs_embeds\u001b[49m\u001b[43m,\u001b[49m\n\u001b[0;32m   1011\u001b[0m \u001b[43m    \u001b[49m\u001b[43mpast_key_values_length\u001b[49m\u001b[38;5;241;43m=\u001b[39;49m\u001b[43mpast_key_values_length\u001b[49m\u001b[43m,\u001b[49m\n\u001b[0;32m   1012\u001b[0m \u001b[43m\u001b[49m\u001b[43m)\u001b[49m\n\u001b[0;32m   1013\u001b[0m encoder_outputs \u001b[38;5;241m=\u001b[39m \u001b[38;5;28mself\u001b[39m\u001b[38;5;241m.\u001b[39mencoder(\n\u001b[0;32m   1014\u001b[0m     embedding_output,\n\u001b[0;32m   1015\u001b[0m     attention_mask\u001b[38;5;241m=\u001b[39mextended_attention_mask,\n\u001b[1;32m   (...)\u001b[0m\n\u001b[0;32m   1023\u001b[0m     return_dict\u001b[38;5;241m=\u001b[39mreturn_dict,\n\u001b[0;32m   1024\u001b[0m )\n\u001b[0;32m   1025\u001b[0m sequence_output \u001b[38;5;241m=\u001b[39m encoder_outputs[\u001b[38;5;241m0\u001b[39m]\n",
      "File \u001b[1;32mc:\\Users\\frbre\\OneDrive\\01 Dokumenter\\01 Uni\\SDS Thesis\\venv\\Lib\\site-packages\\torch\\nn\\modules\\module.py:1518\u001b[0m, in \u001b[0;36mModule._wrapped_call_impl\u001b[1;34m(self, *args, **kwargs)\u001b[0m\n\u001b[0;32m   1516\u001b[0m     \u001b[38;5;28;01mreturn\u001b[39;00m \u001b[38;5;28mself\u001b[39m\u001b[38;5;241m.\u001b[39m_compiled_call_impl(\u001b[38;5;241m*\u001b[39margs, \u001b[38;5;241m*\u001b[39m\u001b[38;5;241m*\u001b[39mkwargs)  \u001b[38;5;66;03m# type: ignore[misc]\u001b[39;00m\n\u001b[0;32m   1517\u001b[0m \u001b[38;5;28;01melse\u001b[39;00m:\n\u001b[1;32m-> 1518\u001b[0m     \u001b[38;5;28;01mreturn\u001b[39;00m \u001b[38;5;28;43mself\u001b[39;49m\u001b[38;5;241;43m.\u001b[39;49m\u001b[43m_call_impl\u001b[49m\u001b[43m(\u001b[49m\u001b[38;5;241;43m*\u001b[39;49m\u001b[43margs\u001b[49m\u001b[43m,\u001b[49m\u001b[43m \u001b[49m\u001b[38;5;241;43m*\u001b[39;49m\u001b[38;5;241;43m*\u001b[39;49m\u001b[43mkwargs\u001b[49m\u001b[43m)\u001b[49m\n",
      "File \u001b[1;32mc:\\Users\\frbre\\OneDrive\\01 Dokumenter\\01 Uni\\SDS Thesis\\venv\\Lib\\site-packages\\torch\\nn\\modules\\module.py:1527\u001b[0m, in \u001b[0;36mModule._call_impl\u001b[1;34m(self, *args, **kwargs)\u001b[0m\n\u001b[0;32m   1522\u001b[0m \u001b[38;5;66;03m# If we don't have any hooks, we want to skip the rest of the logic in\u001b[39;00m\n\u001b[0;32m   1523\u001b[0m \u001b[38;5;66;03m# this function, and just call forward.\u001b[39;00m\n\u001b[0;32m   1524\u001b[0m \u001b[38;5;28;01mif\u001b[39;00m \u001b[38;5;129;01mnot\u001b[39;00m (\u001b[38;5;28mself\u001b[39m\u001b[38;5;241m.\u001b[39m_backward_hooks \u001b[38;5;129;01mor\u001b[39;00m \u001b[38;5;28mself\u001b[39m\u001b[38;5;241m.\u001b[39m_backward_pre_hooks \u001b[38;5;129;01mor\u001b[39;00m \u001b[38;5;28mself\u001b[39m\u001b[38;5;241m.\u001b[39m_forward_hooks \u001b[38;5;129;01mor\u001b[39;00m \u001b[38;5;28mself\u001b[39m\u001b[38;5;241m.\u001b[39m_forward_pre_hooks\n\u001b[0;32m   1525\u001b[0m         \u001b[38;5;129;01mor\u001b[39;00m _global_backward_pre_hooks \u001b[38;5;129;01mor\u001b[39;00m _global_backward_hooks\n\u001b[0;32m   1526\u001b[0m         \u001b[38;5;129;01mor\u001b[39;00m _global_forward_hooks \u001b[38;5;129;01mor\u001b[39;00m _global_forward_pre_hooks):\n\u001b[1;32m-> 1527\u001b[0m     \u001b[38;5;28;01mreturn\u001b[39;00m \u001b[43mforward_call\u001b[49m\u001b[43m(\u001b[49m\u001b[38;5;241;43m*\u001b[39;49m\u001b[43margs\u001b[49m\u001b[43m,\u001b[49m\u001b[43m \u001b[49m\u001b[38;5;241;43m*\u001b[39;49m\u001b[38;5;241;43m*\u001b[39;49m\u001b[43mkwargs\u001b[49m\u001b[43m)\u001b[49m\n\u001b[0;32m   1529\u001b[0m \u001b[38;5;28;01mtry\u001b[39;00m:\n\u001b[0;32m   1530\u001b[0m     result \u001b[38;5;241m=\u001b[39m \u001b[38;5;28;01mNone\u001b[39;00m\n",
      "File \u001b[1;32mc:\\Users\\frbre\\OneDrive\\01 Dokumenter\\01 Uni\\SDS Thesis\\venv\\Lib\\site-packages\\transformers\\models\\bert\\modeling_bert.py:232\u001b[0m, in \u001b[0;36mBertEmbeddings.forward\u001b[1;34m(self, input_ids, token_type_ids, position_ids, inputs_embeds, past_key_values_length)\u001b[0m\n\u001b[0;32m    229\u001b[0m         token_type_ids \u001b[38;5;241m=\u001b[39m torch\u001b[38;5;241m.\u001b[39mzeros(input_shape, dtype\u001b[38;5;241m=\u001b[39mtorch\u001b[38;5;241m.\u001b[39mlong, device\u001b[38;5;241m=\u001b[39m\u001b[38;5;28mself\u001b[39m\u001b[38;5;241m.\u001b[39mposition_ids\u001b[38;5;241m.\u001b[39mdevice)\n\u001b[0;32m    231\u001b[0m \u001b[38;5;28;01mif\u001b[39;00m inputs_embeds \u001b[38;5;129;01mis\u001b[39;00m \u001b[38;5;28;01mNone\u001b[39;00m:\n\u001b[1;32m--> 232\u001b[0m     inputs_embeds \u001b[38;5;241m=\u001b[39m \u001b[38;5;28;43mself\u001b[39;49m\u001b[38;5;241;43m.\u001b[39;49m\u001b[43mword_embeddings\u001b[49m\u001b[43m(\u001b[49m\u001b[43minput_ids\u001b[49m\u001b[43m)\u001b[49m\n\u001b[0;32m    233\u001b[0m token_type_embeddings \u001b[38;5;241m=\u001b[39m \u001b[38;5;28mself\u001b[39m\u001b[38;5;241m.\u001b[39mtoken_type_embeddings(token_type_ids)\n\u001b[0;32m    235\u001b[0m embeddings \u001b[38;5;241m=\u001b[39m inputs_embeds \u001b[38;5;241m+\u001b[39m token_type_embeddings\n",
      "File \u001b[1;32mc:\\Users\\frbre\\OneDrive\\01 Dokumenter\\01 Uni\\SDS Thesis\\venv\\Lib\\site-packages\\torch\\nn\\modules\\module.py:1518\u001b[0m, in \u001b[0;36mModule._wrapped_call_impl\u001b[1;34m(self, *args, **kwargs)\u001b[0m\n\u001b[0;32m   1516\u001b[0m     \u001b[38;5;28;01mreturn\u001b[39;00m \u001b[38;5;28mself\u001b[39m\u001b[38;5;241m.\u001b[39m_compiled_call_impl(\u001b[38;5;241m*\u001b[39margs, \u001b[38;5;241m*\u001b[39m\u001b[38;5;241m*\u001b[39mkwargs)  \u001b[38;5;66;03m# type: ignore[misc]\u001b[39;00m\n\u001b[0;32m   1517\u001b[0m \u001b[38;5;28;01melse\u001b[39;00m:\n\u001b[1;32m-> 1518\u001b[0m     \u001b[38;5;28;01mreturn\u001b[39;00m \u001b[38;5;28;43mself\u001b[39;49m\u001b[38;5;241;43m.\u001b[39;49m\u001b[43m_call_impl\u001b[49m\u001b[43m(\u001b[49m\u001b[38;5;241;43m*\u001b[39;49m\u001b[43margs\u001b[49m\u001b[43m,\u001b[49m\u001b[43m \u001b[49m\u001b[38;5;241;43m*\u001b[39;49m\u001b[38;5;241;43m*\u001b[39;49m\u001b[43mkwargs\u001b[49m\u001b[43m)\u001b[49m\n",
      "File \u001b[1;32mc:\\Users\\frbre\\OneDrive\\01 Dokumenter\\01 Uni\\SDS Thesis\\venv\\Lib\\site-packages\\torch\\nn\\modules\\module.py:1527\u001b[0m, in \u001b[0;36mModule._call_impl\u001b[1;34m(self, *args, **kwargs)\u001b[0m\n\u001b[0;32m   1522\u001b[0m \u001b[38;5;66;03m# If we don't have any hooks, we want to skip the rest of the logic in\u001b[39;00m\n\u001b[0;32m   1523\u001b[0m \u001b[38;5;66;03m# this function, and just call forward.\u001b[39;00m\n\u001b[0;32m   1524\u001b[0m \u001b[38;5;28;01mif\u001b[39;00m \u001b[38;5;129;01mnot\u001b[39;00m (\u001b[38;5;28mself\u001b[39m\u001b[38;5;241m.\u001b[39m_backward_hooks \u001b[38;5;129;01mor\u001b[39;00m \u001b[38;5;28mself\u001b[39m\u001b[38;5;241m.\u001b[39m_backward_pre_hooks \u001b[38;5;129;01mor\u001b[39;00m \u001b[38;5;28mself\u001b[39m\u001b[38;5;241m.\u001b[39m_forward_hooks \u001b[38;5;129;01mor\u001b[39;00m \u001b[38;5;28mself\u001b[39m\u001b[38;5;241m.\u001b[39m_forward_pre_hooks\n\u001b[0;32m   1525\u001b[0m         \u001b[38;5;129;01mor\u001b[39;00m _global_backward_pre_hooks \u001b[38;5;129;01mor\u001b[39;00m _global_backward_hooks\n\u001b[0;32m   1526\u001b[0m         \u001b[38;5;129;01mor\u001b[39;00m _global_forward_hooks \u001b[38;5;129;01mor\u001b[39;00m _global_forward_pre_hooks):\n\u001b[1;32m-> 1527\u001b[0m     \u001b[38;5;28;01mreturn\u001b[39;00m \u001b[43mforward_call\u001b[49m\u001b[43m(\u001b[49m\u001b[38;5;241;43m*\u001b[39;49m\u001b[43margs\u001b[49m\u001b[43m,\u001b[49m\u001b[43m \u001b[49m\u001b[38;5;241;43m*\u001b[39;49m\u001b[38;5;241;43m*\u001b[39;49m\u001b[43mkwargs\u001b[49m\u001b[43m)\u001b[49m\n\u001b[0;32m   1529\u001b[0m \u001b[38;5;28;01mtry\u001b[39;00m:\n\u001b[0;32m   1530\u001b[0m     result \u001b[38;5;241m=\u001b[39m \u001b[38;5;28;01mNone\u001b[39;00m\n",
      "File \u001b[1;32mc:\\Users\\frbre\\OneDrive\\01 Dokumenter\\01 Uni\\SDS Thesis\\venv\\Lib\\site-packages\\torch\\nn\\modules\\sparse.py:162\u001b[0m, in \u001b[0;36mEmbedding.forward\u001b[1;34m(self, input)\u001b[0m\n\u001b[0;32m    161\u001b[0m \u001b[38;5;28;01mdef\u001b[39;00m \u001b[38;5;21mforward\u001b[39m(\u001b[38;5;28mself\u001b[39m, \u001b[38;5;28minput\u001b[39m: Tensor) \u001b[38;5;241m-\u001b[39m\u001b[38;5;241m>\u001b[39m Tensor:\n\u001b[1;32m--> 162\u001b[0m     \u001b[38;5;28;01mreturn\u001b[39;00m \u001b[43mF\u001b[49m\u001b[38;5;241;43m.\u001b[39;49m\u001b[43membedding\u001b[49m\u001b[43m(\u001b[49m\n\u001b[0;32m    163\u001b[0m \u001b[43m        \u001b[49m\u001b[38;5;28;43minput\u001b[39;49m\u001b[43m,\u001b[49m\u001b[43m \u001b[49m\u001b[38;5;28;43mself\u001b[39;49m\u001b[38;5;241;43m.\u001b[39;49m\u001b[43mweight\u001b[49m\u001b[43m,\u001b[49m\u001b[43m \u001b[49m\u001b[38;5;28;43mself\u001b[39;49m\u001b[38;5;241;43m.\u001b[39;49m\u001b[43mpadding_idx\u001b[49m\u001b[43m,\u001b[49m\u001b[43m \u001b[49m\u001b[38;5;28;43mself\u001b[39;49m\u001b[38;5;241;43m.\u001b[39;49m\u001b[43mmax_norm\u001b[49m\u001b[43m,\u001b[49m\n\u001b[0;32m    164\u001b[0m \u001b[43m        \u001b[49m\u001b[38;5;28;43mself\u001b[39;49m\u001b[38;5;241;43m.\u001b[39;49m\u001b[43mnorm_type\u001b[49m\u001b[43m,\u001b[49m\u001b[43m \u001b[49m\u001b[38;5;28;43mself\u001b[39;49m\u001b[38;5;241;43m.\u001b[39;49m\u001b[43mscale_grad_by_freq\u001b[49m\u001b[43m,\u001b[49m\u001b[43m \u001b[49m\u001b[38;5;28;43mself\u001b[39;49m\u001b[38;5;241;43m.\u001b[39;49m\u001b[43msparse\u001b[49m\u001b[43m)\u001b[49m\n",
      "File \u001b[1;32mc:\\Users\\frbre\\OneDrive\\01 Dokumenter\\01 Uni\\SDS Thesis\\venv\\Lib\\site-packages\\torch\\nn\\functional.py:2233\u001b[0m, in \u001b[0;36membedding\u001b[1;34m(input, weight, padding_idx, max_norm, norm_type, scale_grad_by_freq, sparse)\u001b[0m\n\u001b[0;32m   2227\u001b[0m     \u001b[38;5;66;03m# Note [embedding_renorm set_grad_enabled]\u001b[39;00m\n\u001b[0;32m   2228\u001b[0m     \u001b[38;5;66;03m# XXX: equivalent to\u001b[39;00m\n\u001b[0;32m   2229\u001b[0m     \u001b[38;5;66;03m# with torch.no_grad():\u001b[39;00m\n\u001b[0;32m   2230\u001b[0m     \u001b[38;5;66;03m#   torch.embedding_renorm_\u001b[39;00m\n\u001b[0;32m   2231\u001b[0m     \u001b[38;5;66;03m# remove once script supports set_grad_enabled\u001b[39;00m\n\u001b[0;32m   2232\u001b[0m     _no_grad_embedding_renorm_(weight, \u001b[38;5;28minput\u001b[39m, max_norm, norm_type)\n\u001b[1;32m-> 2233\u001b[0m \u001b[38;5;28;01mreturn\u001b[39;00m \u001b[43mtorch\u001b[49m\u001b[38;5;241;43m.\u001b[39;49m\u001b[43membedding\u001b[49m\u001b[43m(\u001b[49m\u001b[43mweight\u001b[49m\u001b[43m,\u001b[49m\u001b[43m \u001b[49m\u001b[38;5;28;43minput\u001b[39;49m\u001b[43m,\u001b[49m\u001b[43m \u001b[49m\u001b[43mpadding_idx\u001b[49m\u001b[43m,\u001b[49m\u001b[43m \u001b[49m\u001b[43mscale_grad_by_freq\u001b[49m\u001b[43m,\u001b[49m\u001b[43m \u001b[49m\u001b[43msparse\u001b[49m\u001b[43m)\u001b[49m\n",
      "\u001b[1;31mIndexError\u001b[0m: index out of range in self"
     ]
    }
   ],
   "source": [
    "bert_result = bert_direct(train_inputs)"
   ]
  },
  {
   "cell_type": "markdown",
   "metadata": {},
   "source": [
    "## Torch model"
   ]
  },
  {
   "cell_type": "code",
   "execution_count": 27,
   "metadata": {},
   "outputs": [
    {
     "name": "stderr",
     "output_type": "stream",
     "text": [
      "Some weights of BertForSequenceClassification were not initialized from the model checkpoint at bert-base-multilingual-cased and are newly initialized: ['classifier.bias', 'classifier.weight']\n",
      "You should probably TRAIN this model on a down-stream task to be able to use it for predictions and inference.\n"
     ]
    }
   ],
   "source": [
    "torch_model = model.BERTTorch(num_classes=6, hidden_size=768, dropout_prob=0.25)"
   ]
  },
  {
   "cell_type": "code",
   "execution_count": 28,
   "metadata": {},
   "outputs": [
    {
     "name": "stdout",
     "output_type": "stream",
     "text": [
      "BERTTorch(\n",
      "  (bert): BertForSequenceClassification(\n",
      "    (bert): BertModel(\n",
      "      (embeddings): BertEmbeddings(\n",
      "        (word_embeddings): Embedding(119547, 768, padding_idx=0)\n",
      "        (position_embeddings): Embedding(512, 768)\n",
      "        (token_type_embeddings): Embedding(2, 768)\n",
      "        (LayerNorm): LayerNorm((768,), eps=1e-12, elementwise_affine=True)\n",
      "        (dropout): Dropout(p=0.1, inplace=False)\n",
      "      )\n",
      "      (encoder): BertEncoder(\n",
      "        (layer): ModuleList(\n",
      "          (0-11): 12 x BertLayer(\n",
      "            (attention): BertAttention(\n",
      "              (self): BertSelfAttention(\n",
      "                (query): Linear(in_features=768, out_features=768, bias=True)\n",
      "                (key): Linear(in_features=768, out_features=768, bias=True)\n",
      "                (value): Linear(in_features=768, out_features=768, bias=True)\n",
      "                (dropout): Dropout(p=0.1, inplace=False)\n",
      "              )\n",
      "              (output): BertSelfOutput(\n",
      "                (dense): Linear(in_features=768, out_features=768, bias=True)\n",
      "                (LayerNorm): LayerNorm((768,), eps=1e-12, elementwise_affine=True)\n",
      "                (dropout): Dropout(p=0.1, inplace=False)\n",
      "              )\n",
      "            )\n",
      "            (intermediate): BertIntermediate(\n",
      "              (dense): Linear(in_features=768, out_features=3072, bias=True)\n",
      "              (intermediate_act_fn): GELUActivation()\n",
      "            )\n",
      "            (output): BertOutput(\n",
      "              (dense): Linear(in_features=3072, out_features=768, bias=True)\n",
      "              (LayerNorm): LayerNorm((768,), eps=1e-12, elementwise_affine=True)\n",
      "              (dropout): Dropout(p=0.1, inplace=False)\n",
      "            )\n",
      "          )\n",
      "        )\n",
      "      )\n",
      "      (pooler): BertPooler(\n",
      "        (dense): Linear(in_features=768, out_features=768, bias=True)\n",
      "        (activation): Tanh()\n",
      "      )\n",
      "    )\n",
      "    (dropout): Dropout(p=0.1, inplace=False)\n",
      "    (classifier): Identity()\n",
      "  )\n",
      "  (fc1): Linear(in_features=768, out_features=768, bias=True)\n",
      "  (fc2): Linear(in_features=768, out_features=768, bias=True)\n",
      "  (fc3): Linear(in_features=768, out_features=768, bias=True)\n",
      "  (dropout): Dropout(p=0.25, inplace=False)\n",
      "  (output_layer): Linear(in_features=768, out_features=6, bias=True)\n",
      ")\n"
     ]
    }
   ],
   "source": [
    "print(torch_model)"
   ]
  },
  {
   "cell_type": "code",
   "execution_count": 27,
   "metadata": {},
   "outputs": [
    {
     "ename": "RuntimeError",
     "evalue": "Expected tensor for argument #1 'indices' to have one of the following scalar types: Long, Int; but got torch.FloatTensor instead (while checking arguments for embedding)",
     "output_type": "error",
     "traceback": [
      "\u001b[1;31m---------------------------------------------------------------------------\u001b[0m",
      "\u001b[1;31mRuntimeError\u001b[0m                              Traceback (most recent call last)",
      "Cell \u001b[1;32mIn[27], line 1\u001b[0m\n\u001b[1;32m----> 1\u001b[0m \u001b[43msummary\u001b[49m\u001b[43m(\u001b[49m\u001b[43mtorch_model\u001b[49m\u001b[43m,\u001b[49m\u001b[43m \u001b[49m\u001b[43minput_size\u001b[49m\u001b[38;5;241;43m=\u001b[39;49m\u001b[43m(\u001b[49m\u001b[38;5;241;43m512\u001b[39;49m\u001b[43m,\u001b[49m\u001b[43m)\u001b[49m\u001b[43m)\u001b[49m\n",
      "File \u001b[1;32mc:\\Users\\frbre\\OneDrive\\01 Dokumenter\\01 Uni\\SDS Thesis\\venv\\Lib\\site-packages\\torchsummary\\torchsummary.py:72\u001b[0m, in \u001b[0;36msummary\u001b[1;34m(model, input_size, batch_size, device)\u001b[0m\n\u001b[0;32m     68\u001b[0m model\u001b[38;5;241m.\u001b[39mapply(register_hook)\n\u001b[0;32m     70\u001b[0m \u001b[38;5;66;03m# make a forward pass\u001b[39;00m\n\u001b[0;32m     71\u001b[0m \u001b[38;5;66;03m# print(x.shape)\u001b[39;00m\n\u001b[1;32m---> 72\u001b[0m \u001b[43mmodel\u001b[49m\u001b[43m(\u001b[49m\u001b[38;5;241;43m*\u001b[39;49m\u001b[43mx\u001b[49m\u001b[43m)\u001b[49m\n\u001b[0;32m     74\u001b[0m \u001b[38;5;66;03m# remove these hooks\u001b[39;00m\n\u001b[0;32m     75\u001b[0m \u001b[38;5;28;01mfor\u001b[39;00m h \u001b[38;5;129;01min\u001b[39;00m hooks:\n",
      "File \u001b[1;32mc:\\Users\\frbre\\OneDrive\\01 Dokumenter\\01 Uni\\SDS Thesis\\venv\\Lib\\site-packages\\torch\\nn\\modules\\module.py:1518\u001b[0m, in \u001b[0;36mModule._wrapped_call_impl\u001b[1;34m(self, *args, **kwargs)\u001b[0m\n\u001b[0;32m   1516\u001b[0m     \u001b[38;5;28;01mreturn\u001b[39;00m \u001b[38;5;28mself\u001b[39m\u001b[38;5;241m.\u001b[39m_compiled_call_impl(\u001b[38;5;241m*\u001b[39margs, \u001b[38;5;241m*\u001b[39m\u001b[38;5;241m*\u001b[39mkwargs)  \u001b[38;5;66;03m# type: ignore[misc]\u001b[39;00m\n\u001b[0;32m   1517\u001b[0m \u001b[38;5;28;01melse\u001b[39;00m:\n\u001b[1;32m-> 1518\u001b[0m     \u001b[38;5;28;01mreturn\u001b[39;00m \u001b[38;5;28;43mself\u001b[39;49m\u001b[38;5;241;43m.\u001b[39;49m\u001b[43m_call_impl\u001b[49m\u001b[43m(\u001b[49m\u001b[38;5;241;43m*\u001b[39;49m\u001b[43margs\u001b[49m\u001b[43m,\u001b[49m\u001b[43m \u001b[49m\u001b[38;5;241;43m*\u001b[39;49m\u001b[38;5;241;43m*\u001b[39;49m\u001b[43mkwargs\u001b[49m\u001b[43m)\u001b[49m\n",
      "File \u001b[1;32mc:\\Users\\frbre\\OneDrive\\01 Dokumenter\\01 Uni\\SDS Thesis\\venv\\Lib\\site-packages\\torch\\nn\\modules\\module.py:1527\u001b[0m, in \u001b[0;36mModule._call_impl\u001b[1;34m(self, *args, **kwargs)\u001b[0m\n\u001b[0;32m   1522\u001b[0m \u001b[38;5;66;03m# If we don't have any hooks, we want to skip the rest of the logic in\u001b[39;00m\n\u001b[0;32m   1523\u001b[0m \u001b[38;5;66;03m# this function, and just call forward.\u001b[39;00m\n\u001b[0;32m   1524\u001b[0m \u001b[38;5;28;01mif\u001b[39;00m \u001b[38;5;129;01mnot\u001b[39;00m (\u001b[38;5;28mself\u001b[39m\u001b[38;5;241m.\u001b[39m_backward_hooks \u001b[38;5;129;01mor\u001b[39;00m \u001b[38;5;28mself\u001b[39m\u001b[38;5;241m.\u001b[39m_backward_pre_hooks \u001b[38;5;129;01mor\u001b[39;00m \u001b[38;5;28mself\u001b[39m\u001b[38;5;241m.\u001b[39m_forward_hooks \u001b[38;5;129;01mor\u001b[39;00m \u001b[38;5;28mself\u001b[39m\u001b[38;5;241m.\u001b[39m_forward_pre_hooks\n\u001b[0;32m   1525\u001b[0m         \u001b[38;5;129;01mor\u001b[39;00m _global_backward_pre_hooks \u001b[38;5;129;01mor\u001b[39;00m _global_backward_hooks\n\u001b[0;32m   1526\u001b[0m         \u001b[38;5;129;01mor\u001b[39;00m _global_forward_hooks \u001b[38;5;129;01mor\u001b[39;00m _global_forward_pre_hooks):\n\u001b[1;32m-> 1527\u001b[0m     \u001b[38;5;28;01mreturn\u001b[39;00m \u001b[43mforward_call\u001b[49m\u001b[43m(\u001b[49m\u001b[38;5;241;43m*\u001b[39;49m\u001b[43margs\u001b[49m\u001b[43m,\u001b[49m\u001b[43m \u001b[49m\u001b[38;5;241;43m*\u001b[39;49m\u001b[38;5;241;43m*\u001b[39;49m\u001b[43mkwargs\u001b[49m\u001b[43m)\u001b[49m\n\u001b[0;32m   1529\u001b[0m \u001b[38;5;28;01mtry\u001b[39;00m:\n\u001b[0;32m   1530\u001b[0m     result \u001b[38;5;241m=\u001b[39m \u001b[38;5;28;01mNone\u001b[39;00m\n",
      "File \u001b[1;32mc:\\Users\\frbre\\OneDrive\\01 Dokumenter\\01 Uni\\SDS Thesis\\src\\utils\\model.py:99\u001b[0m, in \u001b[0;36mBERTTorch.forward\u001b[1;34m(self, inputs, attention_mask)\u001b[0m\n\u001b[0;32m     97\u001b[0m \u001b[38;5;28;01mdef\u001b[39;00m \u001b[38;5;21mforward\u001b[39m(\u001b[38;5;28mself\u001b[39m, inputs, attention_mask\u001b[38;5;241m=\u001b[39m\u001b[38;5;28;01mNone\u001b[39;00m):\n\u001b[0;32m     98\u001b[0m     \u001b[38;5;66;03m# BERT model\u001b[39;00m\n\u001b[1;32m---> 99\u001b[0m     bert_output \u001b[38;5;241m=\u001b[39m \u001b[38;5;28;43mself\u001b[39;49m\u001b[38;5;241;43m.\u001b[39;49m\u001b[43mbert\u001b[49m\u001b[43m(\u001b[49m\u001b[43minputs\u001b[49m\u001b[43m,\u001b[49m\u001b[43m \u001b[49m\u001b[43mattention_mask\u001b[49m\u001b[38;5;241;43m=\u001b[39;49m\u001b[43mattention_mask\u001b[49m\u001b[43m)\u001b[49m\n\u001b[0;32m    101\u001b[0m     \u001b[38;5;66;03m# Intermediate layers\u001b[39;00m\n\u001b[0;32m    102\u001b[0m     fc1_output \u001b[38;5;241m=\u001b[39m \u001b[38;5;28mself\u001b[39m\u001b[38;5;241m.\u001b[39mfc1(bert_output)\n",
      "File \u001b[1;32mc:\\Users\\frbre\\OneDrive\\01 Dokumenter\\01 Uni\\SDS Thesis\\venv\\Lib\\site-packages\\torch\\nn\\modules\\module.py:1518\u001b[0m, in \u001b[0;36mModule._wrapped_call_impl\u001b[1;34m(self, *args, **kwargs)\u001b[0m\n\u001b[0;32m   1516\u001b[0m     \u001b[38;5;28;01mreturn\u001b[39;00m \u001b[38;5;28mself\u001b[39m\u001b[38;5;241m.\u001b[39m_compiled_call_impl(\u001b[38;5;241m*\u001b[39margs, \u001b[38;5;241m*\u001b[39m\u001b[38;5;241m*\u001b[39mkwargs)  \u001b[38;5;66;03m# type: ignore[misc]\u001b[39;00m\n\u001b[0;32m   1517\u001b[0m \u001b[38;5;28;01melse\u001b[39;00m:\n\u001b[1;32m-> 1518\u001b[0m     \u001b[38;5;28;01mreturn\u001b[39;00m \u001b[38;5;28;43mself\u001b[39;49m\u001b[38;5;241;43m.\u001b[39;49m\u001b[43m_call_impl\u001b[49m\u001b[43m(\u001b[49m\u001b[38;5;241;43m*\u001b[39;49m\u001b[43margs\u001b[49m\u001b[43m,\u001b[49m\u001b[43m \u001b[49m\u001b[38;5;241;43m*\u001b[39;49m\u001b[38;5;241;43m*\u001b[39;49m\u001b[43mkwargs\u001b[49m\u001b[43m)\u001b[49m\n",
      "File \u001b[1;32mc:\\Users\\frbre\\OneDrive\\01 Dokumenter\\01 Uni\\SDS Thesis\\venv\\Lib\\site-packages\\torch\\nn\\modules\\module.py:1568\u001b[0m, in \u001b[0;36mModule._call_impl\u001b[1;34m(self, *args, **kwargs)\u001b[0m\n\u001b[0;32m   1565\u001b[0m     bw_hook \u001b[38;5;241m=\u001b[39m hooks\u001b[38;5;241m.\u001b[39mBackwardHook(\u001b[38;5;28mself\u001b[39m, full_backward_hooks, backward_pre_hooks)\n\u001b[0;32m   1566\u001b[0m     args \u001b[38;5;241m=\u001b[39m bw_hook\u001b[38;5;241m.\u001b[39msetup_input_hook(args)\n\u001b[1;32m-> 1568\u001b[0m result \u001b[38;5;241m=\u001b[39m \u001b[43mforward_call\u001b[49m\u001b[43m(\u001b[49m\u001b[38;5;241;43m*\u001b[39;49m\u001b[43margs\u001b[49m\u001b[43m,\u001b[49m\u001b[43m \u001b[49m\u001b[38;5;241;43m*\u001b[39;49m\u001b[38;5;241;43m*\u001b[39;49m\u001b[43mkwargs\u001b[49m\u001b[43m)\u001b[49m\n\u001b[0;32m   1569\u001b[0m \u001b[38;5;28;01mif\u001b[39;00m _global_forward_hooks \u001b[38;5;129;01mor\u001b[39;00m \u001b[38;5;28mself\u001b[39m\u001b[38;5;241m.\u001b[39m_forward_hooks:\n\u001b[0;32m   1570\u001b[0m     \u001b[38;5;28;01mfor\u001b[39;00m hook_id, hook \u001b[38;5;129;01min\u001b[39;00m (\n\u001b[0;32m   1571\u001b[0m         \u001b[38;5;241m*\u001b[39m_global_forward_hooks\u001b[38;5;241m.\u001b[39mitems(),\n\u001b[0;32m   1572\u001b[0m         \u001b[38;5;241m*\u001b[39m\u001b[38;5;28mself\u001b[39m\u001b[38;5;241m.\u001b[39m_forward_hooks\u001b[38;5;241m.\u001b[39mitems(),\n\u001b[0;32m   1573\u001b[0m     ):\n\u001b[0;32m   1574\u001b[0m         \u001b[38;5;66;03m# mark that always called hook is run\u001b[39;00m\n",
      "File \u001b[1;32mc:\\Users\\frbre\\OneDrive\\01 Dokumenter\\01 Uni\\SDS Thesis\\venv\\Lib\\site-packages\\transformers\\models\\bert\\modeling_bert.py:1564\u001b[0m, in \u001b[0;36mBertForSequenceClassification.forward\u001b[1;34m(self, input_ids, attention_mask, token_type_ids, position_ids, head_mask, inputs_embeds, labels, output_attentions, output_hidden_states, return_dict)\u001b[0m\n\u001b[0;32m   1556\u001b[0m \u001b[38;5;250m\u001b[39m\u001b[38;5;124mr\u001b[39m\u001b[38;5;124;03m\"\"\"\u001b[39;00m\n\u001b[0;32m   1557\u001b[0m \u001b[38;5;124;03mlabels (`torch.LongTensor` of shape `(batch_size,)`, *optional*):\u001b[39;00m\n\u001b[0;32m   1558\u001b[0m \u001b[38;5;124;03m    Labels for computing the sequence classification/regression loss. Indices should be in `[0, ...,\u001b[39;00m\n\u001b[0;32m   1559\u001b[0m \u001b[38;5;124;03m    config.num_labels - 1]`. If `config.num_labels == 1` a regression loss is computed (Mean-Square loss), If\u001b[39;00m\n\u001b[0;32m   1560\u001b[0m \u001b[38;5;124;03m    `config.num_labels > 1` a classification loss is computed (Cross-Entropy).\u001b[39;00m\n\u001b[0;32m   1561\u001b[0m \u001b[38;5;124;03m\"\"\"\u001b[39;00m\n\u001b[0;32m   1562\u001b[0m return_dict \u001b[38;5;241m=\u001b[39m return_dict \u001b[38;5;28;01mif\u001b[39;00m return_dict \u001b[38;5;129;01mis\u001b[39;00m \u001b[38;5;129;01mnot\u001b[39;00m \u001b[38;5;28;01mNone\u001b[39;00m \u001b[38;5;28;01melse\u001b[39;00m \u001b[38;5;28mself\u001b[39m\u001b[38;5;241m.\u001b[39mconfig\u001b[38;5;241m.\u001b[39muse_return_dict\n\u001b[1;32m-> 1564\u001b[0m outputs \u001b[38;5;241m=\u001b[39m \u001b[38;5;28;43mself\u001b[39;49m\u001b[38;5;241;43m.\u001b[39;49m\u001b[43mbert\u001b[49m\u001b[43m(\u001b[49m\n\u001b[0;32m   1565\u001b[0m \u001b[43m    \u001b[49m\u001b[43minput_ids\u001b[49m\u001b[43m,\u001b[49m\n\u001b[0;32m   1566\u001b[0m \u001b[43m    \u001b[49m\u001b[43mattention_mask\u001b[49m\u001b[38;5;241;43m=\u001b[39;49m\u001b[43mattention_mask\u001b[49m\u001b[43m,\u001b[49m\n\u001b[0;32m   1567\u001b[0m \u001b[43m    \u001b[49m\u001b[43mtoken_type_ids\u001b[49m\u001b[38;5;241;43m=\u001b[39;49m\u001b[43mtoken_type_ids\u001b[49m\u001b[43m,\u001b[49m\n\u001b[0;32m   1568\u001b[0m \u001b[43m    \u001b[49m\u001b[43mposition_ids\u001b[49m\u001b[38;5;241;43m=\u001b[39;49m\u001b[43mposition_ids\u001b[49m\u001b[43m,\u001b[49m\n\u001b[0;32m   1569\u001b[0m \u001b[43m    \u001b[49m\u001b[43mhead_mask\u001b[49m\u001b[38;5;241;43m=\u001b[39;49m\u001b[43mhead_mask\u001b[49m\u001b[43m,\u001b[49m\n\u001b[0;32m   1570\u001b[0m \u001b[43m    \u001b[49m\u001b[43minputs_embeds\u001b[49m\u001b[38;5;241;43m=\u001b[39;49m\u001b[43minputs_embeds\u001b[49m\u001b[43m,\u001b[49m\n\u001b[0;32m   1571\u001b[0m \u001b[43m    \u001b[49m\u001b[43moutput_attentions\u001b[49m\u001b[38;5;241;43m=\u001b[39;49m\u001b[43moutput_attentions\u001b[49m\u001b[43m,\u001b[49m\n\u001b[0;32m   1572\u001b[0m \u001b[43m    \u001b[49m\u001b[43moutput_hidden_states\u001b[49m\u001b[38;5;241;43m=\u001b[39;49m\u001b[43moutput_hidden_states\u001b[49m\u001b[43m,\u001b[49m\n\u001b[0;32m   1573\u001b[0m \u001b[43m    \u001b[49m\u001b[43mreturn_dict\u001b[49m\u001b[38;5;241;43m=\u001b[39;49m\u001b[43mreturn_dict\u001b[49m\u001b[43m,\u001b[49m\n\u001b[0;32m   1574\u001b[0m \u001b[43m\u001b[49m\u001b[43m)\u001b[49m\n\u001b[0;32m   1576\u001b[0m pooled_output \u001b[38;5;241m=\u001b[39m outputs[\u001b[38;5;241m1\u001b[39m]\n\u001b[0;32m   1578\u001b[0m pooled_output \u001b[38;5;241m=\u001b[39m \u001b[38;5;28mself\u001b[39m\u001b[38;5;241m.\u001b[39mdropout(pooled_output)\n",
      "File \u001b[1;32mc:\\Users\\frbre\\OneDrive\\01 Dokumenter\\01 Uni\\SDS Thesis\\venv\\Lib\\site-packages\\torch\\nn\\modules\\module.py:1518\u001b[0m, in \u001b[0;36mModule._wrapped_call_impl\u001b[1;34m(self, *args, **kwargs)\u001b[0m\n\u001b[0;32m   1516\u001b[0m     \u001b[38;5;28;01mreturn\u001b[39;00m \u001b[38;5;28mself\u001b[39m\u001b[38;5;241m.\u001b[39m_compiled_call_impl(\u001b[38;5;241m*\u001b[39margs, \u001b[38;5;241m*\u001b[39m\u001b[38;5;241m*\u001b[39mkwargs)  \u001b[38;5;66;03m# type: ignore[misc]\u001b[39;00m\n\u001b[0;32m   1517\u001b[0m \u001b[38;5;28;01melse\u001b[39;00m:\n\u001b[1;32m-> 1518\u001b[0m     \u001b[38;5;28;01mreturn\u001b[39;00m \u001b[38;5;28;43mself\u001b[39;49m\u001b[38;5;241;43m.\u001b[39;49m\u001b[43m_call_impl\u001b[49m\u001b[43m(\u001b[49m\u001b[38;5;241;43m*\u001b[39;49m\u001b[43margs\u001b[49m\u001b[43m,\u001b[49m\u001b[43m \u001b[49m\u001b[38;5;241;43m*\u001b[39;49m\u001b[38;5;241;43m*\u001b[39;49m\u001b[43mkwargs\u001b[49m\u001b[43m)\u001b[49m\n",
      "File \u001b[1;32mc:\\Users\\frbre\\OneDrive\\01 Dokumenter\\01 Uni\\SDS Thesis\\venv\\Lib\\site-packages\\torch\\nn\\modules\\module.py:1568\u001b[0m, in \u001b[0;36mModule._call_impl\u001b[1;34m(self, *args, **kwargs)\u001b[0m\n\u001b[0;32m   1565\u001b[0m     bw_hook \u001b[38;5;241m=\u001b[39m hooks\u001b[38;5;241m.\u001b[39mBackwardHook(\u001b[38;5;28mself\u001b[39m, full_backward_hooks, backward_pre_hooks)\n\u001b[0;32m   1566\u001b[0m     args \u001b[38;5;241m=\u001b[39m bw_hook\u001b[38;5;241m.\u001b[39msetup_input_hook(args)\n\u001b[1;32m-> 1568\u001b[0m result \u001b[38;5;241m=\u001b[39m \u001b[43mforward_call\u001b[49m\u001b[43m(\u001b[49m\u001b[38;5;241;43m*\u001b[39;49m\u001b[43margs\u001b[49m\u001b[43m,\u001b[49m\u001b[43m \u001b[49m\u001b[38;5;241;43m*\u001b[39;49m\u001b[38;5;241;43m*\u001b[39;49m\u001b[43mkwargs\u001b[49m\u001b[43m)\u001b[49m\n\u001b[0;32m   1569\u001b[0m \u001b[38;5;28;01mif\u001b[39;00m _global_forward_hooks \u001b[38;5;129;01mor\u001b[39;00m \u001b[38;5;28mself\u001b[39m\u001b[38;5;241m.\u001b[39m_forward_hooks:\n\u001b[0;32m   1570\u001b[0m     \u001b[38;5;28;01mfor\u001b[39;00m hook_id, hook \u001b[38;5;129;01min\u001b[39;00m (\n\u001b[0;32m   1571\u001b[0m         \u001b[38;5;241m*\u001b[39m_global_forward_hooks\u001b[38;5;241m.\u001b[39mitems(),\n\u001b[0;32m   1572\u001b[0m         \u001b[38;5;241m*\u001b[39m\u001b[38;5;28mself\u001b[39m\u001b[38;5;241m.\u001b[39m_forward_hooks\u001b[38;5;241m.\u001b[39mitems(),\n\u001b[0;32m   1573\u001b[0m     ):\n\u001b[0;32m   1574\u001b[0m         \u001b[38;5;66;03m# mark that always called hook is run\u001b[39;00m\n",
      "File \u001b[1;32mc:\\Users\\frbre\\OneDrive\\01 Dokumenter\\01 Uni\\SDS Thesis\\venv\\Lib\\site-packages\\transformers\\models\\bert\\modeling_bert.py:1006\u001b[0m, in \u001b[0;36mBertModel.forward\u001b[1;34m(self, input_ids, attention_mask, token_type_ids, position_ids, head_mask, inputs_embeds, encoder_hidden_states, encoder_attention_mask, past_key_values, use_cache, output_attentions, output_hidden_states, return_dict)\u001b[0m\n\u001b[0;32m    999\u001b[0m \u001b[38;5;66;03m# Prepare head mask if needed\u001b[39;00m\n\u001b[0;32m   1000\u001b[0m \u001b[38;5;66;03m# 1.0 in head_mask indicate we keep the head\u001b[39;00m\n\u001b[0;32m   1001\u001b[0m \u001b[38;5;66;03m# attention_probs has shape bsz x n_heads x N x N\u001b[39;00m\n\u001b[0;32m   1002\u001b[0m \u001b[38;5;66;03m# input head_mask has shape [num_heads] or [num_hidden_layers x num_heads]\u001b[39;00m\n\u001b[0;32m   1003\u001b[0m \u001b[38;5;66;03m# and head_mask is converted to shape [num_hidden_layers x batch x num_heads x seq_length x seq_length]\u001b[39;00m\n\u001b[0;32m   1004\u001b[0m head_mask \u001b[38;5;241m=\u001b[39m \u001b[38;5;28mself\u001b[39m\u001b[38;5;241m.\u001b[39mget_head_mask(head_mask, \u001b[38;5;28mself\u001b[39m\u001b[38;5;241m.\u001b[39mconfig\u001b[38;5;241m.\u001b[39mnum_hidden_layers)\n\u001b[1;32m-> 1006\u001b[0m embedding_output \u001b[38;5;241m=\u001b[39m \u001b[38;5;28;43mself\u001b[39;49m\u001b[38;5;241;43m.\u001b[39;49m\u001b[43membeddings\u001b[49m\u001b[43m(\u001b[49m\n\u001b[0;32m   1007\u001b[0m \u001b[43m    \u001b[49m\u001b[43minput_ids\u001b[49m\u001b[38;5;241;43m=\u001b[39;49m\u001b[43minput_ids\u001b[49m\u001b[43m,\u001b[49m\n\u001b[0;32m   1008\u001b[0m \u001b[43m    \u001b[49m\u001b[43mposition_ids\u001b[49m\u001b[38;5;241;43m=\u001b[39;49m\u001b[43mposition_ids\u001b[49m\u001b[43m,\u001b[49m\n\u001b[0;32m   1009\u001b[0m \u001b[43m    \u001b[49m\u001b[43mtoken_type_ids\u001b[49m\u001b[38;5;241;43m=\u001b[39;49m\u001b[43mtoken_type_ids\u001b[49m\u001b[43m,\u001b[49m\n\u001b[0;32m   1010\u001b[0m \u001b[43m    \u001b[49m\u001b[43minputs_embeds\u001b[49m\u001b[38;5;241;43m=\u001b[39;49m\u001b[43minputs_embeds\u001b[49m\u001b[43m,\u001b[49m\n\u001b[0;32m   1011\u001b[0m \u001b[43m    \u001b[49m\u001b[43mpast_key_values_length\u001b[49m\u001b[38;5;241;43m=\u001b[39;49m\u001b[43mpast_key_values_length\u001b[49m\u001b[43m,\u001b[49m\n\u001b[0;32m   1012\u001b[0m \u001b[43m\u001b[49m\u001b[43m)\u001b[49m\n\u001b[0;32m   1013\u001b[0m encoder_outputs \u001b[38;5;241m=\u001b[39m \u001b[38;5;28mself\u001b[39m\u001b[38;5;241m.\u001b[39mencoder(\n\u001b[0;32m   1014\u001b[0m     embedding_output,\n\u001b[0;32m   1015\u001b[0m     attention_mask\u001b[38;5;241m=\u001b[39mextended_attention_mask,\n\u001b[1;32m   (...)\u001b[0m\n\u001b[0;32m   1023\u001b[0m     return_dict\u001b[38;5;241m=\u001b[39mreturn_dict,\n\u001b[0;32m   1024\u001b[0m )\n\u001b[0;32m   1025\u001b[0m sequence_output \u001b[38;5;241m=\u001b[39m encoder_outputs[\u001b[38;5;241m0\u001b[39m]\n",
      "File \u001b[1;32mc:\\Users\\frbre\\OneDrive\\01 Dokumenter\\01 Uni\\SDS Thesis\\venv\\Lib\\site-packages\\torch\\nn\\modules\\module.py:1518\u001b[0m, in \u001b[0;36mModule._wrapped_call_impl\u001b[1;34m(self, *args, **kwargs)\u001b[0m\n\u001b[0;32m   1516\u001b[0m     \u001b[38;5;28;01mreturn\u001b[39;00m \u001b[38;5;28mself\u001b[39m\u001b[38;5;241m.\u001b[39m_compiled_call_impl(\u001b[38;5;241m*\u001b[39margs, \u001b[38;5;241m*\u001b[39m\u001b[38;5;241m*\u001b[39mkwargs)  \u001b[38;5;66;03m# type: ignore[misc]\u001b[39;00m\n\u001b[0;32m   1517\u001b[0m \u001b[38;5;28;01melse\u001b[39;00m:\n\u001b[1;32m-> 1518\u001b[0m     \u001b[38;5;28;01mreturn\u001b[39;00m \u001b[38;5;28;43mself\u001b[39;49m\u001b[38;5;241;43m.\u001b[39;49m\u001b[43m_call_impl\u001b[49m\u001b[43m(\u001b[49m\u001b[38;5;241;43m*\u001b[39;49m\u001b[43margs\u001b[49m\u001b[43m,\u001b[49m\u001b[43m \u001b[49m\u001b[38;5;241;43m*\u001b[39;49m\u001b[38;5;241;43m*\u001b[39;49m\u001b[43mkwargs\u001b[49m\u001b[43m)\u001b[49m\n",
      "File \u001b[1;32mc:\\Users\\frbre\\OneDrive\\01 Dokumenter\\01 Uni\\SDS Thesis\\venv\\Lib\\site-packages\\torch\\nn\\modules\\module.py:1568\u001b[0m, in \u001b[0;36mModule._call_impl\u001b[1;34m(self, *args, **kwargs)\u001b[0m\n\u001b[0;32m   1565\u001b[0m     bw_hook \u001b[38;5;241m=\u001b[39m hooks\u001b[38;5;241m.\u001b[39mBackwardHook(\u001b[38;5;28mself\u001b[39m, full_backward_hooks, backward_pre_hooks)\n\u001b[0;32m   1566\u001b[0m     args \u001b[38;5;241m=\u001b[39m bw_hook\u001b[38;5;241m.\u001b[39msetup_input_hook(args)\n\u001b[1;32m-> 1568\u001b[0m result \u001b[38;5;241m=\u001b[39m \u001b[43mforward_call\u001b[49m\u001b[43m(\u001b[49m\u001b[38;5;241;43m*\u001b[39;49m\u001b[43margs\u001b[49m\u001b[43m,\u001b[49m\u001b[43m \u001b[49m\u001b[38;5;241;43m*\u001b[39;49m\u001b[38;5;241;43m*\u001b[39;49m\u001b[43mkwargs\u001b[49m\u001b[43m)\u001b[49m\n\u001b[0;32m   1569\u001b[0m \u001b[38;5;28;01mif\u001b[39;00m _global_forward_hooks \u001b[38;5;129;01mor\u001b[39;00m \u001b[38;5;28mself\u001b[39m\u001b[38;5;241m.\u001b[39m_forward_hooks:\n\u001b[0;32m   1570\u001b[0m     \u001b[38;5;28;01mfor\u001b[39;00m hook_id, hook \u001b[38;5;129;01min\u001b[39;00m (\n\u001b[0;32m   1571\u001b[0m         \u001b[38;5;241m*\u001b[39m_global_forward_hooks\u001b[38;5;241m.\u001b[39mitems(),\n\u001b[0;32m   1572\u001b[0m         \u001b[38;5;241m*\u001b[39m\u001b[38;5;28mself\u001b[39m\u001b[38;5;241m.\u001b[39m_forward_hooks\u001b[38;5;241m.\u001b[39mitems(),\n\u001b[0;32m   1573\u001b[0m     ):\n\u001b[0;32m   1574\u001b[0m         \u001b[38;5;66;03m# mark that always called hook is run\u001b[39;00m\n",
      "File \u001b[1;32mc:\\Users\\frbre\\OneDrive\\01 Dokumenter\\01 Uni\\SDS Thesis\\venv\\Lib\\site-packages\\transformers\\models\\bert\\modeling_bert.py:232\u001b[0m, in \u001b[0;36mBertEmbeddings.forward\u001b[1;34m(self, input_ids, token_type_ids, position_ids, inputs_embeds, past_key_values_length)\u001b[0m\n\u001b[0;32m    229\u001b[0m         token_type_ids \u001b[38;5;241m=\u001b[39m torch\u001b[38;5;241m.\u001b[39mzeros(input_shape, dtype\u001b[38;5;241m=\u001b[39mtorch\u001b[38;5;241m.\u001b[39mlong, device\u001b[38;5;241m=\u001b[39m\u001b[38;5;28mself\u001b[39m\u001b[38;5;241m.\u001b[39mposition_ids\u001b[38;5;241m.\u001b[39mdevice)\n\u001b[0;32m    231\u001b[0m \u001b[38;5;28;01mif\u001b[39;00m inputs_embeds \u001b[38;5;129;01mis\u001b[39;00m \u001b[38;5;28;01mNone\u001b[39;00m:\n\u001b[1;32m--> 232\u001b[0m     inputs_embeds \u001b[38;5;241m=\u001b[39m \u001b[38;5;28;43mself\u001b[39;49m\u001b[38;5;241;43m.\u001b[39;49m\u001b[43mword_embeddings\u001b[49m\u001b[43m(\u001b[49m\u001b[43minput_ids\u001b[49m\u001b[43m)\u001b[49m\n\u001b[0;32m    233\u001b[0m token_type_embeddings \u001b[38;5;241m=\u001b[39m \u001b[38;5;28mself\u001b[39m\u001b[38;5;241m.\u001b[39mtoken_type_embeddings(token_type_ids)\n\u001b[0;32m    235\u001b[0m embeddings \u001b[38;5;241m=\u001b[39m inputs_embeds \u001b[38;5;241m+\u001b[39m token_type_embeddings\n",
      "File \u001b[1;32mc:\\Users\\frbre\\OneDrive\\01 Dokumenter\\01 Uni\\SDS Thesis\\venv\\Lib\\site-packages\\torch\\nn\\modules\\module.py:1518\u001b[0m, in \u001b[0;36mModule._wrapped_call_impl\u001b[1;34m(self, *args, **kwargs)\u001b[0m\n\u001b[0;32m   1516\u001b[0m     \u001b[38;5;28;01mreturn\u001b[39;00m \u001b[38;5;28mself\u001b[39m\u001b[38;5;241m.\u001b[39m_compiled_call_impl(\u001b[38;5;241m*\u001b[39margs, \u001b[38;5;241m*\u001b[39m\u001b[38;5;241m*\u001b[39mkwargs)  \u001b[38;5;66;03m# type: ignore[misc]\u001b[39;00m\n\u001b[0;32m   1517\u001b[0m \u001b[38;5;28;01melse\u001b[39;00m:\n\u001b[1;32m-> 1518\u001b[0m     \u001b[38;5;28;01mreturn\u001b[39;00m \u001b[38;5;28;43mself\u001b[39;49m\u001b[38;5;241;43m.\u001b[39;49m\u001b[43m_call_impl\u001b[49m\u001b[43m(\u001b[49m\u001b[38;5;241;43m*\u001b[39;49m\u001b[43margs\u001b[49m\u001b[43m,\u001b[49m\u001b[43m \u001b[49m\u001b[38;5;241;43m*\u001b[39;49m\u001b[38;5;241;43m*\u001b[39;49m\u001b[43mkwargs\u001b[49m\u001b[43m)\u001b[49m\n",
      "File \u001b[1;32mc:\\Users\\frbre\\OneDrive\\01 Dokumenter\\01 Uni\\SDS Thesis\\venv\\Lib\\site-packages\\torch\\nn\\modules\\module.py:1568\u001b[0m, in \u001b[0;36mModule._call_impl\u001b[1;34m(self, *args, **kwargs)\u001b[0m\n\u001b[0;32m   1565\u001b[0m     bw_hook \u001b[38;5;241m=\u001b[39m hooks\u001b[38;5;241m.\u001b[39mBackwardHook(\u001b[38;5;28mself\u001b[39m, full_backward_hooks, backward_pre_hooks)\n\u001b[0;32m   1566\u001b[0m     args \u001b[38;5;241m=\u001b[39m bw_hook\u001b[38;5;241m.\u001b[39msetup_input_hook(args)\n\u001b[1;32m-> 1568\u001b[0m result \u001b[38;5;241m=\u001b[39m \u001b[43mforward_call\u001b[49m\u001b[43m(\u001b[49m\u001b[38;5;241;43m*\u001b[39;49m\u001b[43margs\u001b[49m\u001b[43m,\u001b[49m\u001b[43m \u001b[49m\u001b[38;5;241;43m*\u001b[39;49m\u001b[38;5;241;43m*\u001b[39;49m\u001b[43mkwargs\u001b[49m\u001b[43m)\u001b[49m\n\u001b[0;32m   1569\u001b[0m \u001b[38;5;28;01mif\u001b[39;00m _global_forward_hooks \u001b[38;5;129;01mor\u001b[39;00m \u001b[38;5;28mself\u001b[39m\u001b[38;5;241m.\u001b[39m_forward_hooks:\n\u001b[0;32m   1570\u001b[0m     \u001b[38;5;28;01mfor\u001b[39;00m hook_id, hook \u001b[38;5;129;01min\u001b[39;00m (\n\u001b[0;32m   1571\u001b[0m         \u001b[38;5;241m*\u001b[39m_global_forward_hooks\u001b[38;5;241m.\u001b[39mitems(),\n\u001b[0;32m   1572\u001b[0m         \u001b[38;5;241m*\u001b[39m\u001b[38;5;28mself\u001b[39m\u001b[38;5;241m.\u001b[39m_forward_hooks\u001b[38;5;241m.\u001b[39mitems(),\n\u001b[0;32m   1573\u001b[0m     ):\n\u001b[0;32m   1574\u001b[0m         \u001b[38;5;66;03m# mark that always called hook is run\u001b[39;00m\n",
      "File \u001b[1;32mc:\\Users\\frbre\\OneDrive\\01 Dokumenter\\01 Uni\\SDS Thesis\\venv\\Lib\\site-packages\\torch\\nn\\modules\\sparse.py:162\u001b[0m, in \u001b[0;36mEmbedding.forward\u001b[1;34m(self, input)\u001b[0m\n\u001b[0;32m    161\u001b[0m \u001b[38;5;28;01mdef\u001b[39;00m \u001b[38;5;21mforward\u001b[39m(\u001b[38;5;28mself\u001b[39m, \u001b[38;5;28minput\u001b[39m: Tensor) \u001b[38;5;241m-\u001b[39m\u001b[38;5;241m>\u001b[39m Tensor:\n\u001b[1;32m--> 162\u001b[0m     \u001b[38;5;28;01mreturn\u001b[39;00m \u001b[43mF\u001b[49m\u001b[38;5;241;43m.\u001b[39;49m\u001b[43membedding\u001b[49m\u001b[43m(\u001b[49m\n\u001b[0;32m    163\u001b[0m \u001b[43m        \u001b[49m\u001b[38;5;28;43minput\u001b[39;49m\u001b[43m,\u001b[49m\u001b[43m \u001b[49m\u001b[38;5;28;43mself\u001b[39;49m\u001b[38;5;241;43m.\u001b[39;49m\u001b[43mweight\u001b[49m\u001b[43m,\u001b[49m\u001b[43m \u001b[49m\u001b[38;5;28;43mself\u001b[39;49m\u001b[38;5;241;43m.\u001b[39;49m\u001b[43mpadding_idx\u001b[49m\u001b[43m,\u001b[49m\u001b[43m \u001b[49m\u001b[38;5;28;43mself\u001b[39;49m\u001b[38;5;241;43m.\u001b[39;49m\u001b[43mmax_norm\u001b[49m\u001b[43m,\u001b[49m\n\u001b[0;32m    164\u001b[0m \u001b[43m        \u001b[49m\u001b[38;5;28;43mself\u001b[39;49m\u001b[38;5;241;43m.\u001b[39;49m\u001b[43mnorm_type\u001b[49m\u001b[43m,\u001b[49m\u001b[43m \u001b[49m\u001b[38;5;28;43mself\u001b[39;49m\u001b[38;5;241;43m.\u001b[39;49m\u001b[43mscale_grad_by_freq\u001b[49m\u001b[43m,\u001b[49m\u001b[43m \u001b[49m\u001b[38;5;28;43mself\u001b[39;49m\u001b[38;5;241;43m.\u001b[39;49m\u001b[43msparse\u001b[49m\u001b[43m)\u001b[49m\n",
      "File \u001b[1;32mc:\\Users\\frbre\\OneDrive\\01 Dokumenter\\01 Uni\\SDS Thesis\\venv\\Lib\\site-packages\\torch\\nn\\functional.py:2233\u001b[0m, in \u001b[0;36membedding\u001b[1;34m(input, weight, padding_idx, max_norm, norm_type, scale_grad_by_freq, sparse)\u001b[0m\n\u001b[0;32m   2227\u001b[0m     \u001b[38;5;66;03m# Note [embedding_renorm set_grad_enabled]\u001b[39;00m\n\u001b[0;32m   2228\u001b[0m     \u001b[38;5;66;03m# XXX: equivalent to\u001b[39;00m\n\u001b[0;32m   2229\u001b[0m     \u001b[38;5;66;03m# with torch.no_grad():\u001b[39;00m\n\u001b[0;32m   2230\u001b[0m     \u001b[38;5;66;03m#   torch.embedding_renorm_\u001b[39;00m\n\u001b[0;32m   2231\u001b[0m     \u001b[38;5;66;03m# remove once script supports set_grad_enabled\u001b[39;00m\n\u001b[0;32m   2232\u001b[0m     _no_grad_embedding_renorm_(weight, \u001b[38;5;28minput\u001b[39m, max_norm, norm_type)\n\u001b[1;32m-> 2233\u001b[0m \u001b[38;5;28;01mreturn\u001b[39;00m \u001b[43mtorch\u001b[49m\u001b[38;5;241;43m.\u001b[39;49m\u001b[43membedding\u001b[49m\u001b[43m(\u001b[49m\u001b[43mweight\u001b[49m\u001b[43m,\u001b[49m\u001b[43m \u001b[49m\u001b[38;5;28;43minput\u001b[39;49m\u001b[43m,\u001b[49m\u001b[43m \u001b[49m\u001b[43mpadding_idx\u001b[49m\u001b[43m,\u001b[49m\u001b[43m \u001b[49m\u001b[43mscale_grad_by_freq\u001b[49m\u001b[43m,\u001b[49m\u001b[43m \u001b[49m\u001b[43msparse\u001b[49m\u001b[43m)\u001b[49m\n",
      "\u001b[1;31mRuntimeError\u001b[0m: Expected tensor for argument #1 'indices' to have one of the following scalar types: Long, Int; but got torch.FloatTensor instead (while checking arguments for embedding)"
     ]
    }
   ],
   "source": [
    "summary(torch_model, input_size=(512,))"
   ]
  },
  {
   "cell_type": "code",
   "execution_count": 29,
   "metadata": {},
   "outputs": [],
   "source": [
    "torch_result = torch_model(train_inputs, attention_mask=train_masks)"
   ]
  },
  {
   "cell_type": "code",
   "execution_count": 30,
   "metadata": {},
   "outputs": [
    {
     "data": {
      "text/plain": [
       "torch.Size([137, 6])"
      ]
     },
     "execution_count": 30,
     "metadata": {},
     "output_type": "execute_result"
    }
   ],
   "source": [
    "torch_result.shape"
   ]
  },
  {
   "cell_type": "code",
   "execution_count": 31,
   "metadata": {},
   "outputs": [
    {
     "data": {
      "text/plain": [
       "tensor([[-2.7646e-02, -2.6870e-02, -7.1476e-02, -1.0659e-02, -3.8957e-02,\n",
       "         -1.0629e-02],\n",
       "        [-2.9158e-02, -3.4776e-02, -6.7497e-02, -2.9946e-03, -5.5752e-02,\n",
       "          4.5183e-03],\n",
       "        [-1.9398e-02,  7.4220e-02, -2.2707e-02, -1.0409e-01,  8.0605e-03,\n",
       "          4.1189e-03],\n",
       "        [-1.8792e-02, -1.2668e-02, -3.6955e-02, -2.5059e-02, -3.1904e-02,\n",
       "          6.8698e-03],\n",
       "        [-3.1812e-02, -2.6017e-02, -7.0911e-02, -1.8237e-02, -5.4177e-02,\n",
       "          4.1337e-03],\n",
       "        [-3.4315e-02, -3.4276e-02, -7.7005e-02, -4.2269e-03, -5.5922e-02,\n",
       "          1.1908e-03],\n",
       "        [-2.4618e-02, -2.3792e-02, -6.9618e-02, -2.2924e-02, -6.4531e-02,\n",
       "          7.3805e-03],\n",
       "        [-5.2771e-03, -1.2209e-02, -2.2869e-02, -1.8103e-02, -2.9415e-02,\n",
       "          6.8337e-03],\n",
       "        [-4.3654e-02, -1.3179e-02, -7.4799e-02, -2.5338e-02, -4.6718e-02,\n",
       "          1.4995e-03],\n",
       "        [-2.9003e-02, -1.5181e-02, -8.3861e-02, -2.3866e-02, -5.4250e-02,\n",
       "         -3.5599e-04],\n",
       "        [-3.3104e-02, -2.7938e-02, -6.9492e-02, -2.1004e-02, -5.7148e-02,\n",
       "          3.5710e-03],\n",
       "        [-2.8023e-02, -2.1699e-02, -7.8016e-02, -1.4125e-02, -5.3786e-02,\n",
       "         -9.3647e-04],\n",
       "        [ 1.5448e-03, -1.1219e-02, -1.3450e-02, -1.5255e-02, -2.7025e-02,\n",
       "          6.7879e-03],\n",
       "        [-1.2690e-02, -1.8919e-02, -3.5949e-02, -2.3300e-02, -3.5524e-02,\n",
       "          8.3868e-03],\n",
       "        [-3.3137e-02, -3.1931e-02, -7.8451e-02, -1.4284e-02, -5.7512e-02,\n",
       "         -7.5034e-04],\n",
       "        [-3.4150e-02, -2.8294e-02, -8.3946e-02, -1.4574e-02, -6.2434e-02,\n",
       "          6.3703e-03],\n",
       "        [-2.7295e-03, -1.7826e-02, -1.3911e-02, -1.4833e-02, -3.0739e-02,\n",
       "          7.8529e-03],\n",
       "        [-3.2679e-02, -2.2499e-02, -6.7796e-02, -1.4610e-02, -5.2045e-02,\n",
       "          4.4256e-04],\n",
       "        [-3.2519e-02, -2.7411e-02, -6.9109e-02, -2.9104e-02, -6.0636e-02,\n",
       "         -6.3280e-03],\n",
       "        [-1.2704e-03, -1.9105e-03, -9.6942e-03, -1.9420e-02, -2.6153e-02,\n",
       "          6.7690e-03],\n",
       "        [-4.2000e-02, -7.3030e-03, -7.8927e-02, -2.8683e-02, -5.1332e-02,\n",
       "         -4.5527e-03],\n",
       "        [-3.6299e-02, -1.2157e-02, -7.9532e-02, -1.9424e-02, -5.6337e-02,\n",
       "          4.2630e-03],\n",
       "        [-2.7148e-02, -2.6031e-02, -6.2052e-02, -2.7376e-02, -5.3100e-02,\n",
       "         -4.4207e-03],\n",
       "        [-3.3851e-02, -2.4199e-02, -7.7057e-02, -1.7431e-02, -5.4051e-02,\n",
       "          3.7385e-03],\n",
       "        [-6.8018e-03, -1.2437e-02, -2.5774e-02, -1.8625e-02, -2.7365e-02,\n",
       "          7.3821e-03],\n",
       "        [-2.0041e-02, -1.9407e-02, -4.9114e-02, -1.2186e-02, -3.8776e-02,\n",
       "          7.1343e-03],\n",
       "        [-2.6711e-02, -1.9522e-02, -6.7238e-02, -1.5774e-02, -5.7778e-02,\n",
       "          3.4677e-03],\n",
       "        [-1.4070e-02, -2.3154e-02, -3.4343e-02, -1.8569e-02, -3.3945e-02,\n",
       "          6.7367e-03],\n",
       "        [-1.2373e-02, -1.4948e-02, -3.7189e-02, -1.9823e-02, -3.0413e-02,\n",
       "          6.9722e-03],\n",
       "        [-1.3937e-02, -1.4566e-02, -2.6727e-02, -2.2259e-02, -2.9904e-02,\n",
       "          6.9036e-03],\n",
       "        [-3.3157e-02, -2.4444e-02, -6.6905e-02, -1.6679e-02, -5.1564e-02,\n",
       "         -7.3191e-03],\n",
       "        [-3.0034e-02, -2.8633e-02, -5.5973e-02, -1.5691e-02, -5.8893e-02,\n",
       "         -8.2374e-05],\n",
       "        [-2.3382e-02, -1.8869e-03, -5.2764e-02, -2.3766e-02, -3.7065e-02,\n",
       "         -7.8679e-03],\n",
       "        [-3.3067e-02, -2.7537e-02, -6.5785e-02, -2.4430e-02, -5.4876e-02,\n",
       "         -5.9687e-03],\n",
       "        [-4.3674e-03, -1.2493e-02, -2.3536e-02, -1.9669e-02, -2.9262e-02,\n",
       "          8.8927e-03],\n",
       "        [-3.1582e-02, -2.1304e-02, -6.7449e-02, -2.0357e-02, -5.2225e-02,\n",
       "          5.9191e-03],\n",
       "        [-2.6933e-02, -3.3443e-02, -6.9751e-02, -3.7177e-04, -5.3065e-02,\n",
       "          7.2381e-04],\n",
       "        [-4.0021e-02, -3.4371e-02, -8.0453e-02, -1.6063e-02, -5.4722e-02,\n",
       "          1.1671e-03],\n",
       "        [-8.8920e-03, -1.4709e-02, -2.8376e-02, -2.1739e-02, -3.2721e-02,\n",
       "          1.1117e-02],\n",
       "        [-3.7432e-02, -3.3993e-02, -8.1916e-02, -7.7216e-03, -5.4605e-02,\n",
       "          4.7589e-03],\n",
       "        [-2.5966e-02, -2.1833e-02, -6.5078e-02, -2.3033e-02, -3.8839e-02,\n",
       "          2.4572e-04],\n",
       "        [-2.6395e-02, -1.2727e-02, -5.5764e-02, -2.0136e-02, -4.4085e-02,\n",
       "          7.1398e-03],\n",
       "        [-6.6755e-03, -1.8835e-02, -1.6285e-02, -1.4155e-02, -3.1315e-02,\n",
       "          5.4542e-03],\n",
       "        [-2.7243e-02, -1.4254e-02, -6.8404e-02, -3.3026e-02, -3.9787e-02,\n",
       "         -5.2808e-03],\n",
       "        [-2.7304e-02, -2.3451e-02, -6.6070e-02, -2.6190e-02, -5.2236e-02,\n",
       "         -4.9606e-03],\n",
       "        [-2.0193e-02,  7.4444e-02, -1.9467e-02, -1.0860e-01,  2.5738e-03,\n",
       "          1.0487e-02],\n",
       "        [-2.6187e-02, -1.9743e-02, -6.2084e-02, -1.0722e-02, -4.5965e-02,\n",
       "         -6.1054e-03],\n",
       "        [-2.1656e-02,  7.3877e-02, -2.1066e-02, -1.0087e-01,  3.0938e-03,\n",
       "          1.1982e-03],\n",
       "        [-1.6995e-02, -1.8391e-02, -3.4435e-02, -2.2005e-02, -3.3448e-02,\n",
       "          7.2903e-03],\n",
       "        [-1.2207e-02, -1.8093e-02, -3.3855e-02, -2.1212e-02, -3.5365e-02,\n",
       "          7.6619e-03],\n",
       "        [-3.6827e-02, -1.7432e-02, -7.5277e-02, -1.8862e-02, -5.5402e-02,\n",
       "         -6.2581e-03],\n",
       "        [-2.0257e-02,  7.9981e-02, -2.1291e-02, -1.0416e-01,  1.5754e-02,\n",
       "         -2.8594e-03],\n",
       "        [-2.6729e-02, -1.2521e-02, -6.3958e-02, -1.9925e-02, -4.7636e-02,\n",
       "         -2.0053e-05],\n",
       "        [-2.1068e-02, -2.2571e-03, -7.0905e-02, -2.8932e-02, -3.5441e-02,\n",
       "         -9.5574e-03],\n",
       "        [-3.2341e-02, -3.0737e-02, -7.4159e-02, -2.0837e-02, -5.7647e-02,\n",
       "          4.3386e-04],\n",
       "        [-2.5865e-02, -1.0955e-02, -6.5266e-02, -1.7400e-02, -4.4224e-02,\n",
       "         -7.6836e-03],\n",
       "        [-3.4053e-02, -2.7822e-02, -9.1058e-02, -9.7038e-03, -6.2038e-02,\n",
       "          6.5053e-03],\n",
       "        [-2.3468e-02, -3.2567e-02, -7.4715e-02, -8.2947e-03, -6.2410e-02,\n",
       "          3.5013e-03],\n",
       "        [-9.8875e-03, -1.7384e-02, -3.1191e-02, -2.0946e-02, -3.0839e-02,\n",
       "          5.6320e-03],\n",
       "        [-3.1369e-02, -1.1270e-02, -7.7077e-02, -1.7365e-02, -5.4551e-02,\n",
       "         -1.8635e-03],\n",
       "        [-3.7820e-02, -2.4734e-02, -7.4059e-02, -1.4615e-02, -5.0243e-02,\n",
       "          2.3590e-03],\n",
       "        [-2.3059e-02, -1.5093e-02, -5.8008e-02, -1.8033e-02, -3.8930e-02,\n",
       "         -1.0236e-02],\n",
       "        [-3.2273e-02, -3.1465e-02, -5.7989e-02, -1.7415e-02, -5.2130e-02,\n",
       "         -3.3299e-03],\n",
       "        [-1.4558e-02, -1.1880e-02, -5.9837e-02, -1.3741e-02, -4.6962e-02,\n",
       "          4.3285e-03],\n",
       "        [-3.3870e-02, -2.8083e-02, -9.5422e-02, -3.1130e-03, -6.5170e-02,\n",
       "         -4.6752e-03],\n",
       "        [-3.6733e-02, -2.4109e-02, -6.4392e-02, -2.3122e-02, -4.6196e-02,\n",
       "          3.0630e-03],\n",
       "        [-4.3722e-02, -1.3837e-02, -8.1443e-02, -1.0395e-02, -5.0172e-02,\n",
       "         -1.2105e-02],\n",
       "        [-3.6771e-02, -2.0131e-02, -8.2496e-02, -1.8396e-02, -5.9373e-02,\n",
       "         -1.4110e-03],\n",
       "        [-3.0221e-02, -2.1628e-02, -8.6516e-02, -8.3551e-03, -5.7361e-02,\n",
       "          6.7770e-03],\n",
       "        [-1.4246e-05, -1.3046e-02, -1.6163e-02, -1.7978e-02, -3.0511e-02,\n",
       "          8.8483e-03],\n",
       "        [ 1.4108e-02,  1.9306e-03,  7.9147e-03, -1.3611e-02, -1.8644e-02,\n",
       "          6.8617e-03],\n",
       "        [-2.1148e-02,  7.6652e-02, -2.4662e-02, -1.0732e-01,  7.5618e-03,\n",
       "         -2.8119e-03],\n",
       "        [-1.8947e-02, -4.0810e-02, -5.6571e-02, -7.2474e-03, -6.2228e-02,\n",
       "          6.6561e-03],\n",
       "        [-2.4891e-02, -2.8350e-02, -7.5347e-02, -6.6064e-03, -4.8670e-02,\n",
       "         -7.7430e-03],\n",
       "        [-1.2157e-02, -1.9464e-02, -3.4176e-02, -1.0874e-02, -3.6293e-02,\n",
       "          7.2930e-03],\n",
       "        [-2.8472e-02, -4.1728e-02, -7.1636e-02, -8.7326e-03, -5.5101e-02,\n",
       "          4.2417e-03],\n",
       "        [-1.0316e-02, -2.5913e-02, -2.8771e-02, -1.8577e-02, -3.9129e-02,\n",
       "          1.2432e-02],\n",
       "        [-3.6847e-02, -3.5414e-02, -6.4486e-02, -1.8028e-02, -4.9588e-02,\n",
       "          7.8374e-03],\n",
       "        [-2.8935e-02, -2.0557e-02, -7.0329e-02, -1.0635e-02, -5.2144e-02,\n",
       "          4.0186e-03],\n",
       "        [-7.3833e-03, -1.9004e-02, -2.2629e-02, -1.4372e-02, -3.5123e-02,\n",
       "          8.8305e-03],\n",
       "        [-3.8752e-02, -3.0633e-02, -7.2984e-02, -3.3600e-03, -6.2379e-02,\n",
       "          6.3948e-04],\n",
       "        [-3.7932e-02, -1.6808e-02, -7.3878e-02, -9.4802e-03, -4.5178e-02,\n",
       "         -6.5504e-03],\n",
       "        [-2.3354e-02, -3.1651e-02, -6.7233e-02, -1.3695e-02, -5.4637e-02,\n",
       "          1.2508e-02],\n",
       "        [-1.5444e-02, -2.4574e-02, -3.8838e-02, -1.5678e-02, -3.9472e-02,\n",
       "          9.8528e-03],\n",
       "        [-2.7171e-02, -2.8668e-02, -6.8656e-02, -1.6607e-02, -5.6962e-02,\n",
       "          6.2615e-04],\n",
       "        [-1.5414e-02, -1.7416e-02, -3.9404e-02, -1.8919e-02, -3.5087e-02,\n",
       "          8.8470e-03],\n",
       "        [-3.8249e-02, -8.9161e-03, -8.0422e-02, -2.5299e-02, -5.0449e-02,\n",
       "         -1.1475e-02],\n",
       "        [-2.7241e-02, -1.9668e-02, -6.9225e-02, -2.2575e-02, -4.8690e-02,\n",
       "          5.6461e-03],\n",
       "        [-1.4265e-03, -1.0816e-02, -1.2683e-02, -1.6398e-02, -2.4230e-02,\n",
       "          7.2137e-03],\n",
       "        [-2.2225e-02, -3.6531e-02, -6.5152e-02, -1.2019e-02, -4.7185e-02,\n",
       "         -2.9422e-03],\n",
       "        [-1.7865e-02, -1.7536e-02, -6.4649e-02, -3.5237e-02, -4.4680e-02,\n",
       "          2.4255e-03],\n",
       "        [-2.5043e-02, -4.1141e-02, -6.1886e-02, -1.4197e-02, -5.7206e-02,\n",
       "          4.3253e-03],\n",
       "        [-2.2694e-02,  7.1810e-02, -2.3016e-02, -1.0821e-01,  1.2123e-03,\n",
       "          1.0742e-02],\n",
       "        [-3.1451e-03, -1.7177e-02, -1.3845e-02, -1.8968e-02, -2.8862e-02,\n",
       "          8.0977e-03],\n",
       "        [ 4.6076e-04, -1.2128e-02, -1.3864e-02, -1.7847e-02, -2.8750e-02,\n",
       "          8.5265e-03],\n",
       "        [-2.4888e-02,  7.0702e-02, -3.3846e-02, -1.0193e-01,  7.3042e-04,\n",
       "          3.0090e-03],\n",
       "        [-3.1804e-02, -1.7056e-02, -7.4350e-02, -2.7708e-02, -5.4319e-02,\n",
       "          2.2953e-05],\n",
       "        [-1.3300e-02,  1.7177e-02, -5.3452e-02, -3.9649e-02, -2.2824e-02,\n",
       "         -8.1597e-03],\n",
       "        [-2.8506e-02, -1.2260e-02, -6.5557e-02, -2.8256e-02, -5.1326e-02,\n",
       "         -1.4188e-03],\n",
       "        [-5.9989e-03, -8.2035e-03, -2.1233e-02, -2.2784e-02, -2.9285e-02,\n",
       "          9.3897e-03],\n",
       "        [-3.7497e-02, -6.1770e-03, -8.7787e-02, -3.4485e-02, -4.4512e-02,\n",
       "         -1.3377e-02],\n",
       "        [-3.7997e-02, -2.0398e-02, -6.4982e-02, -1.8260e-02, -4.7129e-02,\n",
       "         -2.5940e-03],\n",
       "        [-2.3808e-02, -1.8550e-02, -7.4107e-02, -1.4147e-02, -5.1779e-02,\n",
       "         -5.3497e-05],\n",
       "        [-4.0637e-02, -1.9693e-02, -6.8670e-02, -2.5047e-02, -5.7703e-02,\n",
       "         -1.7422e-03],\n",
       "        [-4.3837e-02, -3.8355e-02, -8.3431e-02, -1.2826e-02, -6.6655e-02,\n",
       "          1.3030e-03],\n",
       "        [-3.2327e-02, -2.9855e-02, -7.4261e-02, -6.3784e-03, -5.5506e-02,\n",
       "          1.6875e-03],\n",
       "        [-3.7562e-02, -1.7912e-02, -7.0824e-02, -2.2437e-02, -6.0251e-02,\n",
       "         -5.7238e-03],\n",
       "        [-1.4935e-02, -1.8466e-02, -3.8304e-02, -1.7545e-02, -3.3240e-02,\n",
       "          6.5963e-03],\n",
       "        [-2.3239e-02, -1.8407e-02, -6.0507e-02, -2.1716e-02, -5.2190e-02,\n",
       "          8.1549e-05],\n",
       "        [-1.3154e-02,  5.6575e-03, -4.6480e-02, -2.0326e-02, -2.6364e-02,\n",
       "         -7.2340e-03],\n",
       "        [-3.3749e-02, -3.3545e-02, -7.8180e-02, -1.9400e-02, -6.1392e-02,\n",
       "         -3.8432e-04],\n",
       "        [-3.1915e-02, -3.1504e-02, -9.8583e-02, -4.0054e-04, -5.5151e-02,\n",
       "         -8.8815e-03],\n",
       "        [-2.2462e-02, -1.6487e-02, -6.3129e-02, -2.4138e-02, -4.1757e-02,\n",
       "         -2.8002e-03],\n",
       "        [-2.1531e-02,  7.0815e-02, -2.1145e-02, -1.0663e-01,  1.2257e-03,\n",
       "          6.2116e-03],\n",
       "        [-9.0763e-03, -1.8346e-02, -2.3345e-02, -2.0848e-02, -3.1189e-02,\n",
       "          8.1673e-03],\n",
       "        [-1.9658e-02,  7.8841e-02, -1.8640e-02, -1.1089e-01,  1.2122e-02,\n",
       "         -5.0420e-03],\n",
       "        [-7.8563e-03, -1.5082e-02, -2.9699e-02, -1.8634e-02, -3.1751e-02,\n",
       "          5.6993e-03],\n",
       "        [-2.7341e-02, -4.7655e-02, -5.3567e-02, -2.5273e-02, -4.7167e-02,\n",
       "          6.6626e-03],\n",
       "        [-2.2523e-02, -2.2103e-02, -6.6185e-02, -2.0000e-02, -4.7322e-02,\n",
       "         -4.1553e-03],\n",
       "        [-1.1436e-02, -1.1803e-02, -3.4630e-02, -1.5057e-02, -3.0998e-02,\n",
       "          6.9081e-03],\n",
       "        [-8.2518e-03, -1.4723e-02, -2.7565e-02, -2.0385e-02, -2.9465e-02,\n",
       "          5.8345e-03],\n",
       "        [-3.4911e-02, -2.0750e-02, -7.3950e-02, -1.3978e-02, -4.6184e-02,\n",
       "         -1.7799e-03],\n",
       "        [-2.6917e-02, -3.9617e-02, -7.3451e-02,  1.3972e-03, -5.5508e-02,\n",
       "         -5.2983e-03],\n",
       "        [-6.2793e-03, -1.4062e-02, -2.3141e-02, -2.0440e-02, -2.6929e-02,\n",
       "          8.0594e-03],\n",
       "        [-7.3265e-03, -1.1858e-02, -2.8378e-02, -1.8088e-02, -2.9285e-02,\n",
       "          5.3221e-03],\n",
       "        [-3.4056e-03, -1.4690e-02, -1.8276e-02, -1.7653e-02, -3.3179e-02,\n",
       "          9.5124e-03],\n",
       "        [-7.8297e-03, -1.1143e-02, -2.7384e-02, -1.8463e-02, -2.9685e-02,\n",
       "          6.3206e-03],\n",
       "        [-3.2010e-02, -2.6152e-02, -8.5257e-02, -8.8606e-03, -5.7953e-02,\n",
       "          3.4638e-05],\n",
       "        [-2.6474e-02, -2.9174e-02, -7.3684e-02, -8.9034e-03, -5.1034e-02,\n",
       "         -9.3648e-04],\n",
       "        [-2.8301e-02, -2.4432e-02, -7.2179e-02, -1.8178e-02, -6.1987e-02,\n",
       "          1.8883e-03],\n",
       "        [-1.1871e-02, -3.2882e-02, -4.9640e-02, -1.3851e-02, -5.7697e-02,\n",
       "          9.1905e-03],\n",
       "        [-2.9729e-02, -4.2154e-02, -7.9542e-02, -1.0744e-02, -5.3930e-02,\n",
       "          2.1793e-03],\n",
       "        [-1.9193e-02,  7.5268e-02, -1.9376e-02, -1.0971e-01,  4.2839e-03,\n",
       "          7.8155e-03],\n",
       "        [-1.2738e-02, -1.8625e-02, -3.3477e-02, -2.1747e-02, -3.5240e-02,\n",
       "          8.2686e-03],\n",
       "        [-6.7831e-03, -9.2957e-03, -1.8031e-02, -2.0512e-02, -2.6201e-02,\n",
       "          4.3606e-03],\n",
       "        [-3.7164e-02, -1.3589e-02, -8.5358e-02, -1.9411e-02, -6.2133e-02,\n",
       "         -1.9894e-03],\n",
       "        [-1.7735e-02,  7.8008e-02, -2.8239e-02, -1.0288e-01,  3.2349e-03,\n",
       "         -8.6846e-04]], grad_fn=<AddmmBackward0>)"
      ]
     },
     "execution_count": 31,
     "metadata": {},
     "output_type": "execute_result"
    }
   ],
   "source": [
    "torch_result"
   ]
  }
 ],
 "metadata": {
  "kernelspec": {
   "display_name": "venv",
   "language": "python",
   "name": "python3"
  },
  "language_info": {
   "codemirror_mode": {
    "name": "ipython",
    "version": 3
   },
   "file_extension": ".py",
   "mimetype": "text/x-python",
   "name": "python",
   "nbconvert_exporter": "python",
   "pygments_lexer": "ipython3",
   "version": "3.11.7"
  }
 },
 "nbformat": 4,
 "nbformat_minor": 2
}
