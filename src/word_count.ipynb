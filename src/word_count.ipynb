{
 "cells": [
  {
   "cell_type": "code",
   "execution_count": 2,
   "metadata": {},
   "outputs": [
    {
     "name": "stderr",
     "output_type": "stream",
     "text": [
      "c:\\Users\\frbre\\OneDrive\\01 Dokumenter\\99 Arkiv\\01 Uni\\SDS Thesis\\venv\\Lib\\site-packages\\tqdm\\auto.py:21: TqdmWarning: IProgress not found. Please update jupyter and ipywidgets. See https://ipywidgets.readthedocs.io/en/stable/user_install.html\n",
      "  from .autonotebook import tqdm as notebook_tqdm\n"
     ]
    }
   ],
   "source": [
    "import os\n",
    "\n",
    "import pandas as pd\n",
    "\n",
    "from utils.preprocessing.preprocessing import csv_to_txtlist, sendto_txt"
   ]
  },
  {
   "cell_type": "code",
   "execution_count": 7,
   "metadata": {},
   "outputs": [],
   "source": [
    "# Paths\n",
    "annomi_txt = r\"E:\\PACS\\Data\\annomi.txt\"\n",
    "hope_txt = r\"E:\\PACS\\Data\\hope.txt\"\n",
    "daicwoz_txt = r\"E:\\PACS\\Data\\daic-woz.txt\""
   ]
  },
  {
   "cell_type": "code",
   "execution_count": 14,
   "metadata": {},
   "outputs": [
    {
     "name": "stdout",
     "output_type": "stream",
     "text": [
      "Number of rows: 4818\n",
      "Number of words: 72087\n"
     ]
    }
   ],
   "source": [
    "# AnnoMI\n",
    "with open(annomi_txt, 'r', encoding='utf-8') as file:\n",
    "    num_rows = sum(1 for line in file)\n",
    "    \n",
    "with open(annomi_txt, 'r', encoding='utf-8') as file:\n",
    "    content = file.read()\n",
    "    num_rows = sum(1 for line in content.split('\\n'))\n",
    "    num_words = len(content.split())\n",
    "\n",
    "print(\"Number of rows:\", num_rows)\n",
    "print(\"Number of words:\", num_words)"
   ]
  },
  {
   "cell_type": "code",
   "execution_count": 15,
   "metadata": {},
   "outputs": [
    {
     "name": "stdout",
     "output_type": "stream",
     "text": [
      "Number of rows: 6384\n",
      "Number of words: 132942\n"
     ]
    }
   ],
   "source": [
    "# Hope\n",
    "with open(hope_txt, 'r', encoding='utf-8') as file:\n",
    "    content = file.read()\n",
    "    num_rows = sum(1 for line in content.split('\\n'))\n",
    "    num_words = len(content.split())\n",
    "    \n",
    "print(\"Number of rows:\", num_rows)\n",
    "print(\"Number of words:\", num_words)"
   ]
  },
  {
   "cell_type": "code",
   "execution_count": 16,
   "metadata": {},
   "outputs": [
    {
     "name": "stdout",
     "output_type": "stream",
     "text": [
      "Number of rows: 26084\n",
      "Number of words: 360488\n"
     ]
    }
   ],
   "source": [
    "# daic-woz\n",
    "with open(daicwoz_txt, 'r', encoding='utf-8') as file:\n",
    "    content = file.read()\n",
    "    num_rows = sum(1 for line in content.split('\\n'))\n",
    "    num_words = len(content.split())\n",
    "    \n",
    "print(\"Number of rows:\", num_rows)\n",
    "print(\"Number of words:\", num_words)"
   ]
  }
 ],
 "metadata": {
  "kernelspec": {
   "display_name": "venv",
   "language": "python",
   "name": "python3"
  },
  "language_info": {
   "codemirror_mode": {
    "name": "ipython",
    "version": 3
   },
   "file_extension": ".py",
   "mimetype": "text/x-python",
   "name": "python",
   "nbconvert_exporter": "python",
   "pygments_lexer": "ipython3",
   "version": "3.11.7"
  }
 },
 "nbformat": 4,
 "nbformat_minor": 2
}
