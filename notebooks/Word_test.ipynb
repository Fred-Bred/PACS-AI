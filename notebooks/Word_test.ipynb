{
 "cells": [
  {
   "cell_type": "code",
   "execution_count": 33,
   "metadata": {},
   "outputs": [],
   "source": [
    "from docx import Document\n",
    "from docx.oxml.ns import nsdecls\n",
    "from docx.oxml import parse_xml\n",
    "import pandas as pd\n",
    "from sklearn.feature_extraction.text import CountVectorizer, TfidfVectorizer\n",
    "\n",
    "import xml.etree.ElementTree as ET\n",
    "from docx.opc.constants import RELATIONSHIP_TYPE as RT\n",
    "\n",
    "from lxml import etree\n",
    "import zipfile"
   ]
  },
  {
   "cell_type": "code",
   "execution_count": 31,
   "metadata": {},
   "outputs": [],
   "source": [
    "def extract_comments(filename):\n",
    "    doc = Document(filename)\n",
    "    try:\n",
    "        comments_part = doc.part.package.part_related_by('http://schemas.openxmlformats.org/officeDocument/2006/relationships/comments')\n",
    "    except KeyError:\n",
    "        return []\n",
    "    root = ET.fromstring(comments_part.blob)\n",
    "    comments = [elem.text for elem in root.iter() if elem.tag.endswith('comment')]\n",
    "    return comments"
   ]
  },
  {
   "cell_type": "code",
   "execution_count": 34,
   "metadata": {},
   "outputs": [],
   "source": [
    "ooXMLns = {'w':'http://schemas.openxmlformats.org/wordprocessingml/2006/main'}\n",
    "#Function to extract all the comments of document(Same as accepted answer)\n",
    "#Returns a dictionary with comment id as key and comment string as value\n",
    "def get_document_comments(docxFileName):\n",
    "    comments_dict={}\n",
    "    docxZip = zipfile.ZipFile(docxFileName)\n",
    "    commentsXML = docxZip.read('word/comments.xml')\n",
    "    et = etree.XML(commentsXML)\n",
    "    comments = et.xpath('//w:comment',namespaces=ooXMLns)\n",
    "    for c in comments:\n",
    "        comment=c.xpath('string(.)',namespaces=ooXMLns)\n",
    "        comment_id=c.xpath('@w:id',namespaces=ooXMLns)[0]\n",
    "        comments_dict[comment_id]=comment\n",
    "    return comments_dict"
   ]
  },
  {
   "cell_type": "code",
   "execution_count": 36,
   "metadata": {},
   "outputs": [],
   "source": [
    "#Function to fetch all the comments in a paragraph\n",
    "def paragraph_comments(paragraph,comments_dict):\n",
    "    comments=[]\n",
    "    for run in paragraph.runs:\n",
    "        comment_reference=run._r.xpath(\"./w:commentReference\")\n",
    "        if comment_reference:\n",
    "            comment_id=comment_reference[0].xpath('@w:id',namespaces=ooXMLns)[0]\n",
    "            comment=comments_dict[comment_id]\n",
    "            comments.append(comment)\n",
    "    return comments"
   ]
  },
  {
   "cell_type": "code",
   "execution_count": 35,
   "metadata": {},
   "outputs": [],
   "source": [
    "def comments_with_reference_paragraph(docxFileName):\n",
    "    document = Document(docxFileName)\n",
    "    comments_dict=get_document_comments(docxFileName)\n",
    "    comments_with_their_reference_paragraph=[]\n",
    "    for paragraph in document.paragraphs:  \n",
    "        if comments_dict: \n",
    "            comments=paragraph_comments(paragraph,comments_dict)  \n",
    "            if comments:\n",
    "                comments_with_their_reference_paragraph.append({paragraph.text: comments})\n",
    "    return comments_with_their_reference_paragraph"
   ]
  },
  {
   "cell_type": "code",
   "execution_count": 62,
   "metadata": {},
   "outputs": [],
   "source": [
    "path_A = r\"C:\\Users\\frbre\\OneDrive\\01 Dokumenter\\01 Uni\\SDS Thesis\\data\\Word_test\\Lorem ipsum_A.docx\"\n",
    "path_B = \"C:/Users/frbre/OneDrive/01 Dokumenter/01 Uni/SDS Thesis/data/Word_test/Lorem ipsum_B.docx\"\n",
    "path_C = \".\\data\\Word_test\\Lorem ipsum dolor_C.docx\""
   ]
  },
  {
   "cell_type": "code",
   "execution_count": 37,
   "metadata": {},
   "outputs": [
    {
     "data": {
      "text/plain": [
       "{'0': '35', '1': '02', '2': '28', '3': '04'}"
      ]
     },
     "execution_count": 37,
     "metadata": {},
     "output_type": "execute_result"
    }
   ],
   "source": [
    "doc_A = get_document_comments(path_A)\n",
    "doc_A"
   ]
  },
  {
   "cell_type": "code",
   "execution_count": 39,
   "metadata": {},
   "outputs": [
    {
     "data": {
      "text/plain": [
       "[{'Lorem ipsum dolor sit amet, consectetur adipiscing elit. Nullam vehicula tellus ut sem rhoncus sodales. Mauris porta ultricies ligula, sit amet placerat diam tristique nec. Nullam id orci efficitur justo fringilla malesuada in eu tortor. Maecenas lectus sem, porta in sapien vel, finibus dictum tellus. Pellentesque aliquam elit in tellus efficitur rhoncus. Integer id lacinia nisi, non elementum quam. Proin eros nunc, aliquet eget blandit in, efficitur et lacus. Mauris egestas ultrices lacus sit amet consectetur. Lorem ipsum dolor sit amet, consectetur adipiscing elit. Nunc at diam quis nulla rhoncus aliquet. Suspendisse in elit non nibh porttitor gravida nec eget velit. Etiam rutrum bibendum nulla, vel pellentesque sem. Vivamus aliquet vitae ipsum ut auctor. Vestibulum bibendum condimentum turpis sit amet laoreet. Nunc fermentum blandit sapien, sed pulvinar lorem laoreet id. Suspendisse vitae sagittis dolor, a viverra turpis. ': ['35']},\n",
       " {'Sed tristique at neque ut porttitor. Nullam ut mollis arcu. Aenean eget ex placerat, pellentesque lorem vitae, pharetra diam. Donec auctor felis nec sodales viverra. Fusce hendrerit vestibulum ante, eu mattis sapien porttitor ornare. Sed vehicula augue quis bibendum accumsan. Interdum et malesuada fames ac ante ipsum primis in faucibus. Vivamus sed ligula ut quam fringilla finibus ut in nisl. Nunc maximus lorem ac urna venenatis, viverra consectetur arcu aliquam. Maecenas lorem felis, dignissim pretium lobortis eget, convallis vitae est. Vestibulum egestas nisl mauris. Suspendisse ullamcorper, neque nec volutpat rutrum, nisi erat volutpat nisi, sit amet consequat quam metus vel nisi. Phasellus ac ex dui. ': ['02']},\n",
       " {'Nulla facilisi. Donec eu tellus nunc. In pellentesque, tellus at ullamcorper ultricies, odio ex sodales est, nec laoreet enim neque non justo. Curabitur cursus vel tortor congue posuere. Donec condimentum auctor pulvinar. Nunc nec cursus quam. Ut congue dui aliquet semper porta. Mauris vitae tellus metus. Nullam sed augue sed tellus tristique dapibus. Nulla suscipit purus enim, in auctor libero gravida ac. Etiam semper massa at eros luctus, at tincidunt libero dictum. ': ['28']},\n",
       " {'Sed rutrum, eros quis tempus luctus, magna neque tempus magna, nec scelerisque tortor erat non lectus. Mauris sit amet tellus mauris. Nunc ex lorem, cursus et leo eu, posuere vulputate enim. Quisque placerat ut nibh ut tincidunt. Donec nunc sem, ultrices in dui vitae, ornare volutpat erat. Sed dictum ligula in metus ultrices, vitae pretium erat vestibulum. Cras at euismod odio, at tincidunt nisl. Morbi nulla nibh, finibus sed consequat quis, dignissim ac turpis. Integer vulputate ex id velit tincidunt posuere. Duis pulvinar, risus ac ultricies lacinia, augue ligula varius sem, sed ultrices mauris lacus id sem. Cras placerat elit a convallis aliquet. Duis egestas faucibus orci, vel venenatis eros suscipit eu. Quisque laoreet leo nec metus eleifend, viverra tempus dolor euismod. Nulla et consectetur lacus, nec venenatis velit. Pellentesque turpis orci, tempor in augue sed, malesuada aliquam tellus. Vivamus faucibus libero eu ligula convallis mattis. ': ['04']}]"
      ]
     },
     "execution_count": 39,
     "metadata": {},
     "output_type": "execute_result"
    }
   ],
   "source": [
    "ref_doc_A = comments_with_reference_paragraph(path_A)\n",
    "ref_doc_A"
   ]
  },
  {
   "cell_type": "code",
   "execution_count": 63,
   "metadata": {},
   "outputs": [
    {
     "data": {
      "text/plain": [
       "{'0': '08', '1': '11', '2': '25', '3': '01', '4': '34', '5': '17'}"
      ]
     },
     "execution_count": 63,
     "metadata": {},
     "output_type": "execute_result"
    }
   ],
   "source": [
    "doc_B = get_document_comments(path_B)\n",
    "doc_B"
   ]
  },
  {
   "cell_type": "code",
   "execution_count": 64,
   "metadata": {},
   "outputs": [
    {
     "data": {
      "text/plain": [
       "[{'Lorem ipsum dolor sit amet, consectetur adipiscing elit. Donec at molestie nisl, malesuada tempus lectus. Mauris feugiat rutrum mauris, in dictum est volutpat a. Pellentesque dictum metus id mi aliquam ultrices. Donec nec est et magna mollis consectetur. Sed tincidunt magna in enim efficitur ullamcorper. Proin facilisis eleifend urna, eget fermentum odio eleifend a. Integer molestie facilisis nulla vitae mattis. Cras non pretium arcu. Nulla facilisi. Morbi quis commodo libero. ': ['08']},\n",
       " {'Cras mattis ipsum ac nisi suscipit, quis semper lectus porta. Aliquam erat volutpat. Quisque ac sem tempor mauris hendrerit consectetur. Vestibulum volutpat lorem vel nisi ullamcorper semper. Vestibulum eget tortor a ligula semper rhoncus non ut sem. Curabitur scelerisque mollis euismod. In interdum laoreet purus ut sollicitudin. Phasellus ut tempor dolor. Interdum et malesuada fames ac ante ipsum primis in faucibus. Nam interdum lacus sed mi dictum euismod. ': ['11']},\n",
       " {'Aliquam ac mauris eu est dapibus imperdiet quis ac nisi. Ut faucibus pharetra est eget porttitor. Vestibulum quis dapibus purus, vitae euismod est. Pellentesque molestie turpis enim, vitae aliquam ligula auctor nec. Maecenas dui nisi, varius eget convallis eget, gravida a est. Aliquam vel libero non lectus rhoncus imperdiet. Mauris fringilla magna ullamcorper enim cursus rutrum. In augue enim, ultricies in laoreet tincidunt, condimentum eu enim. Cras feugiat rutrum consectetur. Suspendisse potenti. Fusce dignissim magna vehicula magna mollis, eget fermentum libero pretium. Fusce mattis sit amet nulla id tempor. Mauris fermentum efficitur accumsan. Duis eu iaculis mi. ': ['25']},\n",
       " {'Morbi ultricies luctus arcu in maximus. Sed ac turpis eu est efficitur scelerisque in sed elit. Vestibulum fringilla justo sapien, eu facilisis neque eleifend id. Quisque vel ante condimentum dolor scelerisque gravida. Interdum et malesuada fames ac ante ipsum primis in faucibus. Sed ultricies ipsum a justo volutpat, quis laoreet tellus venenatis. Aenean leo erat, blandit suscipit turpis quis, feugiat cursus eros. Fusce laoreet nibh libero, in interdum lacus aliquet eu. Fusce at pretium dolor. ': ['01']},\n",
       " {'In lacinia risus ac lacus lobortis, vel dapibus eros consectetur. Etiam lobortis ex ac risus luctus scelerisque. Proin vel purus tempor, bibendum diam at, rhoncus elit. Vivamus vitae ex quis nunc consequat dictum condimentum ac urna. Pellentesque eu arcu at tortor consequat tristique. Nullam sagittis semper felis at interdum. Quisque finibus id quam at ultrices. Praesent vel odio purus. Cras id consequat dolor, eu ullamcorper leo. ': ['34']},\n",
       " {'Sed porttitor dui non massa interdum placerat. Etiam iaculis est eu sapien sollicitudin condimentum. Sed et velit neque. Nunc at aliquam orci, et volutpat lorem. Nulla semper vel nibh sit amet tempor. Phasellus dapibus arcu quis ultricies bibendum. Quisque nulla ligula, fringilla vitae lacus ac, tincidunt tincidunt tellus. Phasellus consectetur accumsan iaculis. Phasellus semper ipsum sed lorem ultricies elementum. Aenean vestibulum urna condimentum ex bibendum, a maximus quam semper. Quisque dui eros, pretium non facilisis non, fermentum suscipit dolor. Nulla pharetra aliquet tortor quis accumsan. ': ['17']}]"
      ]
     },
     "execution_count": 64,
     "metadata": {},
     "output_type": "execute_result"
    }
   ],
   "source": [
    "ref_doc_B = comments_with_reference_paragraph(path_B)\n",
    "ref_doc_B"
   ]
  }
 ],
 "metadata": {
  "kernelspec": {
   "display_name": "venv",
   "language": "python",
   "name": "python3"
  },
  "language_info": {
   "codemirror_mode": {
    "name": "ipython",
    "version": 3
   },
   "file_extension": ".py",
   "mimetype": "text/x-python",
   "name": "python",
   "nbconvert_exporter": "python",
   "pygments_lexer": "ipython3",
   "version": "3.10.4"
  }
 },
 "nbformat": 4,
 "nbformat_minor": 2
}
